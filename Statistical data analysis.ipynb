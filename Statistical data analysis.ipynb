{
 "cells": [
  {
   "cell_type": "markdown",
   "metadata": {},
   "source": [
    "# Статистический анализ данных"
   ]
  },
  {
   "cell_type": "markdown",
   "metadata": {},
   "source": [
    "### Цель проекта\n",
    "Проанализировать данные о некоторых пользователях из нескольких городов, а также об их поездках и проверить некоторые гипотезы, которые могут помочь бизнесу вырасти."
   ]
  },
  {
   "cell_type": "markdown",
   "metadata": {},
   "source": [
    "### Описание данных\n",
    "**Основные данные:** информация о пользователях, их поездках и подписках.\n",
    "\n",
    "**Пользователи — users_go.csv**\n",
    "\n",
    "- user_id - уникальный идентификатор пользователя\n",
    "- name - имя пользователя\n",
    "- age -\tвозраст\n",
    "- city - город\n",
    "- subscription_type - тип подписки (free, ultra)\n",
    "\n",
    "**Поездки — rides_go.csv**\n",
    "\n",
    "- user_id - уникальный идентификатор пользователя\n",
    "- distance - расстояние, которое пользователь проехал в текущей сессии (в метрах)\n",
    "- duration - продолжительность сессии (в минутах) — время с того момента, как пользователь нажал кнопку «Начать поездку» до момента, как он нажал кнопку «Завершить поездку»\n",
    "- date - дата совершения поездки\n",
    "\n",
    "**Подписки — subscriptions_go.csv**\n",
    "\n",
    "- subscription_type - тип подписки\n",
    "- minute_price - стоимость одной минуты поездки по данной подписке\n",
    "- start_ride_price - стоимость начала поездки\n",
    "- subscription_fee - стоимость ежемесячного платежа"
   ]
  },
  {
   "cell_type": "markdown",
   "metadata": {
    "id": "wfDiKSRElPcD"
   },
   "source": [
    "# План проекта\n",
    "1. Загрузка данных\n",
    "2. Предобработка данных\n",
    "3. Исследовательский анализ данных\n",
    "4. Объединение данных\n",
    "5. Подсчёт выручки\n",
    "6. Проверка гипотез\n",
    "7. Распределения\n",
    "8. Выводы"
   ]
  },
  {
   "cell_type": "markdown",
   "metadata": {},
   "source": [
    "----------------------"
   ]
  },
  {
   "cell_type": "markdown",
   "metadata": {
    "id": "RqjT0w8tlrwv"
   },
   "source": [
    "## Загрузка данных"
   ]
  },
  {
   "cell_type": "code",
   "execution_count": 1,
   "metadata": {
    "id": "sHO3hNgJGNd2"
   },
   "outputs": [],
   "source": [
    "# импорт библиотек\n",
    "import pandas as pd\n",
    "import matplotlib.pyplot as plt\n",
    "from scipy import stats as st\n",
    "import numpy as np"
   ]
  },
  {
   "cell_type": "code",
   "execution_count": 2,
   "metadata": {
    "id": "O2qbONEoGqYy"
   },
   "outputs": [],
   "source": [
    "# чтение данных\n",
    "try:\n",
    "    data_rides = pd.read_csv('/content/drive/MyDrive/Colab Notebooks/Yandex/rides_go.csv')\n",
    "    data_subscriptions = pd.read_csv('/content/drive/MyDrive/Colab Notebooks/Yandex/subscriptions_go.csv')\n",
    "    data_users = pd.read_csv('/content/drive/MyDrive/Colab Notebooks/Yandex/users_go.csv')\n",
    "except:\n",
    "    data_rides = pd.read_csv('/datasets/rides_go.csv')\n",
    "    data_subscriptions = pd.read_csv('/datasets/subscriptions_go.csv')\n",
    "    data_users = pd.read_csv('/datasets/users_go.csv')"
   ]
  },
  {
   "cell_type": "markdown",
   "metadata": {
    "id": "mKodSxYioeW-"
   },
   "source": [
    "### Изучение данных о пользователях"
   ]
  },
  {
   "cell_type": "code",
   "execution_count": 3,
   "metadata": {
    "colab": {
     "base_uri": "https://localhost:8080/",
     "height": 677
    },
    "id": "REIsn-HIo6lU",
    "outputId": "caec7450-0589-4fae-b0ad-00b965ba1f5e"
   },
   "outputs": [
    {
     "data": {
      "text/html": [
       "<div>\n",
       "<style scoped>\n",
       "    .dataframe tbody tr th:only-of-type {\n",
       "        vertical-align: middle;\n",
       "    }\n",
       "\n",
       "    .dataframe tbody tr th {\n",
       "        vertical-align: top;\n",
       "    }\n",
       "\n",
       "    .dataframe thead th {\n",
       "        text-align: right;\n",
       "    }\n",
       "</style>\n",
       "<table border=\"1\" class=\"dataframe\">\n",
       "  <thead>\n",
       "    <tr style=\"text-align: right;\">\n",
       "      <th></th>\n",
       "      <th>user_id</th>\n",
       "      <th>name</th>\n",
       "      <th>age</th>\n",
       "      <th>city</th>\n",
       "      <th>subscription_type</th>\n",
       "    </tr>\n",
       "  </thead>\n",
       "  <tbody>\n",
       "    <tr>\n",
       "      <th>0</th>\n",
       "      <td>1</td>\n",
       "      <td>Кира</td>\n",
       "      <td>22</td>\n",
       "      <td>Тюмень</td>\n",
       "      <td>ultra</td>\n",
       "    </tr>\n",
       "    <tr>\n",
       "      <th>1</th>\n",
       "      <td>2</td>\n",
       "      <td>Станислав</td>\n",
       "      <td>31</td>\n",
       "      <td>Омск</td>\n",
       "      <td>ultra</td>\n",
       "    </tr>\n",
       "    <tr>\n",
       "      <th>2</th>\n",
       "      <td>3</td>\n",
       "      <td>Алексей</td>\n",
       "      <td>20</td>\n",
       "      <td>Москва</td>\n",
       "      <td>ultra</td>\n",
       "    </tr>\n",
       "    <tr>\n",
       "      <th>3</th>\n",
       "      <td>4</td>\n",
       "      <td>Константин</td>\n",
       "      <td>26</td>\n",
       "      <td>Ростов-на-Дону</td>\n",
       "      <td>ultra</td>\n",
       "    </tr>\n",
       "    <tr>\n",
       "      <th>4</th>\n",
       "      <td>5</td>\n",
       "      <td>Адель</td>\n",
       "      <td>28</td>\n",
       "      <td>Омск</td>\n",
       "      <td>ultra</td>\n",
       "    </tr>\n",
       "    <tr>\n",
       "      <th>5</th>\n",
       "      <td>6</td>\n",
       "      <td>Регина</td>\n",
       "      <td>25</td>\n",
       "      <td>Краснодар</td>\n",
       "      <td>ultra</td>\n",
       "    </tr>\n",
       "    <tr>\n",
       "      <th>6</th>\n",
       "      <td>7</td>\n",
       "      <td>Игорь</td>\n",
       "      <td>23</td>\n",
       "      <td>Омск</td>\n",
       "      <td>ultra</td>\n",
       "    </tr>\n",
       "    <tr>\n",
       "      <th>7</th>\n",
       "      <td>8</td>\n",
       "      <td>Юрий</td>\n",
       "      <td>23</td>\n",
       "      <td>Краснодар</td>\n",
       "      <td>ultra</td>\n",
       "    </tr>\n",
       "    <tr>\n",
       "      <th>8</th>\n",
       "      <td>9</td>\n",
       "      <td>Ян</td>\n",
       "      <td>21</td>\n",
       "      <td>Пятигорск</td>\n",
       "      <td>ultra</td>\n",
       "    </tr>\n",
       "    <tr>\n",
       "      <th>9</th>\n",
       "      <td>10</td>\n",
       "      <td>Валерий</td>\n",
       "      <td>18</td>\n",
       "      <td>Екатеринбург</td>\n",
       "      <td>ultra</td>\n",
       "    </tr>\n",
       "    <tr>\n",
       "      <th>10</th>\n",
       "      <td>11</td>\n",
       "      <td>Агата</td>\n",
       "      <td>31</td>\n",
       "      <td>Краснодар</td>\n",
       "      <td>ultra</td>\n",
       "    </tr>\n",
       "    <tr>\n",
       "      <th>11</th>\n",
       "      <td>12</td>\n",
       "      <td>Марк</td>\n",
       "      <td>27</td>\n",
       "      <td>Тюмень</td>\n",
       "      <td>ultra</td>\n",
       "    </tr>\n",
       "    <tr>\n",
       "      <th>12</th>\n",
       "      <td>13</td>\n",
       "      <td>Ева</td>\n",
       "      <td>24</td>\n",
       "      <td>Краснодар</td>\n",
       "      <td>ultra</td>\n",
       "    </tr>\n",
       "    <tr>\n",
       "      <th>13</th>\n",
       "      <td>14</td>\n",
       "      <td>Антонина</td>\n",
       "      <td>18</td>\n",
       "      <td>Пятигорск</td>\n",
       "      <td>ultra</td>\n",
       "    </tr>\n",
       "    <tr>\n",
       "      <th>14</th>\n",
       "      <td>15</td>\n",
       "      <td>Валерия</td>\n",
       "      <td>24</td>\n",
       "      <td>Тюмень</td>\n",
       "      <td>ultra</td>\n",
       "    </tr>\n",
       "    <tr>\n",
       "      <th>15</th>\n",
       "      <td>16</td>\n",
       "      <td>Амалия</td>\n",
       "      <td>27</td>\n",
       "      <td>Краснодар</td>\n",
       "      <td>ultra</td>\n",
       "    </tr>\n",
       "    <tr>\n",
       "      <th>16</th>\n",
       "      <td>17</td>\n",
       "      <td>Даниил</td>\n",
       "      <td>29</td>\n",
       "      <td>Москва</td>\n",
       "      <td>ultra</td>\n",
       "    </tr>\n",
       "    <tr>\n",
       "      <th>17</th>\n",
       "      <td>18</td>\n",
       "      <td>Аделина</td>\n",
       "      <td>24</td>\n",
       "      <td>Сочи</td>\n",
       "      <td>ultra</td>\n",
       "    </tr>\n",
       "    <tr>\n",
       "      <th>18</th>\n",
       "      <td>19</td>\n",
       "      <td>Регина</td>\n",
       "      <td>32</td>\n",
       "      <td>Тюмень</td>\n",
       "      <td>ultra</td>\n",
       "    </tr>\n",
       "    <tr>\n",
       "      <th>19</th>\n",
       "      <td>20</td>\n",
       "      <td>Игорь</td>\n",
       "      <td>23</td>\n",
       "      <td>Омск</td>\n",
       "      <td>ultra</td>\n",
       "    </tr>\n",
       "  </tbody>\n",
       "</table>\n",
       "</div>"
      ],
      "text/plain": [
       "    user_id        name  age            city subscription_type\n",
       "0         1        Кира   22          Тюмень             ultra\n",
       "1         2   Станислав   31            Омск             ultra\n",
       "2         3     Алексей   20          Москва             ultra\n",
       "3         4  Константин   26  Ростов-на-Дону             ultra\n",
       "4         5       Адель   28            Омск             ultra\n",
       "5         6      Регина   25       Краснодар             ultra\n",
       "6         7       Игорь   23            Омск             ultra\n",
       "7         8        Юрий   23       Краснодар             ultra\n",
       "8         9          Ян   21       Пятигорск             ultra\n",
       "9        10     Валерий   18    Екатеринбург             ultra\n",
       "10       11       Агата   31       Краснодар             ultra\n",
       "11       12        Марк   27          Тюмень             ultra\n",
       "12       13         Ева   24       Краснодар             ultra\n",
       "13       14    Антонина   18       Пятигорск             ultra\n",
       "14       15     Валерия   24          Тюмень             ultra\n",
       "15       16      Амалия   27       Краснодар             ultra\n",
       "16       17      Даниил   29          Москва             ultra\n",
       "17       18     Аделина   24            Сочи             ultra\n",
       "18       19      Регина   32          Тюмень             ultra\n",
       "19       20       Игорь   23            Омск             ultra"
      ]
     },
     "execution_count": 3,
     "metadata": {},
     "output_type": "execute_result"
    }
   ],
   "source": [
    "data_users.head(20)"
   ]
  },
  {
   "cell_type": "code",
   "execution_count": 4,
   "metadata": {
    "colab": {
     "base_uri": "https://localhost:8080/"
    },
    "id": "23kGd_7So73P",
    "outputId": "bbb96351-9774-4e00-a771-9ef67dc171bb"
   },
   "outputs": [
    {
     "name": "stdout",
     "output_type": "stream",
     "text": [
      "<class 'pandas.core.frame.DataFrame'>\n",
      "RangeIndex: 1565 entries, 0 to 1564\n",
      "Data columns (total 5 columns):\n",
      " #   Column             Non-Null Count  Dtype \n",
      "---  ------             --------------  ----- \n",
      " 0   user_id            1565 non-null   int64 \n",
      " 1   name               1565 non-null   object\n",
      " 2   age                1565 non-null   int64 \n",
      " 3   city               1565 non-null   object\n",
      " 4   subscription_type  1565 non-null   object\n",
      "dtypes: int64(2), object(3)\n",
      "memory usage: 61.3+ KB\n"
     ]
    }
   ],
   "source": [
    "data_users.info()"
   ]
  },
  {
   "cell_type": "code",
   "execution_count": 5,
   "metadata": {
    "colab": {
     "base_uri": "https://localhost:8080/"
    },
    "id": "uw9ZjsnRq0uJ",
    "outputId": "0f9479dd-74c0-40ba-f48b-cf815f951b61"
   },
   "outputs": [
    {
     "data": {
      "text/plain": [
       "user_id\n",
       "1       1\n",
       "2       1\n",
       "3       1\n",
       "4       1\n",
       "5       1\n",
       "       ..\n",
       "1530    1\n",
       "1531    1\n",
       "1532    1\n",
       "1533    1\n",
       "1534    1\n",
       "Name: user_id, Length: 1534, dtype: int64"
      ]
     },
     "execution_count": 5,
     "metadata": {},
     "output_type": "execute_result"
    }
   ],
   "source": [
    "data_users.groupby('user_id')['user_id'].count()"
   ]
  },
  {
   "cell_type": "markdown",
   "metadata": {
    "id": "2OpGhSYPniLx"
   },
   "source": [
    "### Изучение данных о поездках"
   ]
  },
  {
   "cell_type": "code",
   "execution_count": 6,
   "metadata": {
    "colab": {
     "base_uri": "https://localhost:8080/",
     "height": 677
    },
    "id": "QkZezbWfHs9s",
    "outputId": "5ddf4c17-ad87-49bb-95f2-cf951d8aa191"
   },
   "outputs": [
    {
     "data": {
      "text/html": [
       "<div>\n",
       "<style scoped>\n",
       "    .dataframe tbody tr th:only-of-type {\n",
       "        vertical-align: middle;\n",
       "    }\n",
       "\n",
       "    .dataframe tbody tr th {\n",
       "        vertical-align: top;\n",
       "    }\n",
       "\n",
       "    .dataframe thead th {\n",
       "        text-align: right;\n",
       "    }\n",
       "</style>\n",
       "<table border=\"1\" class=\"dataframe\">\n",
       "  <thead>\n",
       "    <tr style=\"text-align: right;\">\n",
       "      <th></th>\n",
       "      <th>user_id</th>\n",
       "      <th>distance</th>\n",
       "      <th>duration</th>\n",
       "      <th>date</th>\n",
       "    </tr>\n",
       "  </thead>\n",
       "  <tbody>\n",
       "    <tr>\n",
       "      <th>0</th>\n",
       "      <td>1</td>\n",
       "      <td>4409.919140</td>\n",
       "      <td>25.599769</td>\n",
       "      <td>2021-01-01</td>\n",
       "    </tr>\n",
       "    <tr>\n",
       "      <th>1</th>\n",
       "      <td>1</td>\n",
       "      <td>2617.592153</td>\n",
       "      <td>15.816871</td>\n",
       "      <td>2021-01-18</td>\n",
       "    </tr>\n",
       "    <tr>\n",
       "      <th>2</th>\n",
       "      <td>1</td>\n",
       "      <td>754.159807</td>\n",
       "      <td>6.232113</td>\n",
       "      <td>2021-04-20</td>\n",
       "    </tr>\n",
       "    <tr>\n",
       "      <th>3</th>\n",
       "      <td>1</td>\n",
       "      <td>2694.783254</td>\n",
       "      <td>18.511000</td>\n",
       "      <td>2021-08-11</td>\n",
       "    </tr>\n",
       "    <tr>\n",
       "      <th>4</th>\n",
       "      <td>1</td>\n",
       "      <td>4028.687306</td>\n",
       "      <td>26.265803</td>\n",
       "      <td>2021-08-28</td>\n",
       "    </tr>\n",
       "    <tr>\n",
       "      <th>5</th>\n",
       "      <td>1</td>\n",
       "      <td>2770.890808</td>\n",
       "      <td>16.650138</td>\n",
       "      <td>2021-10-09</td>\n",
       "    </tr>\n",
       "    <tr>\n",
       "      <th>6</th>\n",
       "      <td>1</td>\n",
       "      <td>3039.020292</td>\n",
       "      <td>14.927879</td>\n",
       "      <td>2021-10-19</td>\n",
       "    </tr>\n",
       "    <tr>\n",
       "      <th>7</th>\n",
       "      <td>1</td>\n",
       "      <td>2842.118050</td>\n",
       "      <td>23.117468</td>\n",
       "      <td>2021-11-06</td>\n",
       "    </tr>\n",
       "    <tr>\n",
       "      <th>8</th>\n",
       "      <td>1</td>\n",
       "      <td>3412.690668</td>\n",
       "      <td>15.238072</td>\n",
       "      <td>2021-11-14</td>\n",
       "    </tr>\n",
       "    <tr>\n",
       "      <th>9</th>\n",
       "      <td>1</td>\n",
       "      <td>748.690645</td>\n",
       "      <td>15.041884</td>\n",
       "      <td>2021-11-22</td>\n",
       "    </tr>\n",
       "    <tr>\n",
       "      <th>10</th>\n",
       "      <td>1</td>\n",
       "      <td>4031.020195</td>\n",
       "      <td>17.674448</td>\n",
       "      <td>2021-12-14</td>\n",
       "    </tr>\n",
       "    <tr>\n",
       "      <th>11</th>\n",
       "      <td>1</td>\n",
       "      <td>2720.609748</td>\n",
       "      <td>9.529463</td>\n",
       "      <td>2021-12-22</td>\n",
       "    </tr>\n",
       "    <tr>\n",
       "      <th>12</th>\n",
       "      <td>2</td>\n",
       "      <td>3105.086678</td>\n",
       "      <td>24.307514</td>\n",
       "      <td>2021-03-15</td>\n",
       "    </tr>\n",
       "    <tr>\n",
       "      <th>13</th>\n",
       "      <td>2</td>\n",
       "      <td>3053.519401</td>\n",
       "      <td>11.543256</td>\n",
       "      <td>2021-03-18</td>\n",
       "    </tr>\n",
       "    <tr>\n",
       "      <th>14</th>\n",
       "      <td>2</td>\n",
       "      <td>4029.116927</td>\n",
       "      <td>25.109188</td>\n",
       "      <td>2021-03-23</td>\n",
       "    </tr>\n",
       "    <tr>\n",
       "      <th>15</th>\n",
       "      <td>2</td>\n",
       "      <td>2805.786329</td>\n",
       "      <td>20.652145</td>\n",
       "      <td>2021-04-08</td>\n",
       "    </tr>\n",
       "    <tr>\n",
       "      <th>16</th>\n",
       "      <td>2</td>\n",
       "      <td>3358.595495</td>\n",
       "      <td>18.396489</td>\n",
       "      <td>2021-04-13</td>\n",
       "    </tr>\n",
       "    <tr>\n",
       "      <th>17</th>\n",
       "      <td>2</td>\n",
       "      <td>3255.338202</td>\n",
       "      <td>13.851127</td>\n",
       "      <td>2021-06-20</td>\n",
       "    </tr>\n",
       "    <tr>\n",
       "      <th>18</th>\n",
       "      <td>2</td>\n",
       "      <td>3942.817648</td>\n",
       "      <td>20.142725</td>\n",
       "      <td>2021-07-02</td>\n",
       "    </tr>\n",
       "    <tr>\n",
       "      <th>19</th>\n",
       "      <td>2</td>\n",
       "      <td>2837.905316</td>\n",
       "      <td>26.027432</td>\n",
       "      <td>2021-07-18</td>\n",
       "    </tr>\n",
       "  </tbody>\n",
       "</table>\n",
       "</div>"
      ],
      "text/plain": [
       "    user_id     distance   duration        date\n",
       "0         1  4409.919140  25.599769  2021-01-01\n",
       "1         1  2617.592153  15.816871  2021-01-18\n",
       "2         1   754.159807   6.232113  2021-04-20\n",
       "3         1  2694.783254  18.511000  2021-08-11\n",
       "4         1  4028.687306  26.265803  2021-08-28\n",
       "5         1  2770.890808  16.650138  2021-10-09\n",
       "6         1  3039.020292  14.927879  2021-10-19\n",
       "7         1  2842.118050  23.117468  2021-11-06\n",
       "8         1  3412.690668  15.238072  2021-11-14\n",
       "9         1   748.690645  15.041884  2021-11-22\n",
       "10        1  4031.020195  17.674448  2021-12-14\n",
       "11        1  2720.609748   9.529463  2021-12-22\n",
       "12        2  3105.086678  24.307514  2021-03-15\n",
       "13        2  3053.519401  11.543256  2021-03-18\n",
       "14        2  4029.116927  25.109188  2021-03-23\n",
       "15        2  2805.786329  20.652145  2021-04-08\n",
       "16        2  3358.595495  18.396489  2021-04-13\n",
       "17        2  3255.338202  13.851127  2021-06-20\n",
       "18        2  3942.817648  20.142725  2021-07-02\n",
       "19        2  2837.905316  26.027432  2021-07-18"
      ]
     },
     "execution_count": 6,
     "metadata": {},
     "output_type": "execute_result"
    }
   ],
   "source": [
    "data_rides.head(20)"
   ]
  },
  {
   "cell_type": "code",
   "execution_count": 7,
   "metadata": {
    "colab": {
     "base_uri": "https://localhost:8080/"
    },
    "id": "NAsRvNBdnnB6",
    "outputId": "56688eae-7873-45a8-85e0-55ec544d5567"
   },
   "outputs": [
    {
     "name": "stdout",
     "output_type": "stream",
     "text": [
      "<class 'pandas.core.frame.DataFrame'>\n",
      "RangeIndex: 18068 entries, 0 to 18067\n",
      "Data columns (total 4 columns):\n",
      " #   Column    Non-Null Count  Dtype  \n",
      "---  ------    --------------  -----  \n",
      " 0   user_id   18068 non-null  int64  \n",
      " 1   distance  18068 non-null  float64\n",
      " 2   duration  18068 non-null  float64\n",
      " 3   date      18068 non-null  object \n",
      "dtypes: float64(2), int64(1), object(1)\n",
      "memory usage: 564.8+ KB\n"
     ]
    }
   ],
   "source": [
    "data_rides.info()"
   ]
  },
  {
   "cell_type": "markdown",
   "metadata": {
    "id": "QQkfGo5npBLf"
   },
   "source": [
    "### Изучение данных о подписках"
   ]
  },
  {
   "cell_type": "code",
   "execution_count": 8,
   "metadata": {
    "colab": {
     "base_uri": "https://localhost:8080/",
     "height": 112
    },
    "id": "F8vhGzjYpHOb",
    "outputId": "1751cb2d-d596-4170-9e67-a5b348cf29b6"
   },
   "outputs": [
    {
     "data": {
      "text/html": [
       "<div>\n",
       "<style scoped>\n",
       "    .dataframe tbody tr th:only-of-type {\n",
       "        vertical-align: middle;\n",
       "    }\n",
       "\n",
       "    .dataframe tbody tr th {\n",
       "        vertical-align: top;\n",
       "    }\n",
       "\n",
       "    .dataframe thead th {\n",
       "        text-align: right;\n",
       "    }\n",
       "</style>\n",
       "<table border=\"1\" class=\"dataframe\">\n",
       "  <thead>\n",
       "    <tr style=\"text-align: right;\">\n",
       "      <th></th>\n",
       "      <th>subscription_type</th>\n",
       "      <th>minute_price</th>\n",
       "      <th>start_ride_price</th>\n",
       "      <th>subscription_fee</th>\n",
       "    </tr>\n",
       "  </thead>\n",
       "  <tbody>\n",
       "    <tr>\n",
       "      <th>0</th>\n",
       "      <td>free</td>\n",
       "      <td>8</td>\n",
       "      <td>50</td>\n",
       "      <td>0</td>\n",
       "    </tr>\n",
       "    <tr>\n",
       "      <th>1</th>\n",
       "      <td>ultra</td>\n",
       "      <td>6</td>\n",
       "      <td>0</td>\n",
       "      <td>199</td>\n",
       "    </tr>\n",
       "  </tbody>\n",
       "</table>\n",
       "</div>"
      ],
      "text/plain": [
       "  subscription_type  minute_price  start_ride_price  subscription_fee\n",
       "0              free             8                50                 0\n",
       "1             ultra             6                 0               199"
      ]
     },
     "execution_count": 8,
     "metadata": {},
     "output_type": "execute_result"
    }
   ],
   "source": [
    "data_subscriptions"
   ]
  },
  {
   "cell_type": "code",
   "execution_count": 9,
   "metadata": {
    "colab": {
     "base_uri": "https://localhost:8080/"
    },
    "id": "hKhP_HTtpKsC",
    "outputId": "5bb70d67-a22f-40ab-c989-acbb9c2827fc"
   },
   "outputs": [
    {
     "name": "stdout",
     "output_type": "stream",
     "text": [
      "<class 'pandas.core.frame.DataFrame'>\n",
      "RangeIndex: 2 entries, 0 to 1\n",
      "Data columns (total 4 columns):\n",
      " #   Column             Non-Null Count  Dtype \n",
      "---  ------             --------------  ----- \n",
      " 0   subscription_type  2 non-null      object\n",
      " 1   minute_price       2 non-null      int64 \n",
      " 2   start_ride_price   2 non-null      int64 \n",
      " 3   subscription_fee   2 non-null      int64 \n",
      "dtypes: int64(3), object(1)\n",
      "memory usage: 192.0+ bytes\n"
     ]
    }
   ],
   "source": [
    "data_subscriptions.info()"
   ]
  },
  {
   "cell_type": "markdown",
   "metadata": {
    "id": "cjOIWX-DqbIr"
   },
   "source": [
    "### Выводы\n",
    "- Изучена информация о пользователях, условиях подписки и поездках за 2021 год;\n",
    "- В датафрейме data_users сохранена информация о пользователях. Всего 1565 записей;\n",
    "- В датафрейме data_rides сохранена информация о поездках. Всего 18068 записей;\n",
    "- В датафрейме data_subscriptions сохранена информация о подписках. Всего 2 записи о условиях подписки;\n",
    "- Количество записей в users_go.csv больше чем пользователей;\n",
    "- Формат столбца с датой в данных о поедках указан не верно."
   ]
  },
  {
   "cell_type": "markdown",
   "metadata": {
    "id": "olVTPVcelzgV"
   },
   "source": [
    "## Предобработка данных"
   ]
  },
  {
   "cell_type": "code",
   "execution_count": 10,
   "metadata": {
    "id": "FEXsWcSdolJh"
   },
   "outputs": [],
   "source": [
    "# изменение типа данных в столбце с датой в data_rides\n",
    "data_rides['date'] = pd.to_datetime(data_rides['date'], format='%Y-%m-%d')"
   ]
  },
  {
   "cell_type": "code",
   "execution_count": 11,
   "metadata": {
    "id": "LqPD81kSsROK"
   },
   "outputs": [],
   "source": [
    "# создание столбца с месяцем\n",
    "data_rides['month'] = data_rides['date'].dt.month"
   ]
  },
  {
   "cell_type": "code",
   "execution_count": 12,
   "metadata": {},
   "outputs": [
    {
     "data": {
      "text/plain": [
       "2021    18068\n",
       "Name: date, dtype: int64"
      ]
     },
     "execution_count": 12,
     "metadata": {},
     "output_type": "execute_result"
    }
   ],
   "source": [
    "data_rides['date'].dt.year.value_counts()"
   ]
  },
  {
   "cell_type": "markdown",
   "metadata": {
    "id": "YiSgUcujs_Qy"
   },
   "source": [
    "### Проверка пропусков"
   ]
  },
  {
   "cell_type": "code",
   "execution_count": 13,
   "metadata": {
    "colab": {
     "base_uri": "https://localhost:8080/"
    },
    "id": "eIS5tE2cs6Bi",
    "outputId": "9ab4af4b-88e1-461f-fac0-f08e435628bf"
   },
   "outputs": [
    {
     "data": {
      "text/plain": [
       "user_id              0\n",
       "name                 0\n",
       "age                  0\n",
       "city                 0\n",
       "subscription_type    0\n",
       "dtype: int64"
      ]
     },
     "execution_count": 13,
     "metadata": {},
     "output_type": "execute_result"
    }
   ],
   "source": [
    "# проверка пропусков в data_users\n",
    "data_users.isna().sum()"
   ]
  },
  {
   "cell_type": "code",
   "execution_count": 14,
   "metadata": {
    "colab": {
     "base_uri": "https://localhost:8080/"
    },
    "id": "H0LFqF4ztb_D",
    "outputId": "7323f473-5272-4bb0-92a7-090f455da48b"
   },
   "outputs": [
    {
     "data": {
      "text/plain": [
       "user_id     0\n",
       "distance    0\n",
       "duration    0\n",
       "date        0\n",
       "month       0\n",
       "dtype: int64"
      ]
     },
     "execution_count": 14,
     "metadata": {},
     "output_type": "execute_result"
    }
   ],
   "source": [
    "# проверка пропусков в data_rides\n",
    "data_rides.isna().sum()"
   ]
  },
  {
   "cell_type": "code",
   "execution_count": 15,
   "metadata": {
    "colab": {
     "base_uri": "https://localhost:8080/"
    },
    "id": "BdshroltthMn",
    "outputId": "99a40935-43aa-47a4-a545-660236e84186"
   },
   "outputs": [
    {
     "data": {
      "text/plain": [
       "subscription_type    0\n",
       "minute_price         0\n",
       "start_ride_price     0\n",
       "subscription_fee     0\n",
       "dtype: int64"
      ]
     },
     "execution_count": 15,
     "metadata": {},
     "output_type": "execute_result"
    }
   ],
   "source": [
    "# проверка пропусков в data_subscriptions\n",
    "data_subscriptions.isna().sum()"
   ]
  },
  {
   "cell_type": "markdown",
   "metadata": {
    "id": "R02LpKMntofX"
   },
   "source": [
    "### Поиск дубликатов"
   ]
  },
  {
   "cell_type": "code",
   "execution_count": 16,
   "metadata": {
    "colab": {
     "base_uri": "https://localhost:8080/"
    },
    "id": "TNAP5kDGts_Z",
    "outputId": "6f116030-c6af-4277-89f5-07e0cc2172ec"
   },
   "outputs": [
    {
     "data": {
      "text/plain": [
       "False    1534\n",
       "True       31\n",
       "dtype: int64"
      ]
     },
     "execution_count": 16,
     "metadata": {},
     "output_type": "execute_result"
    }
   ],
   "source": [
    "# поиск дубликатов в data_users\n",
    "data_users.duplicated().value_counts()"
   ]
  },
  {
   "cell_type": "code",
   "execution_count": 17,
   "metadata": {
    "colab": {
     "base_uri": "https://localhost:8080/",
     "height": 0
    },
    "id": "VtGZn894uP4a",
    "outputId": "a1989661-65ee-4023-8b26-df01e022de5b"
   },
   "outputs": [
    {
     "data": {
      "text/html": [
       "<div>\n",
       "<style scoped>\n",
       "    .dataframe tbody tr th:only-of-type {\n",
       "        vertical-align: middle;\n",
       "    }\n",
       "\n",
       "    .dataframe tbody tr th {\n",
       "        vertical-align: top;\n",
       "    }\n",
       "\n",
       "    .dataframe thead th {\n",
       "        text-align: right;\n",
       "    }\n",
       "</style>\n",
       "<table border=\"1\" class=\"dataframe\">\n",
       "  <thead>\n",
       "    <tr style=\"text-align: right;\">\n",
       "      <th></th>\n",
       "      <th>user_id</th>\n",
       "      <th>name</th>\n",
       "      <th>age</th>\n",
       "      <th>city</th>\n",
       "      <th>subscription_type</th>\n",
       "    </tr>\n",
       "  </thead>\n",
       "  <tbody>\n",
       "    <tr>\n",
       "      <th>1534</th>\n",
       "      <td>293</td>\n",
       "      <td>Агата</td>\n",
       "      <td>26</td>\n",
       "      <td>Краснодар</td>\n",
       "      <td>ultra</td>\n",
       "    </tr>\n",
       "    <tr>\n",
       "      <th>1535</th>\n",
       "      <td>16</td>\n",
       "      <td>Амалия</td>\n",
       "      <td>27</td>\n",
       "      <td>Краснодар</td>\n",
       "      <td>ultra</td>\n",
       "    </tr>\n",
       "    <tr>\n",
       "      <th>1536</th>\n",
       "      <td>909</td>\n",
       "      <td>Константин</td>\n",
       "      <td>20</td>\n",
       "      <td>Екатеринбург</td>\n",
       "      <td>free</td>\n",
       "    </tr>\n",
       "    <tr>\n",
       "      <th>1537</th>\n",
       "      <td>403</td>\n",
       "      <td>Полина</td>\n",
       "      <td>19</td>\n",
       "      <td>Сочи</td>\n",
       "      <td>ultra</td>\n",
       "    </tr>\n",
       "    <tr>\n",
       "      <th>1538</th>\n",
       "      <td>908</td>\n",
       "      <td>Рустам</td>\n",
       "      <td>30</td>\n",
       "      <td>Тюмень</td>\n",
       "      <td>free</td>\n",
       "    </tr>\n",
       "    <tr>\n",
       "      <th>1539</th>\n",
       "      <td>43</td>\n",
       "      <td>Стефания</td>\n",
       "      <td>22</td>\n",
       "      <td>Омск</td>\n",
       "      <td>ultra</td>\n",
       "    </tr>\n",
       "    <tr>\n",
       "      <th>1540</th>\n",
       "      <td>127</td>\n",
       "      <td>Павел</td>\n",
       "      <td>25</td>\n",
       "      <td>Пятигорск</td>\n",
       "      <td>ultra</td>\n",
       "    </tr>\n",
       "    <tr>\n",
       "      <th>1541</th>\n",
       "      <td>659</td>\n",
       "      <td>Злата</td>\n",
       "      <td>27</td>\n",
       "      <td>Ростов-на-Дону</td>\n",
       "      <td>ultra</td>\n",
       "    </tr>\n",
       "    <tr>\n",
       "      <th>1542</th>\n",
       "      <td>204</td>\n",
       "      <td>Руслан</td>\n",
       "      <td>30</td>\n",
       "      <td>Пятигорск</td>\n",
       "      <td>ultra</td>\n",
       "    </tr>\n",
       "    <tr>\n",
       "      <th>1543</th>\n",
       "      <td>153</td>\n",
       "      <td>Герман</td>\n",
       "      <td>23</td>\n",
       "      <td>Москва</td>\n",
       "      <td>ultra</td>\n",
       "    </tr>\n",
       "    <tr>\n",
       "      <th>1544</th>\n",
       "      <td>1245</td>\n",
       "      <td>Регина</td>\n",
       "      <td>27</td>\n",
       "      <td>Пятигорск</td>\n",
       "      <td>free</td>\n",
       "    </tr>\n",
       "    <tr>\n",
       "      <th>1545</th>\n",
       "      <td>807</td>\n",
       "      <td>Александр</td>\n",
       "      <td>28</td>\n",
       "      <td>Екатеринбург</td>\n",
       "      <td>free</td>\n",
       "    </tr>\n",
       "    <tr>\n",
       "      <th>1546</th>\n",
       "      <td>924</td>\n",
       "      <td>Мария</td>\n",
       "      <td>23</td>\n",
       "      <td>Пятигорск</td>\n",
       "      <td>free</td>\n",
       "    </tr>\n",
       "    <tr>\n",
       "      <th>1547</th>\n",
       "      <td>635</td>\n",
       "      <td>Герман</td>\n",
       "      <td>21</td>\n",
       "      <td>Москва</td>\n",
       "      <td>ultra</td>\n",
       "    </tr>\n",
       "    <tr>\n",
       "      <th>1548</th>\n",
       "      <td>136</td>\n",
       "      <td>Марсель</td>\n",
       "      <td>25</td>\n",
       "      <td>Тюмень</td>\n",
       "      <td>ultra</td>\n",
       "    </tr>\n",
       "    <tr>\n",
       "      <th>1549</th>\n",
       "      <td>108</td>\n",
       "      <td>Влада</td>\n",
       "      <td>29</td>\n",
       "      <td>Тюмень</td>\n",
       "      <td>ultra</td>\n",
       "    </tr>\n",
       "    <tr>\n",
       "      <th>1550</th>\n",
       "      <td>737</td>\n",
       "      <td>Мелания</td>\n",
       "      <td>27</td>\n",
       "      <td>Ростов-на-Дону</td>\n",
       "      <td>free</td>\n",
       "    </tr>\n",
       "    <tr>\n",
       "      <th>1551</th>\n",
       "      <td>666</td>\n",
       "      <td>Зарина</td>\n",
       "      <td>29</td>\n",
       "      <td>Москва</td>\n",
       "      <td>ultra</td>\n",
       "    </tr>\n",
       "    <tr>\n",
       "      <th>1552</th>\n",
       "      <td>297</td>\n",
       "      <td>Егор</td>\n",
       "      <td>33</td>\n",
       "      <td>Пятигорск</td>\n",
       "      <td>ultra</td>\n",
       "    </tr>\n",
       "    <tr>\n",
       "      <th>1553</th>\n",
       "      <td>121</td>\n",
       "      <td>Алина</td>\n",
       "      <td>25</td>\n",
       "      <td>Пятигорск</td>\n",
       "      <td>ultra</td>\n",
       "    </tr>\n",
       "    <tr>\n",
       "      <th>1554</th>\n",
       "      <td>1198</td>\n",
       "      <td>Демид</td>\n",
       "      <td>29</td>\n",
       "      <td>Ростов-на-Дону</td>\n",
       "      <td>free</td>\n",
       "    </tr>\n",
       "    <tr>\n",
       "      <th>1555</th>\n",
       "      <td>72</td>\n",
       "      <td>Никита</td>\n",
       "      <td>25</td>\n",
       "      <td>Москва</td>\n",
       "      <td>ultra</td>\n",
       "    </tr>\n",
       "    <tr>\n",
       "      <th>1556</th>\n",
       "      <td>422</td>\n",
       "      <td>Кирилл</td>\n",
       "      <td>27</td>\n",
       "      <td>Сочи</td>\n",
       "      <td>ultra</td>\n",
       "    </tr>\n",
       "    <tr>\n",
       "      <th>1557</th>\n",
       "      <td>611</td>\n",
       "      <td>Владимир</td>\n",
       "      <td>28</td>\n",
       "      <td>Омск</td>\n",
       "      <td>ultra</td>\n",
       "    </tr>\n",
       "    <tr>\n",
       "      <th>1558</th>\n",
       "      <td>1237</td>\n",
       "      <td>Евгения</td>\n",
       "      <td>23</td>\n",
       "      <td>Тюмень</td>\n",
       "      <td>free</td>\n",
       "    </tr>\n",
       "    <tr>\n",
       "      <th>1559</th>\n",
       "      <td>209</td>\n",
       "      <td>Андрей</td>\n",
       "      <td>23</td>\n",
       "      <td>Омск</td>\n",
       "      <td>ultra</td>\n",
       "    </tr>\n",
       "    <tr>\n",
       "      <th>1560</th>\n",
       "      <td>829</td>\n",
       "      <td>Федор</td>\n",
       "      <td>29</td>\n",
       "      <td>Пятигорск</td>\n",
       "      <td>free</td>\n",
       "    </tr>\n",
       "    <tr>\n",
       "      <th>1561</th>\n",
       "      <td>809</td>\n",
       "      <td>Юрий</td>\n",
       "      <td>26</td>\n",
       "      <td>Сочи</td>\n",
       "      <td>free</td>\n",
       "    </tr>\n",
       "    <tr>\n",
       "      <th>1562</th>\n",
       "      <td>307</td>\n",
       "      <td>Ясмина</td>\n",
       "      <td>19</td>\n",
       "      <td>Краснодар</td>\n",
       "      <td>ultra</td>\n",
       "    </tr>\n",
       "    <tr>\n",
       "      <th>1563</th>\n",
       "      <td>47</td>\n",
       "      <td>Юрий</td>\n",
       "      <td>28</td>\n",
       "      <td>Тюмень</td>\n",
       "      <td>ultra</td>\n",
       "    </tr>\n",
       "    <tr>\n",
       "      <th>1564</th>\n",
       "      <td>1045</td>\n",
       "      <td>Артемий</td>\n",
       "      <td>28</td>\n",
       "      <td>Ростов-на-Дону</td>\n",
       "      <td>free</td>\n",
       "    </tr>\n",
       "  </tbody>\n",
       "</table>\n",
       "</div>"
      ],
      "text/plain": [
       "      user_id        name  age            city subscription_type\n",
       "1534      293       Агата   26       Краснодар             ultra\n",
       "1535       16      Амалия   27       Краснодар             ultra\n",
       "1536      909  Константин   20    Екатеринбург              free\n",
       "1537      403      Полина   19            Сочи             ultra\n",
       "1538      908      Рустам   30          Тюмень              free\n",
       "1539       43    Стефания   22            Омск             ultra\n",
       "1540      127       Павел   25       Пятигорск             ultra\n",
       "1541      659       Злата   27  Ростов-на-Дону             ultra\n",
       "1542      204      Руслан   30       Пятигорск             ultra\n",
       "1543      153      Герман   23          Москва             ultra\n",
       "1544     1245      Регина   27       Пятигорск              free\n",
       "1545      807   Александр   28    Екатеринбург              free\n",
       "1546      924       Мария   23       Пятигорск              free\n",
       "1547      635      Герман   21          Москва             ultra\n",
       "1548      136     Марсель   25          Тюмень             ultra\n",
       "1549      108       Влада   29          Тюмень             ultra\n",
       "1550      737     Мелания   27  Ростов-на-Дону              free\n",
       "1551      666      Зарина   29          Москва             ultra\n",
       "1552      297        Егор   33       Пятигорск             ultra\n",
       "1553      121       Алина   25       Пятигорск             ultra\n",
       "1554     1198       Демид   29  Ростов-на-Дону              free\n",
       "1555       72      Никита   25          Москва             ultra\n",
       "1556      422      Кирилл   27            Сочи             ultra\n",
       "1557      611    Владимир   28            Омск             ultra\n",
       "1558     1237     Евгения   23          Тюмень              free\n",
       "1559      209      Андрей   23            Омск             ultra\n",
       "1560      829       Федор   29       Пятигорск              free\n",
       "1561      809        Юрий   26            Сочи              free\n",
       "1562      307      Ясмина   19       Краснодар             ultra\n",
       "1563       47        Юрий   28          Тюмень             ultra\n",
       "1564     1045     Артемий   28  Ростов-на-Дону              free"
      ]
     },
     "execution_count": 17,
     "metadata": {},
     "output_type": "execute_result"
    }
   ],
   "source": [
    "data_users[data_users.duplicated()]"
   ]
  },
  {
   "cell_type": "code",
   "execution_count": 18,
   "metadata": {
    "id": "9gqPj2WDvY7t"
   },
   "outputs": [],
   "source": [
    "data_users = data_users.drop_duplicates(keep='first')"
   ]
  },
  {
   "cell_type": "code",
   "execution_count": 19,
   "metadata": {
    "colab": {
     "base_uri": "https://localhost:8080/"
    },
    "id": "P7e9pyfav4sh",
    "outputId": "3346df2c-09d1-4957-fdd0-159a8317bbf6"
   },
   "outputs": [
    {
     "data": {
      "text/plain": [
       "False    1534\n",
       "dtype: int64"
      ]
     },
     "execution_count": 19,
     "metadata": {},
     "output_type": "execute_result"
    }
   ],
   "source": [
    "# проверка дубликатов в data_users\n",
    "data_users.duplicated().value_counts()"
   ]
  },
  {
   "cell_type": "code",
   "execution_count": 20,
   "metadata": {
    "colab": {
     "base_uri": "https://localhost:8080/"
    },
    "id": "6wpdU2yBv8Ri",
    "outputId": "5c37decd-afd4-4726-d233-fea67667472d"
   },
   "outputs": [
    {
     "data": {
      "text/plain": [
       "False    18068\n",
       "dtype: int64"
      ]
     },
     "execution_count": 20,
     "metadata": {},
     "output_type": "execute_result"
    }
   ],
   "source": [
    "# поиск дубликатов в data_rides\n",
    "data_rides.duplicated().value_counts()"
   ]
  },
  {
   "cell_type": "markdown",
   "metadata": {
    "id": "Dwka1jerwQQn"
   },
   "source": [
    "### Выводы\n",
    "- Тип данных в столбце с датой изменен на верный;\n",
    "- Данные представлены за 2021 год;\n",
    "- Создан новый столбце с месяцем в data_rides;\n",
    "- Удалены дубликаты в data_users. Записи появились в конце списка и дублировали данные о пользователях по всему датафрейму. Это могло произойти из-за системной ошибки."
   ]
  },
  {
   "cell_type": "markdown",
   "metadata": {
    "id": "GIrZyspOlzdt"
   },
   "source": [
    "## Исследовательский анализ данных"
   ]
  },
  {
   "cell_type": "markdown",
   "metadata": {
    "id": "meSGaa9-x3hP"
   },
   "source": [
    "### Частота встречаемости городов\n"
   ]
  },
  {
   "cell_type": "code",
   "execution_count": 21,
   "metadata": {
    "colab": {
     "base_uri": "https://localhost:8080/"
    },
    "id": "ZN_bvsKeolsd",
    "outputId": "a84f69ee-6415-420d-d989-416a2ce093e9"
   },
   "outputs": [
    {
     "data": {
      "text/plain": [
       "Пятигорск         219\n",
       "Екатеринбург      204\n",
       "Ростов-на-Дону    198\n",
       "Краснодар         193\n",
       "Сочи              189\n",
       "Омск              183\n",
       "Тюмень            180\n",
       "Москва            168\n",
       "Name: city, dtype: int64"
      ]
     },
     "execution_count": 21,
     "metadata": {},
     "output_type": "execute_result"
    }
   ],
   "source": [
    "data_users['city'].value_counts()"
   ]
  },
  {
   "cell_type": "code",
   "execution_count": 22,
   "metadata": {
    "colab": {
     "base_uri": "https://localhost:8080/",
     "height": 504
    },
    "id": "EKyBaJdpydJ8",
    "outputId": "583b6f8c-33c1-434e-e2a4-d1dd3c648fc6"
   },
   "outputs": [
    {
     "data": {
      "text/plain": [
       "Text(0, 0.5, 'Города')"
      ]
     },
     "execution_count": 22,
     "metadata": {},
     "output_type": "execute_result"
    },
    {
     "data": {
      "image/png": "[encoded data removed]",
      "text/plain": [
       "<Figure size 1368x432 with 1 Axes>"
      ]
     },
     "metadata": {
      "needs_background": "light"
     },
     "output_type": "display_data"
    }
   ],
   "source": [
    "data_users['city'].value_counts().plot(\n",
    "    title='Частота встречаемости городов',\n",
    "    kind = 'barh',\n",
    "    figsize = (19,6),\n",
    "    legend = False,\n",
    "    fontsize = 16\n",
    ")\n",
    "plt.xlabel('Частота встречаемости')\n",
    "plt.ylabel('Города')"
   ]
  },
  {
   "cell_type": "markdown",
   "metadata": {
    "id": "TLSK2F8UzLBA"
   },
   "source": [
    "**Вывод:**\n",
    "- Большая часть пользователей в Пятигорске и Екатеринбурге\n",
    "- Меньше всео пользователей из Тюмени и Москвы"
   ]
  },
  {
   "cell_type": "markdown",
   "metadata": {
    "id": "zK46_H1EzoPm"
   },
   "source": [
    "### Соотношение пользователей с подпиской и без подписки"
   ]
  },
  {
   "cell_type": "code",
   "execution_count": 23,
   "metadata": {
    "colab": {
     "base_uri": "https://localhost:8080/"
    },
    "id": "y61pU_82zzQc",
    "outputId": "7cdb85a9-37fa-4efb-90d5-197aa4a16331"
   },
   "outputs": [
    {
     "data": {
      "text/plain": [
       "free     835\n",
       "ultra    699\n",
       "Name: subscription_type, dtype: int64"
      ]
     },
     "execution_count": 23,
     "metadata": {},
     "output_type": "execute_result"
    }
   ],
   "source": [
    "data_users['subscription_type'].value_counts()"
   ]
  },
  {
   "cell_type": "code",
   "execution_count": 24,
   "metadata": {
    "colab": {
     "base_uri": "https://localhost:8080/",
     "height": 461
    },
    "id": "YhUQu2nLz_2z",
    "outputId": "d07234b1-19f1-4d17-dc8c-35feae768e3f"
   },
   "outputs": [
    {
     "data": {
      "text/plain": [
       "Text(0, 0.5, 'Тип подписки')"
      ]
     },
     "execution_count": 24,
     "metadata": {},
     "output_type": "execute_result"
    },
    {
     "data": {
      "image/png": "[encoded data removed]",
      "text/plain": [
       "<Figure size 360x360 with 1 Axes>"
      ]
     },
     "metadata": {},
     "output_type": "display_data"
    }
   ],
   "source": [
    "data_users['subscription_type'].value_counts().plot(\n",
    "    title='Соотношение пользователей с подпиской и без подписки',\n",
    "    kind='pie',\n",
    "    autopct='%1.1f%%',\n",
    "    figsize=(5, 5)\n",
    ")\n",
    "plt.ylabel('Тип подписки')"
   ]
  },
  {
   "cell_type": "markdown",
   "metadata": {
    "id": "RoCOqnW11UYt"
   },
   "source": [
    "**Вывод:** количество пользователей с подпиской и без подписки почти равны. Однако пользователей, которые пользуются сервисом бесплатно на 4.4% больше."
   ]
  },
  {
   "cell_type": "markdown",
   "metadata": {
    "id": "LsJm-ohk1rHT"
   },
   "source": [
    "### Возраст пользователей"
   ]
  },
  {
   "cell_type": "code",
   "execution_count": 25,
   "metadata": {
    "colab": {
     "base_uri": "https://localhost:8080/"
    },
    "id": "YPdsLMau1T29",
    "outputId": "bcd63690-40c8-4b26-f2e9-677a898004a9"
   },
   "outputs": [
    {
     "data": {
      "text/plain": [
       "age\n",
       "12      4\n",
       "13      8\n",
       "14      9\n",
       "15     13\n",
       "16     19\n",
       "17     26\n",
       "18     46\n",
       "19     47\n",
       "20     71\n",
       "21     93\n",
       "22    119\n",
       "23    129\n",
       "24    132\n",
       "25    145\n",
       "26    131\n",
       "27    119\n",
       "28    112\n",
       "29     68\n",
       "30     68\n",
       "31     48\n",
       "32     41\n",
       "33     39\n",
       "34     19\n",
       "35     15\n",
       "36      6\n",
       "37      2\n",
       "38      3\n",
       "39      1\n",
       "43      1\n",
       "Name: age, dtype: int64"
      ]
     },
     "execution_count": 25,
     "metadata": {},
     "output_type": "execute_result"
    }
   ],
   "source": [
    "data_users.groupby('age')['age'].count()"
   ]
  },
  {
   "cell_type": "code",
   "execution_count": 26,
   "metadata": {
    "colab": {
     "base_uri": "https://localhost:8080/",
     "height": 508
    },
    "id": "afF3gnic3jLT",
    "outputId": "3e409456-14ea-4055-f266-924770e0adfe"
   },
   "outputs": [
    {
     "data": {
      "text/plain": [
       "Text(0, 0.5, 'Количество пользователей')"
      ]
     },
     "execution_count": 26,
     "metadata": {},
     "output_type": "execute_result"
    },
    {
     "data": {
      "image/png": "[encoded data removed]",
      "text/plain": [
       "<Figure size 1080x720 with 1 Axes>"
      ]
     },
     "metadata": {
      "needs_background": "light"
     },
     "output_type": "display_data"
    }
   ],
   "source": [
    "data_users.groupby('age')['age'].count()\\\n",
    ".plot(\n",
    "    title='Возраст пользователей',\n",
    "    kind='barh',\n",
    "    figsize=(15, 10)\n",
    ")\n",
    "plt.xlabel('Возраст')\n",
    "plt.ylabel('Количество пользователей')"
   ]
  },
  {
   "cell_type": "code",
   "execution_count": 27,
   "metadata": {
    "colab": {
     "base_uri": "https://localhost:8080/"
    },
    "id": "EXMM2ObKqfE2",
    "outputId": "d7970ddf-491d-4f07-bda4-080fc9dbe09b"
   },
   "outputs": [
    {
     "data": {
      "text/plain": [
       "count     2.000000\n",
       "mean     25.000000\n",
       "std      11.313708\n",
       "min      17.000000\n",
       "25%      21.000000\n",
       "50%      25.000000\n",
       "75%      29.000000\n",
       "max      33.000000\n",
       "Name: age, dtype: float64"
      ]
     },
     "execution_count": 27,
     "metadata": {},
     "output_type": "execute_result"
    }
   ],
   "source": [
    "data_users['age'].quantile([0.05, 0.95]).describe()"
   ]
  },
  {
   "cell_type": "markdown",
   "metadata": {
    "id": "c3GI9-9V79O1"
   },
   "source": [
    "**Вывод:** средний возраст пользователей 25 лет."
   ]
  },
  {
   "cell_type": "markdown",
   "metadata": {
    "id": "1QeagVX_6Ioe"
   },
   "source": [
    "### Расстояние, которое пользователь преодолел за одну поездку"
   ]
  },
  {
   "cell_type": "code",
   "execution_count": 28,
   "metadata": {
    "colab": {
     "base_uri": "https://localhost:8080/"
    },
    "id": "PDpVAFUmIlNI",
    "outputId": "9f595f86-a0df-4e77-a91e-d002723dbc06"
   },
   "outputs": [
    {
     "data": {
      "text/plain": [
       "count    18068.000000\n",
       "mean      3070.659976\n",
       "std       1116.831209\n",
       "min          0.855683\n",
       "25%       2543.226360\n",
       "50%       3133.609994\n",
       "75%       3776.222735\n",
       "max       7211.007745\n",
       "Name: distance, dtype: float64"
      ]
     },
     "execution_count": 28,
     "metadata": {},
     "output_type": "execute_result"
    }
   ],
   "source": [
    "data_rides['distance'].describe()"
   ]
  },
  {
   "cell_type": "code",
   "execution_count": 29,
   "metadata": {
    "colab": {
     "base_uri": "https://localhost:8080/",
     "height": 447
    },
    "id": "xFqsUHnS6Mow",
    "outputId": "808d5e85-e852-4b19-a357-2b878d9efe3e"
   },
   "outputs": [
    {
     "data": {
      "text/plain": [
       "Text(0, 0.5, 'Количество пользователей')"
      ]
     },
     "execution_count": 29,
     "metadata": {},
     "output_type": "execute_result"
    },
    {
     "data": {
      "image/png": "[encoded data removed]",
      "text/plain": [
       "<Figure size 432x288 with 1 Axes>"
      ]
     },
     "metadata": {
      "needs_background": "light"
     },
     "output_type": "display_data"
    }
   ],
   "source": [
    "data_rides['distance'].hist(bins=50)\n",
    "plt.title('Расстояние за одну поездку')\n",
    "plt.xlabel('Расстояние поездки')\n",
    "plt.ylabel('Количество пользователей')"
   ]
  },
  {
   "cell_type": "code",
   "execution_count": 30,
   "metadata": {
    "colab": {
     "base_uri": "https://localhost:8080/",
     "height": 447
    },
    "id": "8TW2aQckUqDf",
    "outputId": "3951d57f-6046-4d32-a5d8-7cdd40ad23ce"
   },
   "outputs": [
    {
     "data": {
      "text/plain": [
       "Text(0, 0.5, 'Количество пользователей')"
      ]
     },
     "execution_count": 30,
     "metadata": {},
     "output_type": "execute_result"
    },
    {
     "data": {
      "image/png": "[encoded data removed]",
      "text/plain": [
       "<Figure size 432x288 with 1 Axes>"
      ]
     },
     "metadata": {
      "needs_background": "light"
     },
     "output_type": "display_data"
    }
   ],
   "source": [
    "data_rides['distance'].hist(bins=50, range=(0,1500))\n",
    "plt.title('Расстояние за одну поездку')\n",
    "plt.xlabel('Расстояние поездки')\n",
    "plt.ylabel('Количество пользователей')"
   ]
  },
  {
   "cell_type": "markdown",
   "metadata": {
    "id": "aL3lSdHwFH_q"
   },
   "source": [
    "**Вывод:** график показывает, что в среднем пользователи преодолевают расстояние около 3 км. Однако есть небольшой всплекс на расстоянии около 700 м."
   ]
  },
  {
   "cell_type": "markdown",
   "metadata": {
    "id": "07cpdvNP8UGr"
   },
   "source": [
    "### Продолжительность поездок"
   ]
  },
  {
   "cell_type": "code",
   "execution_count": 34,
   "metadata": {
    "colab": {
     "base_uri": "https://localhost:8080/",
     "height": 447
    },
    "id": "bZiv94998aFi",
    "outputId": "6fe61f99-55d1-4699-b8b2-f8a6f2b967dc"
   },
   "outputs": [
    {
     "data": {
      "text/plain": [
       "Text(0, 0.5, 'Количество пользователей')"
      ]
     },
     "execution_count": 34,
     "metadata": {},
     "output_type": "execute_result"
    },
    {
     "data": {
      "image/png": "[encoded data removed]",
      "text/plain": [
       "<Figure size 432x288 with 1 Axes>"
      ]
     },
     "metadata": {
      "needs_background": "light"
     },
     "output_type": "display_data"
    }
   ],
   "source": [
    "data_rides['duration'].hist(bins=50)\n",
    "plt.title('Продолжительность, за одну поездку')\n",
    "plt.xlabel('Продолжительность поездки')\n",
    "plt.ylabel('Количество пользователей')"
   ]
  },
  {
   "cell_type": "code",
   "execution_count": 35,
   "metadata": {
    "colab": {
     "base_uri": "https://localhost:8080/",
     "height": 447
    },
    "id": "YCuCI1Mh8mMh",
    "outputId": "1bfcc2c9-36c2-4a41-8ed1-c130d5cdd1da"
   },
   "outputs": [
    {
     "data": {
      "text/plain": [
       "Text(0, 0.5, 'Количество пользователей')"
      ]
     },
     "execution_count": 35,
     "metadata": {},
     "output_type": "execute_result"
    },
    {
     "data": {
      "image/png": "[encoded data removed]",
      "text/plain": [
       "<Figure size 432x288 with 1 Axes>"
      ]
     },
     "metadata": {
      "needs_background": "light"
     },
     "output_type": "display_data"
    }
   ],
   "source": [
    "data_rides['duration'].hist(bins=50, range=(0,2))\n",
    "plt.title('Продолжительность, за одну поездку')\n",
    "plt.xlabel('Продолжительность поездки')\n",
    "plt.ylabel('Количество пользователей')"
   ]
  },
  {
   "cell_type": "code",
   "execution_count": 36,
   "metadata": {
    "colab": {
     "base_uri": "https://localhost:8080/"
    },
    "id": "u64-vam-84ey",
    "outputId": "8361b58c-bd79-4279-cef7-9072d49d73e7"
   },
   "outputs": [
    {
     "data": {
      "text/plain": [
       "95"
      ]
     },
     "execution_count": 36,
     "metadata": {},
     "output_type": "execute_result"
    }
   ],
   "source": [
    "data_rides.loc[data_rides['duration'] < 2, 'duration'].count()"
   ]
  },
  {
   "cell_type": "code",
   "execution_count": 37,
   "metadata": {
    "colab": {
     "base_uri": "https://localhost:8080/",
     "height": 677
    },
    "id": "jgo8lEY-9lfd",
    "outputId": "87f84aea-6fd4-47d5-d3e7-746b1b3993da"
   },
   "outputs": [
    {
     "data": {
      "text/html": [
       "<div>\n",
       "<style scoped>\n",
       "    .dataframe tbody tr th:only-of-type {\n",
       "        vertical-align: middle;\n",
       "    }\n",
       "\n",
       "    .dataframe tbody tr th {\n",
       "        vertical-align: top;\n",
       "    }\n",
       "\n",
       "    .dataframe thead th {\n",
       "        text-align: right;\n",
       "    }\n",
       "</style>\n",
       "<table border=\"1\" class=\"dataframe\">\n",
       "  <thead>\n",
       "    <tr style=\"text-align: right;\">\n",
       "      <th></th>\n",
       "      <th>user_id</th>\n",
       "      <th>distance</th>\n",
       "      <th>duration</th>\n",
       "      <th>date</th>\n",
       "      <th>month</th>\n",
       "    </tr>\n",
       "  </thead>\n",
       "  <tbody>\n",
       "    <tr>\n",
       "      <th>6531</th>\n",
       "      <td>701</td>\n",
       "      <td>4196.445201</td>\n",
       "      <td>0.5</td>\n",
       "      <td>2021-08-31</td>\n",
       "      <td>8</td>\n",
       "    </tr>\n",
       "    <tr>\n",
       "      <th>6570</th>\n",
       "      <td>704</td>\n",
       "      <td>4830.824371</td>\n",
       "      <td>0.5</td>\n",
       "      <td>2021-10-14</td>\n",
       "      <td>10</td>\n",
       "    </tr>\n",
       "    <tr>\n",
       "      <th>6680</th>\n",
       "      <td>712</td>\n",
       "      <td>4684.004397</td>\n",
       "      <td>0.5</td>\n",
       "      <td>2021-03-04</td>\n",
       "      <td>3</td>\n",
       "    </tr>\n",
       "    <tr>\n",
       "      <th>6695</th>\n",
       "      <td>713</td>\n",
       "      <td>5215.642710</td>\n",
       "      <td>0.5</td>\n",
       "      <td>2021-02-25</td>\n",
       "      <td>2</td>\n",
       "    </tr>\n",
       "    <tr>\n",
       "      <th>6768</th>\n",
       "      <td>718</td>\n",
       "      <td>5197.436649</td>\n",
       "      <td>0.5</td>\n",
       "      <td>2021-02-11</td>\n",
       "      <td>2</td>\n",
       "    </tr>\n",
       "    <tr>\n",
       "      <th>6860</th>\n",
       "      <td>724</td>\n",
       "      <td>6225.520342</td>\n",
       "      <td>0.5</td>\n",
       "      <td>2021-12-16</td>\n",
       "      <td>12</td>\n",
       "    </tr>\n",
       "    <tr>\n",
       "      <th>6883</th>\n",
       "      <td>726</td>\n",
       "      <td>4452.491518</td>\n",
       "      <td>0.5</td>\n",
       "      <td>2021-03-01</td>\n",
       "      <td>3</td>\n",
       "    </tr>\n",
       "    <tr>\n",
       "      <th>7018</th>\n",
       "      <td>735</td>\n",
       "      <td>4406.954812</td>\n",
       "      <td>0.5</td>\n",
       "      <td>2021-04-13</td>\n",
       "      <td>4</td>\n",
       "    </tr>\n",
       "    <tr>\n",
       "      <th>7160</th>\n",
       "      <td>745</td>\n",
       "      <td>5286.167732</td>\n",
       "      <td>0.5</td>\n",
       "      <td>2021-08-17</td>\n",
       "      <td>8</td>\n",
       "    </tr>\n",
       "    <tr>\n",
       "      <th>7364</th>\n",
       "      <td>760</td>\n",
       "      <td>4881.391865</td>\n",
       "      <td>0.5</td>\n",
       "      <td>2021-08-29</td>\n",
       "      <td>8</td>\n",
       "    </tr>\n",
       "    <tr>\n",
       "      <th>7437</th>\n",
       "      <td>766</td>\n",
       "      <td>4539.088310</td>\n",
       "      <td>0.5</td>\n",
       "      <td>2021-12-22</td>\n",
       "      <td>12</td>\n",
       "    </tr>\n",
       "    <tr>\n",
       "      <th>7508</th>\n",
       "      <td>772</td>\n",
       "      <td>4718.820996</td>\n",
       "      <td>0.5</td>\n",
       "      <td>2021-05-22</td>\n",
       "      <td>5</td>\n",
       "    </tr>\n",
       "    <tr>\n",
       "      <th>7537</th>\n",
       "      <td>774</td>\n",
       "      <td>5488.141903</td>\n",
       "      <td>0.5</td>\n",
       "      <td>2021-05-27</td>\n",
       "      <td>5</td>\n",
       "    </tr>\n",
       "    <tr>\n",
       "      <th>7612</th>\n",
       "      <td>780</td>\n",
       "      <td>6112.644835</td>\n",
       "      <td>0.5</td>\n",
       "      <td>2021-11-23</td>\n",
       "      <td>11</td>\n",
       "    </tr>\n",
       "    <tr>\n",
       "      <th>7679</th>\n",
       "      <td>784</td>\n",
       "      <td>5202.815712</td>\n",
       "      <td>0.5</td>\n",
       "      <td>2021-06-03</td>\n",
       "      <td>6</td>\n",
       "    </tr>\n",
       "    <tr>\n",
       "      <th>7791</th>\n",
       "      <td>792</td>\n",
       "      <td>5353.189287</td>\n",
       "      <td>0.5</td>\n",
       "      <td>2021-11-06</td>\n",
       "      <td>11</td>\n",
       "    </tr>\n",
       "    <tr>\n",
       "      <th>7830</th>\n",
       "      <td>795</td>\n",
       "      <td>6262.302747</td>\n",
       "      <td>0.5</td>\n",
       "      <td>2021-09-09</td>\n",
       "      <td>9</td>\n",
       "    </tr>\n",
       "    <tr>\n",
       "      <th>7883</th>\n",
       "      <td>800</td>\n",
       "      <td>5052.410425</td>\n",
       "      <td>0.5</td>\n",
       "      <td>2021-07-19</td>\n",
       "      <td>7</td>\n",
       "    </tr>\n",
       "    <tr>\n",
       "      <th>7932</th>\n",
       "      <td>804</td>\n",
       "      <td>5547.830031</td>\n",
       "      <td>0.5</td>\n",
       "      <td>2021-05-10</td>\n",
       "      <td>5</td>\n",
       "    </tr>\n",
       "    <tr>\n",
       "      <th>8329</th>\n",
       "      <td>836</td>\n",
       "      <td>4958.922077</td>\n",
       "      <td>0.5</td>\n",
       "      <td>2021-01-12</td>\n",
       "      <td>1</td>\n",
       "    </tr>\n",
       "  </tbody>\n",
       "</table>\n",
       "</div>"
      ],
      "text/plain": [
       "      user_id     distance  duration       date  month\n",
       "6531      701  4196.445201       0.5 2021-08-31      8\n",
       "6570      704  4830.824371       0.5 2021-10-14     10\n",
       "6680      712  4684.004397       0.5 2021-03-04      3\n",
       "6695      713  5215.642710       0.5 2021-02-25      2\n",
       "6768      718  5197.436649       0.5 2021-02-11      2\n",
       "6860      724  6225.520342       0.5 2021-12-16     12\n",
       "6883      726  4452.491518       0.5 2021-03-01      3\n",
       "7018      735  4406.954812       0.5 2021-04-13      4\n",
       "7160      745  5286.167732       0.5 2021-08-17      8\n",
       "7364      760  4881.391865       0.5 2021-08-29      8\n",
       "7437      766  4539.088310       0.5 2021-12-22     12\n",
       "7508      772  4718.820996       0.5 2021-05-22      5\n",
       "7537      774  5488.141903       0.5 2021-05-27      5\n",
       "7612      780  6112.644835       0.5 2021-11-23     11\n",
       "7679      784  5202.815712       0.5 2021-06-03      6\n",
       "7791      792  5353.189287       0.5 2021-11-06     11\n",
       "7830      795  6262.302747       0.5 2021-09-09      9\n",
       "7883      800  5052.410425       0.5 2021-07-19      7\n",
       "7932      804  5547.830031       0.5 2021-05-10      5\n",
       "8329      836  4958.922077       0.5 2021-01-12      1"
      ]
     },
     "execution_count": 37,
     "metadata": {},
     "output_type": "execute_result"
    }
   ],
   "source": [
    "data_rides[data_rides['duration'] < 2].head(20)"
   ]
  },
  {
   "cell_type": "markdown",
   "metadata": {
    "id": "9uUNXYOrDRLE"
   },
   "source": [
    "На графике продолжительнсти поездок присутствует выброс с аномальными значениями. Дистанция и время поездки в строках с выбросами не соответствуют. Для исправления аномальных значений можно найти медианную скорость самокатов и найти предположительное время поездки."
   ]
  },
  {
   "cell_type": "code",
   "execution_count": 38,
   "metadata": {
    "colab": {
     "base_uri": "https://localhost:8080/",
     "height": 451
    },
    "id": "okF9H-RUBILx",
    "outputId": "cb6f7675-29f9-4517-a4ad-54b4ad5412c0"
   },
   "outputs": [
    {
     "data": {
      "text/plain": [
       "Text(0, 0.5, 'Количество пользователей')"
      ]
     },
     "execution_count": 38,
     "metadata": {},
     "output_type": "execute_result"
    },
    {
     "data": {
      "image/png": "[encoded data removed]",
      "text/plain": [
       "<Figure size 432x288 with 1 Axes>"
      ]
     },
     "metadata": {
      "needs_background": "light"
     },
     "output_type": "display_data"
    }
   ],
   "source": [
    "# средняя скорость самокатов\n",
    "average_speed = (data_rides['distance'] / data_rides['duration']).median()\n",
    "\n",
    "# исправление аномальных значнеий\n",
    "data_rides.loc[data_rides['duration'] < 2, 'duration'] = data_rides['distance']/average_speed\n",
    "\n",
    "# проверка данных\n",
    "data_rides['duration'].hist(bins=50)\n",
    "plt.title('Продолжительность, за одну поездку')\n",
    "plt.xlabel('Продолжительность поездки')\n",
    "plt.ylabel('Количество пользователей')"
   ]
  },
  {
   "cell_type": "code",
   "execution_count": 39,
   "metadata": {
    "colab": {
     "base_uri": "https://localhost:8080/"
    },
    "id": "z8SPWmKPFTu2",
    "outputId": "d3c739d3-1295-49d9-f194-de378448c407"
   },
   "outputs": [
    {
     "data": {
      "text/plain": [
       "count     2.000000\n",
       "mean     18.584887\n",
       "std      14.187286\n",
       "min       8.552960\n",
       "25%      13.568924\n",
       "50%      18.584887\n",
       "75%      23.600850\n",
       "max      28.616813\n",
       "Name: duration, dtype: float64"
      ]
     },
     "execution_count": 39,
     "metadata": {},
     "output_type": "execute_result"
    }
   ],
   "source": [
    "data_rides['duration'].quantile([0.05, 0.95]).describe()"
   ]
  },
  {
   "cell_type": "markdown",
   "metadata": {
    "id": "KiGN_gEFFQXJ"
   },
   "source": [
    "**Вывод:** среднее время поездки на самокате 18 минут."
   ]
  },
  {
   "cell_type": "markdown",
   "metadata": {
    "id": "SJZ4vpfm8Stz"
   },
   "source": [
    "### Выводы\n",
    "- Большая часть пользователей в Пятигорске и Екатеринбурге, меньше всео пользователей из Тюмени и Москвы;\n",
    "- Пользователей с подпиской - 45.6%, без подписки - 54.4%;\n",
    "- Средний возраст пользователей - 25 лет;\n",
    "- В среднем пользователи преодолевают расстояние около 3 км. Однако есть небольшой всплекс на расстоянии около 700 м;\n",
    "- Среднее время поездки - 18 минут."
   ]
  },
  {
   "cell_type": "markdown",
   "metadata": {
    "id": "Gmxq47VNlzbF"
   },
   "source": [
    "## Объединение данных"
   ]
  },
  {
   "cell_type": "code",
   "execution_count": 40,
   "metadata": {
    "id": "2dfepsZ7omW1"
   },
   "outputs": [],
   "source": [
    "# создание датафрейма с данными о пользователях, поездках и подписках\n",
    "data_total = data_users.merge(data_rides, on='user_id')\n",
    "data_total = data_total.merge(data_subscriptions, on='subscription_type')\n",
    "data_total['duration'] = np.ceil(data_total['duration'])"
   ]
  },
  {
   "cell_type": "code",
   "execution_count": 41,
   "metadata": {
    "colab": {
     "base_uri": "https://localhost:8080/",
     "height": 677
    },
    "id": "Z8lJ6jXbQ6kK",
    "outputId": "c8d64ae7-f3dc-42bb-a9ff-9e6ce16f80a5"
   },
   "outputs": [
    {
     "name": "stdout",
     "output_type": "stream",
     "text": [
      "<class 'pandas.core.frame.DataFrame'>\n",
      "Int64Index: 1534 entries, 0 to 1533\n",
      "Data columns (total 5 columns):\n",
      " #   Column             Non-Null Count  Dtype \n",
      "---  ------             --------------  ----- \n",
      " 0   user_id            1534 non-null   int64 \n",
      " 1   name               1534 non-null   object\n",
      " 2   age                1534 non-null   int64 \n",
      " 3   city               1534 non-null   object\n",
      " 4   subscription_type  1534 non-null   object\n",
      "dtypes: int64(2), object(3)\n",
      "memory usage: 71.9+ KB\n",
      "None\n",
      "<class 'pandas.core.frame.DataFrame'>\n",
      "RangeIndex: 18068 entries, 0 to 18067\n",
      "Data columns (total 5 columns):\n",
      " #   Column    Non-Null Count  Dtype         \n",
      "---  ------    --------------  -----         \n",
      " 0   user_id   18068 non-null  int64         \n",
      " 1   distance  18068 non-null  float64       \n",
      " 2   duration  18068 non-null  float64       \n",
      " 3   date      18068 non-null  datetime64[ns]\n",
      " 4   month     18068 non-null  int64         \n",
      "dtypes: datetime64[ns](1), float64(2), int64(2)\n",
      "memory usage: 705.9 KB\n",
      "None\n",
      "<class 'pandas.core.frame.DataFrame'>\n",
      "RangeIndex: 2 entries, 0 to 1\n",
      "Data columns (total 4 columns):\n",
      " #   Column             Non-Null Count  Dtype \n",
      "---  ------             --------------  ----- \n",
      " 0   subscription_type  2 non-null      object\n",
      " 1   minute_price       2 non-null      int64 \n",
      " 2   start_ride_price   2 non-null      int64 \n",
      " 3   subscription_fee   2 non-null      int64 \n",
      "dtypes: int64(3), object(1)\n",
      "memory usage: 192.0+ bytes\n",
      "None\n",
      "<class 'pandas.core.frame.DataFrame'>\n",
      "Int64Index: 18068 entries, 0 to 18067\n",
      "Data columns (total 12 columns):\n",
      " #   Column             Non-Null Count  Dtype         \n",
      "---  ------             --------------  -----         \n",
      " 0   user_id            18068 non-null  int64         \n",
      " 1   name               18068 non-null  object        \n",
      " 2   age                18068 non-null  int64         \n",
      " 3   city               18068 non-null  object        \n",
      " 4   subscription_type  18068 non-null  object        \n",
      " 5   distance           18068 non-null  float64       \n",
      " 6   duration           18068 non-null  float64       \n",
      " 7   date               18068 non-null  datetime64[ns]\n",
      " 8   month              18068 non-null  int64         \n",
      " 9   minute_price       18068 non-null  int64         \n",
      " 10  start_ride_price   18068 non-null  int64         \n",
      " 11  subscription_fee   18068 non-null  int64         \n",
      "dtypes: datetime64[ns](1), float64(2), int64(6), object(3)\n",
      "memory usage: 1.8+ MB\n",
      "None\n"
     ]
    },
    {
     "data": {
      "text/html": [
       "<div>\n",
       "<style scoped>\n",
       "    .dataframe tbody tr th:only-of-type {\n",
       "        vertical-align: middle;\n",
       "    }\n",
       "\n",
       "    .dataframe tbody tr th {\n",
       "        vertical-align: top;\n",
       "    }\n",
       "\n",
       "    .dataframe thead th {\n",
       "        text-align: right;\n",
       "    }\n",
       "</style>\n",
       "<table border=\"1\" class=\"dataframe\">\n",
       "  <thead>\n",
       "    <tr style=\"text-align: right;\">\n",
       "      <th></th>\n",
       "      <th>user_id</th>\n",
       "      <th>name</th>\n",
       "      <th>age</th>\n",
       "      <th>city</th>\n",
       "      <th>subscription_type</th>\n",
       "      <th>distance</th>\n",
       "      <th>duration</th>\n",
       "      <th>date</th>\n",
       "      <th>month</th>\n",
       "      <th>minute_price</th>\n",
       "      <th>start_ride_price</th>\n",
       "      <th>subscription_fee</th>\n",
       "    </tr>\n",
       "  </thead>\n",
       "  <tbody>\n",
       "    <tr>\n",
       "      <th>0</th>\n",
       "      <td>1</td>\n",
       "      <td>Кира</td>\n",
       "      <td>22</td>\n",
       "      <td>Тюмень</td>\n",
       "      <td>ultra</td>\n",
       "      <td>4409.919140</td>\n",
       "      <td>26.0</td>\n",
       "      <td>2021-01-01</td>\n",
       "      <td>1</td>\n",
       "      <td>6</td>\n",
       "      <td>0</td>\n",
       "      <td>199</td>\n",
       "    </tr>\n",
       "    <tr>\n",
       "      <th>1</th>\n",
       "      <td>1</td>\n",
       "      <td>Кира</td>\n",
       "      <td>22</td>\n",
       "      <td>Тюмень</td>\n",
       "      <td>ultra</td>\n",
       "      <td>2617.592153</td>\n",
       "      <td>16.0</td>\n",
       "      <td>2021-01-18</td>\n",
       "      <td>1</td>\n",
       "      <td>6</td>\n",
       "      <td>0</td>\n",
       "      <td>199</td>\n",
       "    </tr>\n",
       "    <tr>\n",
       "      <th>2</th>\n",
       "      <td>1</td>\n",
       "      <td>Кира</td>\n",
       "      <td>22</td>\n",
       "      <td>Тюмень</td>\n",
       "      <td>ultra</td>\n",
       "      <td>754.159807</td>\n",
       "      <td>7.0</td>\n",
       "      <td>2021-04-20</td>\n",
       "      <td>4</td>\n",
       "      <td>6</td>\n",
       "      <td>0</td>\n",
       "      <td>199</td>\n",
       "    </tr>\n",
       "    <tr>\n",
       "      <th>3</th>\n",
       "      <td>1</td>\n",
       "      <td>Кира</td>\n",
       "      <td>22</td>\n",
       "      <td>Тюмень</td>\n",
       "      <td>ultra</td>\n",
       "      <td>2694.783254</td>\n",
       "      <td>19.0</td>\n",
       "      <td>2021-08-11</td>\n",
       "      <td>8</td>\n",
       "      <td>6</td>\n",
       "      <td>0</td>\n",
       "      <td>199</td>\n",
       "    </tr>\n",
       "    <tr>\n",
       "      <th>4</th>\n",
       "      <td>1</td>\n",
       "      <td>Кира</td>\n",
       "      <td>22</td>\n",
       "      <td>Тюмень</td>\n",
       "      <td>ultra</td>\n",
       "      <td>4028.687306</td>\n",
       "      <td>27.0</td>\n",
       "      <td>2021-08-28</td>\n",
       "      <td>8</td>\n",
       "      <td>6</td>\n",
       "      <td>0</td>\n",
       "      <td>199</td>\n",
       "    </tr>\n",
       "    <tr>\n",
       "      <th>5</th>\n",
       "      <td>1</td>\n",
       "      <td>Кира</td>\n",
       "      <td>22</td>\n",
       "      <td>Тюмень</td>\n",
       "      <td>ultra</td>\n",
       "      <td>2770.890808</td>\n",
       "      <td>17.0</td>\n",
       "      <td>2021-10-09</td>\n",
       "      <td>10</td>\n",
       "      <td>6</td>\n",
       "      <td>0</td>\n",
       "      <td>199</td>\n",
       "    </tr>\n",
       "    <tr>\n",
       "      <th>6</th>\n",
       "      <td>1</td>\n",
       "      <td>Кира</td>\n",
       "      <td>22</td>\n",
       "      <td>Тюмень</td>\n",
       "      <td>ultra</td>\n",
       "      <td>3039.020292</td>\n",
       "      <td>15.0</td>\n",
       "      <td>2021-10-19</td>\n",
       "      <td>10</td>\n",
       "      <td>6</td>\n",
       "      <td>0</td>\n",
       "      <td>199</td>\n",
       "    </tr>\n",
       "    <tr>\n",
       "      <th>7</th>\n",
       "      <td>1</td>\n",
       "      <td>Кира</td>\n",
       "      <td>22</td>\n",
       "      <td>Тюмень</td>\n",
       "      <td>ultra</td>\n",
       "      <td>2842.118050</td>\n",
       "      <td>24.0</td>\n",
       "      <td>2021-11-06</td>\n",
       "      <td>11</td>\n",
       "      <td>6</td>\n",
       "      <td>0</td>\n",
       "      <td>199</td>\n",
       "    </tr>\n",
       "    <tr>\n",
       "      <th>8</th>\n",
       "      <td>1</td>\n",
       "      <td>Кира</td>\n",
       "      <td>22</td>\n",
       "      <td>Тюмень</td>\n",
       "      <td>ultra</td>\n",
       "      <td>3412.690668</td>\n",
       "      <td>16.0</td>\n",
       "      <td>2021-11-14</td>\n",
       "      <td>11</td>\n",
       "      <td>6</td>\n",
       "      <td>0</td>\n",
       "      <td>199</td>\n",
       "    </tr>\n",
       "    <tr>\n",
       "      <th>9</th>\n",
       "      <td>1</td>\n",
       "      <td>Кира</td>\n",
       "      <td>22</td>\n",
       "      <td>Тюмень</td>\n",
       "      <td>ultra</td>\n",
       "      <td>748.690645</td>\n",
       "      <td>16.0</td>\n",
       "      <td>2021-11-22</td>\n",
       "      <td>11</td>\n",
       "      <td>6</td>\n",
       "      <td>0</td>\n",
       "      <td>199</td>\n",
       "    </tr>\n",
       "    <tr>\n",
       "      <th>10</th>\n",
       "      <td>1</td>\n",
       "      <td>Кира</td>\n",
       "      <td>22</td>\n",
       "      <td>Тюмень</td>\n",
       "      <td>ultra</td>\n",
       "      <td>4031.020195</td>\n",
       "      <td>18.0</td>\n",
       "      <td>2021-12-14</td>\n",
       "      <td>12</td>\n",
       "      <td>6</td>\n",
       "      <td>0</td>\n",
       "      <td>199</td>\n",
       "    </tr>\n",
       "    <tr>\n",
       "      <th>11</th>\n",
       "      <td>1</td>\n",
       "      <td>Кира</td>\n",
       "      <td>22</td>\n",
       "      <td>Тюмень</td>\n",
       "      <td>ultra</td>\n",
       "      <td>2720.609748</td>\n",
       "      <td>10.0</td>\n",
       "      <td>2021-12-22</td>\n",
       "      <td>12</td>\n",
       "      <td>6</td>\n",
       "      <td>0</td>\n",
       "      <td>199</td>\n",
       "    </tr>\n",
       "    <tr>\n",
       "      <th>12</th>\n",
       "      <td>2</td>\n",
       "      <td>Станислав</td>\n",
       "      <td>31</td>\n",
       "      <td>Омск</td>\n",
       "      <td>ultra</td>\n",
       "      <td>3105.086678</td>\n",
       "      <td>25.0</td>\n",
       "      <td>2021-03-15</td>\n",
       "      <td>3</td>\n",
       "      <td>6</td>\n",
       "      <td>0</td>\n",
       "      <td>199</td>\n",
       "    </tr>\n",
       "    <tr>\n",
       "      <th>13</th>\n",
       "      <td>2</td>\n",
       "      <td>Станислав</td>\n",
       "      <td>31</td>\n",
       "      <td>Омск</td>\n",
       "      <td>ultra</td>\n",
       "      <td>3053.519401</td>\n",
       "      <td>12.0</td>\n",
       "      <td>2021-03-18</td>\n",
       "      <td>3</td>\n",
       "      <td>6</td>\n",
       "      <td>0</td>\n",
       "      <td>199</td>\n",
       "    </tr>\n",
       "    <tr>\n",
       "      <th>14</th>\n",
       "      <td>2</td>\n",
       "      <td>Станислав</td>\n",
       "      <td>31</td>\n",
       "      <td>Омск</td>\n",
       "      <td>ultra</td>\n",
       "      <td>4029.116927</td>\n",
       "      <td>26.0</td>\n",
       "      <td>2021-03-23</td>\n",
       "      <td>3</td>\n",
       "      <td>6</td>\n",
       "      <td>0</td>\n",
       "      <td>199</td>\n",
       "    </tr>\n",
       "    <tr>\n",
       "      <th>15</th>\n",
       "      <td>2</td>\n",
       "      <td>Станислав</td>\n",
       "      <td>31</td>\n",
       "      <td>Омск</td>\n",
       "      <td>ultra</td>\n",
       "      <td>2805.786329</td>\n",
       "      <td>21.0</td>\n",
       "      <td>2021-04-08</td>\n",
       "      <td>4</td>\n",
       "      <td>6</td>\n",
       "      <td>0</td>\n",
       "      <td>199</td>\n",
       "    </tr>\n",
       "    <tr>\n",
       "      <th>16</th>\n",
       "      <td>2</td>\n",
       "      <td>Станислав</td>\n",
       "      <td>31</td>\n",
       "      <td>Омск</td>\n",
       "      <td>ultra</td>\n",
       "      <td>3358.595495</td>\n",
       "      <td>19.0</td>\n",
       "      <td>2021-04-13</td>\n",
       "      <td>4</td>\n",
       "      <td>6</td>\n",
       "      <td>0</td>\n",
       "      <td>199</td>\n",
       "    </tr>\n",
       "    <tr>\n",
       "      <th>17</th>\n",
       "      <td>2</td>\n",
       "      <td>Станислав</td>\n",
       "      <td>31</td>\n",
       "      <td>Омск</td>\n",
       "      <td>ultra</td>\n",
       "      <td>3255.338202</td>\n",
       "      <td>14.0</td>\n",
       "      <td>2021-06-20</td>\n",
       "      <td>6</td>\n",
       "      <td>6</td>\n",
       "      <td>0</td>\n",
       "      <td>199</td>\n",
       "    </tr>\n",
       "    <tr>\n",
       "      <th>18</th>\n",
       "      <td>2</td>\n",
       "      <td>Станислав</td>\n",
       "      <td>31</td>\n",
       "      <td>Омск</td>\n",
       "      <td>ultra</td>\n",
       "      <td>3942.817648</td>\n",
       "      <td>21.0</td>\n",
       "      <td>2021-07-02</td>\n",
       "      <td>7</td>\n",
       "      <td>6</td>\n",
       "      <td>0</td>\n",
       "      <td>199</td>\n",
       "    </tr>\n",
       "    <tr>\n",
       "      <th>19</th>\n",
       "      <td>2</td>\n",
       "      <td>Станислав</td>\n",
       "      <td>31</td>\n",
       "      <td>Омск</td>\n",
       "      <td>ultra</td>\n",
       "      <td>2837.905316</td>\n",
       "      <td>27.0</td>\n",
       "      <td>2021-07-18</td>\n",
       "      <td>7</td>\n",
       "      <td>6</td>\n",
       "      <td>0</td>\n",
       "      <td>199</td>\n",
       "    </tr>\n",
       "  </tbody>\n",
       "</table>\n",
       "</div>"
      ],
      "text/plain": [
       "    user_id       name  age    city subscription_type     distance  duration  \\\n",
       "0         1       Кира   22  Тюмень             ultra  4409.919140      26.0   \n",
       "1         1       Кира   22  Тюмень             ultra  2617.592153      16.0   \n",
       "2         1       Кира   22  Тюмень             ultra   754.159807       7.0   \n",
       "3         1       Кира   22  Тюмень             ultra  2694.783254      19.0   \n",
       "4         1       Кира   22  Тюмень             ultra  4028.687306      27.0   \n",
       "5         1       Кира   22  Тюмень             ultra  2770.890808      17.0   \n",
       "6         1       Кира   22  Тюмень             ultra  3039.020292      15.0   \n",
       "7         1       Кира   22  Тюмень             ultra  2842.118050      24.0   \n",
       "8         1       Кира   22  Тюмень             ultra  3412.690668      16.0   \n",
       "9         1       Кира   22  Тюмень             ultra   748.690645      16.0   \n",
       "10        1       Кира   22  Тюмень             ultra  4031.020195      18.0   \n",
       "11        1       Кира   22  Тюмень             ultra  2720.609748      10.0   \n",
       "12        2  Станислав   31    Омск             ultra  3105.086678      25.0   \n",
       "13        2  Станислав   31    Омск             ultra  3053.519401      12.0   \n",
       "14        2  Станислав   31    Омск             ultra  4029.116927      26.0   \n",
       "15        2  Станислав   31    Омск             ultra  2805.786329      21.0   \n",
       "16        2  Станислав   31    Омск             ultra  3358.595495      19.0   \n",
       "17        2  Станислав   31    Омск             ultra  3255.338202      14.0   \n",
       "18        2  Станислав   31    Омск             ultra  3942.817648      21.0   \n",
       "19        2  Станислав   31    Омск             ultra  2837.905316      27.0   \n",
       "\n",
       "         date  month  minute_price  start_ride_price  subscription_fee  \n",
       "0  2021-01-01      1             6                 0               199  \n",
       "1  2021-01-18      1             6                 0               199  \n",
       "2  2021-04-20      4             6                 0               199  \n",
       "3  2021-08-11      8             6                 0               199  \n",
       "4  2021-08-28      8             6                 0               199  \n",
       "5  2021-10-09     10             6                 0               199  \n",
       "6  2021-10-19     10             6                 0               199  \n",
       "7  2021-11-06     11             6                 0               199  \n",
       "8  2021-11-14     11             6                 0               199  \n",
       "9  2021-11-22     11             6                 0               199  \n",
       "10 2021-12-14     12             6                 0               199  \n",
       "11 2021-12-22     12             6                 0               199  \n",
       "12 2021-03-15      3             6                 0               199  \n",
       "13 2021-03-18      3             6                 0               199  \n",
       "14 2021-03-23      3             6                 0               199  \n",
       "15 2021-04-08      4             6                 0               199  \n",
       "16 2021-04-13      4             6                 0               199  \n",
       "17 2021-06-20      6             6                 0               199  \n",
       "18 2021-07-02      7             6                 0               199  \n",
       "19 2021-07-18      7             6                 0               199  "
      ]
     },
     "execution_count": 41,
     "metadata": {},
     "output_type": "execute_result"
    }
   ],
   "source": [
    "# проверка датафрейма\n",
    "print(data_users.info())\n",
    "print(data_rides.info())\n",
    "print(data_subscriptions.info())\n",
    "print(data_total.info())\n",
    "data_total.head(20)"
   ]
  },
  {
   "cell_type": "code",
   "execution_count": 42,
   "metadata": {
    "id": "B1f4cgI_RdUb"
   },
   "outputs": [],
   "source": [
    "# создание датафрейма пользователей с подпиской\n",
    "data_sub_ultra = data_total[data_total['subscription_type'] == 'ultra']"
   ]
  },
  {
   "cell_type": "code",
   "execution_count": 43,
   "metadata": {
    "id": "M1VtcgAWRFQQ"
   },
   "outputs": [],
   "source": [
    "# создание датафрейма пользователей без подписки\n",
    "data_sub_free = data_total[data_total['subscription_type'] == 'free']"
   ]
  },
  {
   "cell_type": "markdown",
   "metadata": {
    "id": "Txxofze-SYuX"
   },
   "source": [
    "### Исследование пользователей с подпиской"
   ]
  },
  {
   "cell_type": "markdown",
   "metadata": {
    "id": "0lNlVLYgTYcJ"
   },
   "source": [
    "#### Расстояние за одну поездку"
   ]
  },
  {
   "cell_type": "code",
   "execution_count": 44,
   "metadata": {
    "colab": {
     "base_uri": "https://localhost:8080/"
    },
    "id": "XcAM_S8fTQkS",
    "outputId": "b02a52f6-2524-4ecc-b4d3-a6db9093a9b2"
   },
   "outputs": [
    {
     "data": {
      "text/plain": [
       "count    6500.000000\n",
       "mean     3115.445388\n",
       "std       836.895330\n",
       "min       244.210438\n",
       "25%      2785.444017\n",
       "50%      3148.637229\n",
       "75%      3560.574425\n",
       "max      5699.769662\n",
       "Name: distance, dtype: float64"
      ]
     },
     "execution_count": 44,
     "metadata": {},
     "output_type": "execute_result"
    }
   ],
   "source": [
    "data_sub_ultra['distance'].describe()"
   ]
  },
  {
   "cell_type": "code",
   "execution_count": 45,
   "metadata": {
    "colab": {
     "base_uri": "https://localhost:8080/",
     "height": 447
    },
    "id": "_CnySzcZShC7",
    "outputId": "0a355398-d50c-465c-c494-92262b5dd751"
   },
   "outputs": [
    {
     "data": {
      "text/plain": [
       "Text(0, 0.5, 'Количество пользователей')"
      ]
     },
     "execution_count": 45,
     "metadata": {},
     "output_type": "execute_result"
    },
    {
     "data": {
      "image/png": "[encoded data removed]",
      "text/plain": [
       "<Figure size 432x288 with 1 Axes>"
      ]
     },
     "metadata": {
      "needs_background": "light"
     },
     "output_type": "display_data"
    }
   ],
   "source": [
    "data_sub_ultra['distance'].hist(bins=50)\n",
    "plt.title('Расстояние, за одну поездку')\n",
    "plt.xlabel('Расстояние')\n",
    "plt.ylabel('Количество пользователей')"
   ]
  },
  {
   "cell_type": "markdown",
   "metadata": {
    "id": "v01X8IETYxZe"
   },
   "source": [
    "#### Продолжительность поездок"
   ]
  },
  {
   "cell_type": "code",
   "execution_count": 46,
   "metadata": {
    "colab": {
     "base_uri": "https://localhost:8080/"
    },
    "id": "2gMrDNX7Y3Jy",
    "outputId": "c4d6f83e-2c36-4b5f-b495-f3ca663c8deb"
   },
   "outputs": [
    {
     "data": {
      "text/plain": [
       "count    6500.000000\n",
       "mean       19.037692\n",
       "std         5.577439\n",
       "min         4.000000\n",
       "25%        15.000000\n",
       "50%        19.000000\n",
       "75%        22.000000\n",
       "max        41.000000\n",
       "Name: duration, dtype: float64"
      ]
     },
     "execution_count": 46,
     "metadata": {},
     "output_type": "execute_result"
    }
   ],
   "source": [
    "data_sub_ultra['duration'].describe()"
   ]
  },
  {
   "cell_type": "code",
   "execution_count": 47,
   "metadata": {
    "colab": {
     "base_uri": "https://localhost:8080/",
     "height": 447
    },
    "id": "a6_9AcqyY_R-",
    "outputId": "cad0c7c0-0615-4dfa-c258-f1d195e1d232"
   },
   "outputs": [
    {
     "data": {
      "text/plain": [
       "Text(0, 0.5, 'Количество пользователей')"
      ]
     },
     "execution_count": 47,
     "metadata": {},
     "output_type": "execute_result"
    },
    {
     "data": {
      "image/png": "[encoded data removed]",
      "text/plain": [
       "<Figure size 432x288 with 1 Axes>"
      ]
     },
     "metadata": {
      "needs_background": "light"
     },
     "output_type": "display_data"
    }
   ],
   "source": [
    "data_sub_ultra['duration'].hist(bins=50)\n",
    "plt.title('Продолжительность, за одну поездку')\n",
    "plt.xlabel('Продолжительность')\n",
    "plt.ylabel('Количество пользователей')"
   ]
  },
  {
   "cell_type": "markdown",
   "metadata": {
    "id": "f-SZ7DjLS5Ec"
   },
   "source": [
    "### Исследование пользователей без подписки"
   ]
  },
  {
   "cell_type": "markdown",
   "metadata": {
    "id": "8pO-3NPdThtN"
   },
   "source": [
    "#### Расстояние за одну поездку"
   ]
  },
  {
   "cell_type": "code",
   "execution_count": 48,
   "metadata": {
    "colab": {
     "base_uri": "https://localhost:8080/"
    },
    "id": "TRS0fqcFTms_",
    "outputId": "daea65fe-5cf2-45cb-9d9a-27b1111f8ff2"
   },
   "outputs": [
    {
     "data": {
      "text/plain": [
       "count    11568.000000\n",
       "mean      3045.495282\n",
       "std       1246.173806\n",
       "min          0.855683\n",
       "25%       2366.562689\n",
       "50%       3114.648465\n",
       "75%       3905.697894\n",
       "max       7211.007745\n",
       "Name: distance, dtype: float64"
      ]
     },
     "execution_count": 48,
     "metadata": {},
     "output_type": "execute_result"
    }
   ],
   "source": [
    "data_sub_free['distance'].describe()"
   ]
  },
  {
   "cell_type": "code",
   "execution_count": 49,
   "metadata": {
    "colab": {
     "base_uri": "https://localhost:8080/",
     "height": 447
    },
    "id": "5_v049nCTAdi",
    "outputId": "27a673fa-0b0a-406a-dccb-84deca4e53e5"
   },
   "outputs": [
    {
     "data": {
      "text/plain": [
       "Text(0, 0.5, 'Количество пользователей')"
      ]
     },
     "execution_count": 49,
     "metadata": {},
     "output_type": "execute_result"
    },
    {
     "data": {
      "image/png": "[encoded data removed]",
      "text/plain": [
       "<Figure size 432x288 with 1 Axes>"
      ]
     },
     "metadata": {
      "needs_background": "light"
     },
     "output_type": "display_data"
    }
   ],
   "source": [
    "data_sub_free['distance'].hist(bins=50)\n",
    "plt.title('Расстояние, за одну поездку')\n",
    "plt.xlabel('Расстояние')\n",
    "plt.ylabel('Количество пользователей')"
   ]
  },
  {
   "cell_type": "markdown",
   "metadata": {
    "id": "8VqorbWAZHft"
   },
   "source": [
    "#### Продолжительность поездок"
   ]
  },
  {
   "cell_type": "code",
   "execution_count": 50,
   "metadata": {
    "colab": {
     "base_uri": "https://localhost:8080/"
    },
    "id": "ZSsfAlVRZLCl",
    "outputId": "dd72673b-e4f3-434f-e8a0-28415cb67c4a"
   },
   "outputs": [
    {
     "data": {
      "text/plain": [
       "count    11568.000000\n",
       "mean        18.132521\n",
       "std          6.251327\n",
       "min          3.000000\n",
       "25%         14.000000\n",
       "50%         18.000000\n",
       "75%         22.000000\n",
       "max         43.000000\n",
       "Name: duration, dtype: float64"
      ]
     },
     "execution_count": 50,
     "metadata": {},
     "output_type": "execute_result"
    }
   ],
   "source": [
    "data_sub_free['duration'].describe()"
   ]
  },
  {
   "cell_type": "code",
   "execution_count": 51,
   "metadata": {
    "colab": {
     "base_uri": "https://localhost:8080/",
     "height": 447
    },
    "id": "pv837z_PZNYb",
    "outputId": "83f9b2cf-9227-4af5-a614-a0eaa7606871"
   },
   "outputs": [
    {
     "data": {
      "text/plain": [
       "Text(0, 0.5, 'Количество пользователей')"
      ]
     },
     "execution_count": 51,
     "metadata": {},
     "output_type": "execute_result"
    },
    {
     "data": {
      "image/png": "[encoded data removed]",
      "text/plain": [
       "<Figure size 432x288 with 1 Axes>"
      ]
     },
     "metadata": {
      "needs_background": "light"
     },
     "output_type": "display_data"
    }
   ],
   "source": [
    "data_sub_free['duration'].hist(bins=50)\n",
    "plt.title('Продолжительность, за одну поездку')\n",
    "plt.xlabel('Продолжительность')\n",
    "plt.ylabel('Количество пользователей')"
   ]
  },
  {
   "cell_type": "markdown",
   "metadata": {
    "id": "fCwzp_w4ZoYq"
   },
   "source": [
    "### Выводы\n",
    "- Среднее расстояние, которое преодолевают пользователи с подпиской и без подписки равны;\n",
    "    - Пользователи с подпиской в среднем проезжают от 2785 до 3560;\n",
    "    - Пользователи без подписки в среднем проезжают от 2384 до 3913.\n",
    "- Продолжительность поездок пользователей не отличается. В среднем они едут от 13 до 21 минут."
   ]
  },
  {
   "cell_type": "markdown",
   "metadata": {
    "id": "u_2h9gxdlzYa"
   },
   "source": [
    "## Подсчёт выручки"
   ]
  },
  {
   "cell_type": "markdown",
   "metadata": {
    "id": "FtFstuHX9MQG"
   },
   "source": [
    "### Помесячная выручка от каждого пользователя"
   ]
  },
  {
   "cell_type": "code",
   "execution_count": 52,
   "metadata": {
    "id": "zEbiZG8Nomwy"
   },
   "outputs": [],
   "source": [
    "data_users_gr = data_total.pivot_table(\n",
    "    index=['user_id', 'month'],\n",
    "    values=['distance', 'duration', 'minute_price', 'start_ride_price', 'subscription_fee'],\n",
    "    aggfunc=({\n",
    "        'distance': {'count', 'sum'},\n",
    "        'duration': 'sum',\n",
    "        'minute_price': 'median',\n",
    "        'start_ride_price': 'median',\n",
    "        'subscription_fee': 'median'\n",
    "    })\n",
    ")\n",
    "data_users_gr.columns = [ 'count', 'distance_sum', 'duration_sum', 'minute_price', 'start_ride_price', 'subscription_fee']"
   ]
  },
  {
   "cell_type": "code",
   "execution_count": 53,
   "metadata": {
    "id": "oRzZeq2_u53d"
   },
   "outputs": [],
   "source": [
    "# подсчет помесячной выручки от каждого пользователя\n",
    "data_users_gr['income'] = (data_users_gr['start_ride_price'] * data_users_gr['count']) + \\\n",
    "(data_users_gr['duration_sum'] * data_users_gr['minute_price']) + \\\n",
    "data_users_gr['subscription_fee']"
   ]
  },
  {
   "cell_type": "code",
   "execution_count": 54,
   "metadata": {
    "colab": {
     "base_uri": "https://localhost:8080/",
     "height": 708
    },
    "id": "n4wkYwjF5bC9",
    "outputId": "cddb5681-9a7f-4d2b-fa0f-b40545f56c50",
    "scrolled": false
   },
   "outputs": [
    {
     "data": {
      "text/html": [
       "<div>\n",
       "<style scoped>\n",
       "    .dataframe tbody tr th:only-of-type {\n",
       "        vertical-align: middle;\n",
       "    }\n",
       "\n",
       "    .dataframe tbody tr th {\n",
       "        vertical-align: top;\n",
       "    }\n",
       "\n",
       "    .dataframe thead th {\n",
       "        text-align: right;\n",
       "    }\n",
       "</style>\n",
       "<table border=\"1\" class=\"dataframe\">\n",
       "  <thead>\n",
       "    <tr style=\"text-align: right;\">\n",
       "      <th></th>\n",
       "      <th></th>\n",
       "      <th>count</th>\n",
       "      <th>distance_sum</th>\n",
       "      <th>duration_sum</th>\n",
       "      <th>minute_price</th>\n",
       "      <th>start_ride_price</th>\n",
       "      <th>subscription_fee</th>\n",
       "      <th>income</th>\n",
       "    </tr>\n",
       "    <tr>\n",
       "      <th>user_id</th>\n",
       "      <th>month</th>\n",
       "      <th></th>\n",
       "      <th></th>\n",
       "      <th></th>\n",
       "      <th></th>\n",
       "      <th></th>\n",
       "      <th></th>\n",
       "      <th></th>\n",
       "    </tr>\n",
       "  </thead>\n",
       "  <tbody>\n",
       "    <tr>\n",
       "      <th rowspan=\"6\" valign=\"top\">1</th>\n",
       "      <th>1</th>\n",
       "      <td>2</td>\n",
       "      <td>7027.511294</td>\n",
       "      <td>42.0</td>\n",
       "      <td>6</td>\n",
       "      <td>0</td>\n",
       "      <td>199</td>\n",
       "      <td>451.0</td>\n",
       "    </tr>\n",
       "    <tr>\n",
       "      <th>4</th>\n",
       "      <td>1</td>\n",
       "      <td>754.159807</td>\n",
       "      <td>7.0</td>\n",
       "      <td>6</td>\n",
       "      <td>0</td>\n",
       "      <td>199</td>\n",
       "      <td>241.0</td>\n",
       "    </tr>\n",
       "    <tr>\n",
       "      <th>8</th>\n",
       "      <td>2</td>\n",
       "      <td>6723.470560</td>\n",
       "      <td>46.0</td>\n",
       "      <td>6</td>\n",
       "      <td>0</td>\n",
       "      <td>199</td>\n",
       "      <td>475.0</td>\n",
       "    </tr>\n",
       "    <tr>\n",
       "      <th>10</th>\n",
       "      <td>2</td>\n",
       "      <td>5809.911100</td>\n",
       "      <td>32.0</td>\n",
       "      <td>6</td>\n",
       "      <td>0</td>\n",
       "      <td>199</td>\n",
       "      <td>391.0</td>\n",
       "    </tr>\n",
       "    <tr>\n",
       "      <th>11</th>\n",
       "      <td>3</td>\n",
       "      <td>7003.499363</td>\n",
       "      <td>56.0</td>\n",
       "      <td>6</td>\n",
       "      <td>0</td>\n",
       "      <td>199</td>\n",
       "      <td>535.0</td>\n",
       "    </tr>\n",
       "    <tr>\n",
       "      <th>12</th>\n",
       "      <td>2</td>\n",
       "      <td>6751.629942</td>\n",
       "      <td>28.0</td>\n",
       "      <td>6</td>\n",
       "      <td>0</td>\n",
       "      <td>199</td>\n",
       "      <td>367.0</td>\n",
       "    </tr>\n",
       "    <tr>\n",
       "      <th rowspan=\"7\" valign=\"top\">2</th>\n",
       "      <th>3</th>\n",
       "      <td>3</td>\n",
       "      <td>10187.723006</td>\n",
       "      <td>63.0</td>\n",
       "      <td>6</td>\n",
       "      <td>0</td>\n",
       "      <td>199</td>\n",
       "      <td>577.0</td>\n",
       "    </tr>\n",
       "    <tr>\n",
       "      <th>4</th>\n",
       "      <td>2</td>\n",
       "      <td>6164.381824</td>\n",
       "      <td>40.0</td>\n",
       "      <td>6</td>\n",
       "      <td>0</td>\n",
       "      <td>199</td>\n",
       "      <td>439.0</td>\n",
       "    </tr>\n",
       "    <tr>\n",
       "      <th>6</th>\n",
       "      <td>1</td>\n",
       "      <td>3255.338202</td>\n",
       "      <td>14.0</td>\n",
       "      <td>6</td>\n",
       "      <td>0</td>\n",
       "      <td>199</td>\n",
       "      <td>283.0</td>\n",
       "    </tr>\n",
       "    <tr>\n",
       "      <th>7</th>\n",
       "      <td>2</td>\n",
       "      <td>6780.722964</td>\n",
       "      <td>48.0</td>\n",
       "      <td>6</td>\n",
       "      <td>0</td>\n",
       "      <td>199</td>\n",
       "      <td>487.0</td>\n",
       "    </tr>\n",
       "    <tr>\n",
       "      <th>8</th>\n",
       "      <td>1</td>\n",
       "      <td>923.007439</td>\n",
       "      <td>7.0</td>\n",
       "      <td>6</td>\n",
       "      <td>0</td>\n",
       "      <td>199</td>\n",
       "      <td>241.0</td>\n",
       "    </tr>\n",
       "    <tr>\n",
       "      <th>10</th>\n",
       "      <td>1</td>\n",
       "      <td>2824.636598</td>\n",
       "      <td>19.0</td>\n",
       "      <td>6</td>\n",
       "      <td>0</td>\n",
       "      <td>199</td>\n",
       "      <td>313.0</td>\n",
       "    </tr>\n",
       "    <tr>\n",
       "      <th>12</th>\n",
       "      <td>1</td>\n",
       "      <td>3828.248580</td>\n",
       "      <td>12.0</td>\n",
       "      <td>6</td>\n",
       "      <td>0</td>\n",
       "      <td>199</td>\n",
       "      <td>271.0</td>\n",
       "    </tr>\n",
       "    <tr>\n",
       "      <th rowspan=\"7\" valign=\"top\">3</th>\n",
       "      <th>1</th>\n",
       "      <td>1</td>\n",
       "      <td>3061.777147</td>\n",
       "      <td>13.0</td>\n",
       "      <td>6</td>\n",
       "      <td>0</td>\n",
       "      <td>199</td>\n",
       "      <td>277.0</td>\n",
       "    </tr>\n",
       "    <tr>\n",
       "      <th>2</th>\n",
       "      <td>2</td>\n",
       "      <td>5421.152016</td>\n",
       "      <td>39.0</td>\n",
       "      <td>6</td>\n",
       "      <td>0</td>\n",
       "      <td>199</td>\n",
       "      <td>433.0</td>\n",
       "    </tr>\n",
       "    <tr>\n",
       "      <th>4</th>\n",
       "      <td>1</td>\n",
       "      <td>2956.651632</td>\n",
       "      <td>21.0</td>\n",
       "      <td>6</td>\n",
       "      <td>0</td>\n",
       "      <td>199</td>\n",
       "      <td>325.0</td>\n",
       "    </tr>\n",
       "    <tr>\n",
       "      <th>5</th>\n",
       "      <td>3</td>\n",
       "      <td>9064.026918</td>\n",
       "      <td>63.0</td>\n",
       "      <td>6</td>\n",
       "      <td>0</td>\n",
       "      <td>199</td>\n",
       "      <td>577.0</td>\n",
       "    </tr>\n",
       "    <tr>\n",
       "      <th>7</th>\n",
       "      <td>3</td>\n",
       "      <td>10919.595403</td>\n",
       "      <td>67.0</td>\n",
       "      <td>6</td>\n",
       "      <td>0</td>\n",
       "      <td>199</td>\n",
       "      <td>601.0</td>\n",
       "    </tr>\n",
       "    <tr>\n",
       "      <th>9</th>\n",
       "      <td>1</td>\n",
       "      <td>2891.012822</td>\n",
       "      <td>23.0</td>\n",
       "      <td>6</td>\n",
       "      <td>0</td>\n",
       "      <td>199</td>\n",
       "      <td>337.0</td>\n",
       "    </tr>\n",
       "    <tr>\n",
       "      <th>12</th>\n",
       "      <td>1</td>\n",
       "      <td>2593.381928</td>\n",
       "      <td>13.0</td>\n",
       "      <td>6</td>\n",
       "      <td>0</td>\n",
       "      <td>199</td>\n",
       "      <td>277.0</td>\n",
       "    </tr>\n",
       "  </tbody>\n",
       "</table>\n",
       "</div>"
      ],
      "text/plain": [
       "               count  distance_sum  duration_sum  minute_price  \\\n",
       "user_id month                                                    \n",
       "1       1          2   7027.511294          42.0             6   \n",
       "        4          1    754.159807           7.0             6   \n",
       "        8          2   6723.470560          46.0             6   \n",
       "        10         2   5809.911100          32.0             6   \n",
       "        11         3   7003.499363          56.0             6   \n",
       "        12         2   6751.629942          28.0             6   \n",
       "2       3          3  10187.723006          63.0             6   \n",
       "        4          2   6164.381824          40.0             6   \n",
       "        6          1   3255.338202          14.0             6   \n",
       "        7          2   6780.722964          48.0             6   \n",
       "        8          1    923.007439           7.0             6   \n",
       "        10         1   2824.636598          19.0             6   \n",
       "        12         1   3828.248580          12.0             6   \n",
       "3       1          1   3061.777147          13.0             6   \n",
       "        2          2   5421.152016          39.0             6   \n",
       "        4          1   2956.651632          21.0             6   \n",
       "        5          3   9064.026918          63.0             6   \n",
       "        7          3  10919.595403          67.0             6   \n",
       "        9          1   2891.012822          23.0             6   \n",
       "        12         1   2593.381928          13.0             6   \n",
       "\n",
       "               start_ride_price  subscription_fee  income  \n",
       "user_id month                                              \n",
       "1       1                     0               199   451.0  \n",
       "        4                     0               199   241.0  \n",
       "        8                     0               199   475.0  \n",
       "        10                    0               199   391.0  \n",
       "        11                    0               199   535.0  \n",
       "        12                    0               199   367.0  \n",
       "2       3                     0               199   577.0  \n",
       "        4                     0               199   439.0  \n",
       "        6                     0               199   283.0  \n",
       "        7                     0               199   487.0  \n",
       "        8                     0               199   241.0  \n",
       "        10                    0               199   313.0  \n",
       "        12                    0               199   271.0  \n",
       "3       1                     0               199   277.0  \n",
       "        2                     0               199   433.0  \n",
       "        4                     0               199   325.0  \n",
       "        5                     0               199   577.0  \n",
       "        7                     0               199   601.0  \n",
       "        9                     0               199   337.0  \n",
       "        12                    0               199   277.0  "
      ]
     },
     "execution_count": 54,
     "metadata": {},
     "output_type": "execute_result"
    }
   ],
   "source": [
    "data_users_gr.head(20)"
   ]
  },
  {
   "cell_type": "code",
   "execution_count": 55,
   "metadata": {
    "colab": {
     "base_uri": "https://localhost:8080/"
    },
    "id": "fJuEVNSb6FKO",
    "outputId": "26891fe7-c1bf-434f-9e3a-c34c7bbcc1dc"
   },
   "outputs": [
    {
     "data": {
      "text/plain": [
       "count    11331.000000\n",
       "mean       344.276145\n",
       "std        154.725417\n",
       "min         74.000000\n",
       "25%        234.000000\n",
       "50%        319.000000\n",
       "75%        420.000000\n",
       "max       1444.000000\n",
       "Name: income, dtype: float64"
      ]
     },
     "execution_count": 55,
     "metadata": {},
     "output_type": "execute_result"
    }
   ],
   "source": [
    "data_users_gr['income'].describe()"
   ]
  },
  {
   "cell_type": "code",
   "execution_count": 56,
   "metadata": {
    "colab": {
     "base_uri": "https://localhost:8080/",
     "height": 447
    },
    "id": "0ZFl9a595ql8",
    "outputId": "481a5c33-1c22-4fe0-cfeb-ac730e1f643c"
   },
   "outputs": [
    {
     "data": {
      "text/plain": [
       "<AxesSubplot:>"
      ]
     },
     "execution_count": 56,
     "metadata": {},
     "output_type": "execute_result"
    },
    {
     "data": {
      "image/png": "[encoded data removed]",
      "text/plain": [
       "<Figure size 432x288 with 1 Axes>"
      ]
     },
     "metadata": {
      "needs_background": "light"
     },
     "output_type": "display_data"
    }
   ],
   "source": [
    "data_users_gr['income'].hist(bins=50)"
   ]
  },
  {
   "cell_type": "code",
   "execution_count": 57,
   "metadata": {
    "colab": {
     "base_uri": "https://localhost:8080/"
    },
    "id": "kr7Zs_lY-_AP",
    "outputId": "1cc4fe2e-0d30-4120-f1a3-a4c5b66e8741"
   },
   "outputs": [
    {
     "data": {
      "text/plain": [
       "3900993.0"
      ]
     },
     "execution_count": 57,
     "metadata": {},
     "output_type": "execute_result"
    }
   ],
   "source": [
    "# выручка за 2021 год\n",
    "data_users_gr['income'].sum()"
   ]
  },
  {
   "cell_type": "markdown",
   "metadata": {
    "id": "BgIuy0S660uf"
   },
   "source": [
    "### Средняя месячная выручка от пользователей с подпиской"
   ]
  },
  {
   "cell_type": "code",
   "execution_count": 58,
   "metadata": {
    "colab": {
     "base_uri": "https://localhost:8080/"
    },
    "id": "GWXU31Vv6cac",
    "outputId": "1668f773-d86f-421c-f0f4-a1dafdf6a1f6"
   },
   "outputs": [
    {
     "data": {
      "text/plain": [
       "count    4533.000000\n",
       "mean      362.792191\n",
       "std        88.262737\n",
       "min       223.000000\n",
       "25%       301.000000\n",
       "50%       337.000000\n",
       "75%       409.000000\n",
       "max       955.000000\n",
       "Name: income, dtype: float64"
      ]
     },
     "execution_count": 58,
     "metadata": {},
     "output_type": "execute_result"
    }
   ],
   "source": [
    "data_users_gr.loc[data_users_gr['subscription_fee'] > 0,'income'].describe()"
   ]
  },
  {
   "cell_type": "code",
   "execution_count": 59,
   "metadata": {
    "colab": {
     "base_uri": "https://localhost:8080/"
    },
    "id": "nO3MQt_L932C",
    "outputId": "b3e7495c-78d8-47e5-d6cb-7e89ad6fb322"
   },
   "outputs": [
    {
     "data": {
      "text/plain": [
       "count    4533.000000\n",
       "mean        1.433929\n",
       "std         0.696331\n",
       "min         1.000000\n",
       "25%         1.000000\n",
       "50%         1.000000\n",
       "75%         2.000000\n",
       "max         6.000000\n",
       "Name: count, dtype: float64"
      ]
     },
     "execution_count": 59,
     "metadata": {},
     "output_type": "execute_result"
    }
   ],
   "source": [
    "data_users_gr.loc[data_users_gr['subscription_fee'] > 0,'count'].describe()"
   ]
  },
  {
   "cell_type": "code",
   "execution_count": 60,
   "metadata": {
    "colab": {
     "base_uri": "https://localhost:8080/",
     "height": 447
    },
    "id": "U3PBHadu65uX",
    "outputId": "8e8402d1-cda4-49cf-8a50-98822978b485"
   },
   "outputs": [
    {
     "data": {
      "text/plain": [
       "<AxesSubplot:>"
      ]
     },
     "execution_count": 60,
     "metadata": {},
     "output_type": "execute_result"
    },
    {
     "data": {
      "image/png": "[encoded data removed]",
      "text/plain": [
       "<Figure size 432x288 with 1 Axes>"
      ]
     },
     "metadata": {
      "needs_background": "light"
     },
     "output_type": "display_data"
    }
   ],
   "source": [
    "data_users_gr.loc[data_users_gr['subscription_fee'] > 0,'income'].hist(bins=50)"
   ]
  },
  {
   "cell_type": "markdown",
   "metadata": {
    "id": "CfZFVjYK7BIy"
   },
   "source": [
    "### Средняя месячная выручка от пользователей без подписки"
   ]
  },
  {
   "cell_type": "code",
   "execution_count": 61,
   "metadata": {
    "colab": {
     "base_uri": "https://localhost:8080/"
    },
    "id": "qpDNSDzb7EnJ",
    "outputId": "831493bd-2a29-461d-d648-92ec64862116"
   },
   "outputs": [
    {
     "data": {
      "text/plain": [
       "count    6798.000000\n",
       "mean      331.929391\n",
       "std       185.284588\n",
       "min        74.000000\n",
       "25%       194.000000\n",
       "50%       274.000000\n",
       "75%       428.000000\n",
       "max      1444.000000\n",
       "Name: income, dtype: float64"
      ]
     },
     "execution_count": 61,
     "metadata": {},
     "output_type": "execute_result"
    }
   ],
   "source": [
    "data_users_gr.loc[data_users_gr['subscription_fee'] == 0,'income'].describe()"
   ]
  },
  {
   "cell_type": "code",
   "execution_count": 62,
   "metadata": {
    "colab": {
     "base_uri": "https://localhost:8080/"
    },
    "id": "B4wwKF8M9pLL",
    "outputId": "08096809-7b33-41c0-83b6-73b8554381a3"
   },
   "outputs": [
    {
     "data": {
      "text/plain": [
       "count    6798.000000\n",
       "mean        1.701677\n",
       "std         0.894871\n",
       "min         1.000000\n",
       "25%         1.000000\n",
       "50%         1.000000\n",
       "75%         2.000000\n",
       "max         7.000000\n",
       "Name: count, dtype: float64"
      ]
     },
     "execution_count": 62,
     "metadata": {},
     "output_type": "execute_result"
    }
   ],
   "source": [
    "data_users_gr.loc[data_users_gr['subscription_fee'] == 0,'count'].describe()"
   ]
  },
  {
   "cell_type": "code",
   "execution_count": 63,
   "metadata": {
    "colab": {
     "base_uri": "https://localhost:8080/",
     "height": 447
    },
    "id": "N58v3Vda7Jrg",
    "outputId": "42c77898-a516-4e77-8886-4af6ea2d1d4d"
   },
   "outputs": [
    {
     "data": {
      "text/plain": [
       "<AxesSubplot:>"
      ]
     },
     "execution_count": 63,
     "metadata": {},
     "output_type": "execute_result"
    },
    {
     "data": {
      "image/png": "[encoded data removed]",
      "text/plain": [
       "<Figure size 432x288 with 1 Axes>"
      ]
     },
     "metadata": {
      "needs_background": "light"
     },
     "output_type": "display_data"
    }
   ],
   "source": [
    "data_users_gr.loc[data_users_gr['subscription_fee'] == 0,'income'].hist(bins=50)"
   ]
  },
  {
   "cell_type": "markdown",
   "metadata": {
    "id": "yP6MhN4i8Mub"
   },
   "source": [
    "### Выводы\n",
    "- Выручка за 2021 год 3 865 825 руб.\n",
    "- Средняя помесячная выручка от каждого пользователя - 319 руб;\n",
    "    - От пользователей с подпиской - 331 руб;\n",
    "    - От пользователей без подписки - 274 руб."
   ]
  },
  {
   "cell_type": "markdown",
   "metadata": {
    "id": "qKjHpwLulzVl"
   },
   "source": [
    "## Проверка гипотез"
   ]
  },
  {
   "cell_type": "markdown",
   "metadata": {
    "id": "ppTAnxZj_oSQ"
   },
   "source": [
    "### Гипотеза 1"
   ]
  },
  {
   "cell_type": "markdown",
   "metadata": {
    "id": "6aU32G7NARwO"
   },
   "source": [
    "H0: Пользователи с подпиской и пользователи без подписки тратят равное время на поездки.\n",
    "\n",
    "H1: Пользователи с подпиской тратят больше времени на поездки, чем пользователи без подписки."
   ]
  },
  {
   "cell_type": "code",
   "execution_count": 64,
   "metadata": {
    "colab": {
     "base_uri": "https://localhost:8080/"
    },
    "id": "yoJ7lzqPonO5",
    "outputId": "5656d5af-412b-4acd-8b82-a7fccf529b89"
   },
   "outputs": [
    {
     "name": "stdout",
     "output_type": "stream",
     "text": [
      "Среднее время без подписки: 18.13\n",
      "Среднее время с подпиской: 19.04\n",
      "p-value: 1.646827988200932e-22\n",
      "Отвергаем нулевую гипотезу\n"
     ]
    }
   ],
   "source": [
    "duration_no_sub = data_total.loc[data_total['subscription_fee'] == 0,'duration']\n",
    "duration_sub = data_total.loc[data_total['subscription_fee'] > 0,'duration']\n",
    "print(f'Среднее время без подписки: {duration_no_sub.mean().round(2)}')\n",
    "print(f'Среднее время с подпиской: {duration_sub.mean().round(2)}')\n",
    "\n",
    "# уровень статистической значимости\n",
    "alpha = 0.05\n",
    "\n",
    "results = st.ttest_ind(\n",
    "    duration_sub,\n",
    "    duration_no_sub,\n",
    "    alternative='greater'\n",
    ")\n",
    "\n",
    "print('p-value:', results.pvalue)\n",
    "\n",
    "if results.pvalue < alpha:\n",
    "    print('Отвергаем нулевую гипотезу')\n",
    "else:\n",
    "    print('Не получилось отвергнуть нулевую гипотезу')"
   ]
  },
  {
   "cell_type": "markdown",
   "metadata": {},
   "source": [
    "**Выводы:** нулевая гипотеза отвергнута, есть основание утверждать, что пользователи с подпиской в среднем тратят больше времени на поездки, чем пользователи без подписки."
   ]
  },
  {
   "cell_type": "markdown",
   "metadata": {
    "id": "wzLZQcRk_5ao"
   },
   "source": [
    "### Гипотеза 2"
   ]
  },
  {
   "cell_type": "markdown",
   "metadata": {
    "id": "oke4hQUFATj2"
   },
   "source": [
    "H0: Среднее расстояние, которое проезжают пользователи с подпиской за одну поездку, равно 3130 метрам.\n",
    "\n",
    "H1: Среднее расстояние, которое проезжают пользователи с подпиской за одну поездку, превышает 3130 метров."
   ]
  },
  {
   "cell_type": "code",
   "execution_count": 65,
   "metadata": {
    "colab": {
     "base_uri": "https://localhost:8080/"
    },
    "id": "ixv-4wTFA6Y6",
    "outputId": "bbaf004d-e1a6-41df-8321-c6df50109f4b"
   },
   "outputs": [
    {
     "name": "stdout",
     "output_type": "stream",
     "text": [
      "Среднее расстояние, которое проезжают пользователи с подпиской за одну поездку: 3115.45\n",
      "p-значение: 0.92\n",
      "Не получилось отвергнуть нулевую гипотезу\n"
     ]
    }
   ],
   "source": [
    "distance_sub = data_total.loc[data_total['subscription_fee'] > 0,'distance']\n",
    "print(f'Среднее расстояние, которое проезжают пользователи с подпиской за одну поездку: {distance_sub.mean().round(2)}')\n",
    "\n",
    "# среднее расстояние, которое должны проехать пользователи\n",
    "interested_distance = 3130\n",
    "\n",
    "# уровень статистической значимости\n",
    "alpha = 0.05\n",
    "\n",
    "results = st.ttest_1samp(\n",
    "    distance_sub,\n",
    "    interested_distance,\n",
    "    alternative='greater')\n",
    "\n",
    "print('p-значение:', results.pvalue.round(2))\n",
    "\n",
    "if results.pvalue < alpha:\n",
    "    print('Отвергаем нулевую гипотезу')\n",
    "else:\n",
    "    print('Не получилось отвергнуть нулевую гипотезу')"
   ]
  },
  {
   "cell_type": "markdown",
   "metadata": {},
   "source": [
    "**Выводы:** нулевую гипотезу неудалось отвергнуть, есть основание утверждать, что среднее расстояние, которое проезжают пользователи с подпиской за одну поездку, не превышает расстояние в 3130 метров."
   ]
  },
  {
   "cell_type": "markdown",
   "metadata": {
    "id": "h4RAz7UN_8y2"
   },
   "source": [
    "### Гипотеза 3"
   ]
  },
  {
   "cell_type": "markdown",
   "metadata": {
    "id": "4EJNjF0GAT7l"
   },
   "source": [
    "H0: Помесячная выручка от пользователей с подпиской и без подписки равны.\n",
    "\n",
    "H1: Помесячная выручка от пользователей с подпиской по месяцам выше, чем выручка от пользователей без подписки."
   ]
  },
  {
   "cell_type": "code",
   "execution_count": 66,
   "metadata": {
    "colab": {
     "base_uri": "https://localhost:8080/"
    },
    "id": "3ksZT0YtA7Aa",
    "outputId": "e08a578a-073d-44dd-d9e8-66f1a0761278"
   },
   "outputs": [
    {
     "name": "stdout",
     "output_type": "stream",
     "text": [
      "Помесячная выручка без подписки: 331.93\n",
      "Помесячная выручка с подпиской: 362.79\n",
      "p-value: 9.391432442479095e-26\n",
      "Отвергаем нулевую гипотезу\n"
     ]
    }
   ],
   "source": [
    "income_no_sub = data_users_gr.loc[data_users_gr['subscription_fee'] == 0,'income']\n",
    "income_sub = data_users_gr.loc[data_users_gr['subscription_fee'] > 0,'income']\n",
    "print(f'Помесячная выручка без подписки: {income_no_sub.mean().round(2)}')\n",
    "print(f'Помесячная выручка с подпиской: {income_sub.mean().round(2)}')\n",
    "\n",
    "# уровень статистической значимости\n",
    "alpha = 0.05\n",
    "\n",
    "results = st.ttest_ind(\n",
    "    income_sub,\n",
    "    income_no_sub,\n",
    "    alternative='greater'\n",
    ")\n",
    "\n",
    "print('p-value:', results.pvalue)\n",
    "\n",
    "if results.pvalue < alpha:\n",
    "    print('Отвергаем нулевую гипотезу')\n",
    "else:\n",
    "    print('Не получилось отвергнуть нулевую гипотезу')"
   ]
  },
  {
   "cell_type": "markdown",
   "metadata": {},
   "source": [
    "**Выводы:** Нулевая гипотеза отвергнута, есть основание утверждать, что средняя помесячная выручка от пользователей с подпиской по месяцам выше, чем выручка от пользователей без подписки."
   ]
  },
  {
   "cell_type": "markdown",
   "metadata": {
    "id": "sIX7pJ45ACXG"
   },
   "source": [
    "### Гипотеза 4"
   ]
  },
  {
   "cell_type": "markdown",
   "metadata": {
    "id": "W213OOkXAUZ8"
   },
   "source": [
    "Количество обращений в техподдержку значимо снизилось после обновления серверов сервиса."
   ]
  },
  {
   "cell_type": "markdown",
   "metadata": {
    "id": "1KN-K13vh3Fp"
   },
   "source": [
    "Наборы с данными для каждого пользователя до и после обновления - парные.\n",
    "\n",
    "Если рассматривается одна и та же генеральные совокупности и количество обращений измерено до и после обновления, тогда можно применить метод scipy.stats.ttest_rel(). Совокупности обязательно должны быть одного размера и согласовываться друг с другом."
   ]
  },
  {
   "cell_type": "markdown",
   "metadata": {
    "id": "R58IAByijSTa"
   },
   "source": [
    "### Выводы\n",
    "- Первая гипотеза не была отвергнула и можно утверждать, что пользователи с подпиской тратят больше времени на поездки, чем пользователи без подписки;\n",
    "- Вторая гипотеза тоже не была отвергнута и среднее расстояние, которое проезжают пользователи с подпиской за одну поездку, не превышает 3130 метров;\n",
    "- Третья гипотеза также не была отвергнута и можно утверждать, что помесячная выручка от пользователей с подпиской по месяцам выше, чем выручка от пользователей без подписки;\n",
    "- Чтобы проверить снизилось ои количество обращений в техподдержку необходимо применить метод scipy.stats.ttest_rel()\n",
    "    - Совокупности должны быть одного размера;\n",
    "    - Совокупности должны согласовываться."
   ]
  },
  {
   "cell_type": "markdown",
   "metadata": {
    "id": "3HSRl0wolzM0"
   },
   "source": [
    "## Общий вывод\n",
    "1. Проанализировано 3 набора данных:\n",
    "- информация о пользователях, 1565 записей;\n",
    "- информация о поездках за 2021 год, 18068 записей;\n",
    "- информация о подписках, 2 записи.\n",
    "2. Выполнена предобработка данных:\n",
    "- Тип данных в столбце с датой изменен на верный;\n",
    "- Создан новый столбце с месяцем в data_rides;\n",
    "- Удалены дубликаты в data_users.\n",
    "3. Выполнен исследовательский анализ данных:\n",
    "- Услугами сервиса пользуются больше всего в Пятигорске, на второй позиции оказался город Екатеринбург. Меньше пользователей из Тюмени и Москвы;\n",
    "- Количество пользователей без подписки (54.4%) превышает количество пользователей с подпиской (45.6%) на 4.4%;\n",
    "- Возраст пользователей от 17 до 33 лет. Средний возраст примерно 25 лет;\n",
    "- Основная часть пользователей проезжают от 2 до 5 км. В среднем они преодолевают расстояние около 3 км. Однако есть небольшой всплекс на расстоянии около 700 м, который нельзя отбрасывать;\n",
    "- Визуализация времени поездок пользователей показала, что основная доля поездок длятся от 8 до 28 минут. Среднее поездки - 18 минут;\n",
    "    - В данных обнаружена аномалия с временем поездки менее 1 минуты. При этом дистанция, которую проехал самокат большая. Время поездки пересчитано с использованием средней скорости самокатов в наборе данных, однако необходимо проверить ошибку, так как она может повлиять на прибыль сервиса.\n",
    "4. Выполнено объединение данных о пользователях с подпиской и без подписки:\n",
    "- Среднее расстояние, которое преодолевают пользователи с подпиской и без подписки почти равны;\n",
    "    - Пользователи с подпиской в среднем проезжают от 2785 до 3560;\n",
    "    - Пользователи без подписки в среднем проезжают от 2384 до 3913.\n",
    "- Продолжительность поездок пользователей почти не отличается. В среднем они едут от 13 до 21 минут.\n",
    "5. Посчитана выручка от пользователей:\n",
    "- Общая выручка за 2021 год - 3 865 825 руб;\n",
    "- Средняя помесячная выручка от каждого пользователя - 319 руб;\n",
    "    - От пользователей с подпиской - 331 руб;\n",
    "    - От пользователей без подписки - 274 руб.\n",
    "6. Проверены 4 гипотезы:\n",
    "- Пользователи с подпиской тратят больше времени на поездки, чем пользователи без подписки;\n",
    "- Среднее расстояние, которое проезжают пользователи с подпиской за одну поездку, не превышает 3130 метров;\n",
    "- Помесячная выручка от пользователей с подпиской по месяцам выше, чем выручка от пользователей без подписки;\n",
    "- Чтобы проверить снизилось ои количество обращений в техподдержку необходимо применить метод scipy.stats.ttest_rel()\n",
    "    - Совокупности должны быть одного размера;\n",
    "    - Совокупности должны согласовываться."
   ]
  }
 ],
 "metadata": {
  "ExecuteTimeLog": [
   {
    "duration": 1125,
    "start_time": "2024-03-28T07:45:59.927Z"
   },
   {
    "duration": 262,
    "start_time": "2024-03-28T07:46:01.054Z"
   },
   {
    "duration": 12,
    "start_time": "2024-03-28T07:46:01.318Z"
   },
   {
    "duration": 50,
    "start_time": "2024-03-28T07:46:01.333Z"
   },
   {
    "duration": 169,
    "start_time": "2024-03-28T07:46:01.384Z"
   },
   {
    "duration": 0,
    "start_time": "2024-03-28T07:46:01.557Z"
   },
   {
    "duration": 0,
    "start_time": "2024-03-28T07:46:01.558Z"
   },
   {
    "duration": 0,
    "start_time": "2024-03-28T07:46:01.559Z"
   },
   {
    "duration": 0,
    "start_time": "2024-03-28T07:46:01.559Z"
   },
   {
    "duration": 0,
    "start_time": "2024-03-28T07:46:01.561Z"
   },
   {
    "duration": 0,
    "start_time": "2024-03-28T07:46:01.562Z"
   },
   {
    "duration": 0,
    "start_time": "2024-03-28T07:46:01.573Z"
   },
   {
    "duration": 0,
    "start_time": "2024-03-28T07:46:01.574Z"
   },
   {
    "duration": 0,
    "start_time": "2024-03-28T07:46:01.575Z"
   },
   {
    "duration": 0,
    "start_time": "2024-03-28T07:46:01.576Z"
   },
   {
    "duration": 0,
    "start_time": "2024-03-28T07:46:01.577Z"
   },
   {
    "duration": 0,
    "start_time": "2024-03-28T07:46:01.579Z"
   },
   {
    "duration": 0,
    "start_time": "2024-03-28T07:46:01.580Z"
   },
   {
    "duration": 0,
    "start_time": "2024-03-28T07:46:01.581Z"
   },
   {
    "duration": 0,
    "start_time": "2024-03-28T07:46:01.582Z"
   },
   {
    "duration": 0,
    "start_time": "2024-03-28T07:46:01.583Z"
   },
   {
    "duration": 0,
    "start_time": "2024-03-28T07:46:01.584Z"
   },
   {
    "duration": 0,
    "start_time": "2024-03-28T07:46:01.585Z"
   },
   {
    "duration": 0,
    "start_time": "2024-03-28T07:46:01.586Z"
   },
   {
    "duration": 0,
    "start_time": "2024-03-28T07:46:01.588Z"
   },
   {
    "duration": 0,
    "start_time": "2024-03-28T07:46:01.589Z"
   },
   {
    "duration": 0,
    "start_time": "2024-03-28T07:46:01.590Z"
   },
   {
    "duration": 0,
    "start_time": "2024-03-28T07:46:01.591Z"
   },
   {
    "duration": 0,
    "start_time": "2024-03-28T07:46:01.592Z"
   },
   {
    "duration": 0,
    "start_time": "2024-03-28T07:46:01.593Z"
   },
   {
    "duration": 0,
    "start_time": "2024-03-28T07:46:01.593Z"
   },
   {
    "duration": 0,
    "start_time": "2024-03-28T07:46:01.594Z"
   },
   {
    "duration": 0,
    "start_time": "2024-03-28T07:46:01.595Z"
   },
   {
    "duration": 0,
    "start_time": "2024-03-28T07:46:01.596Z"
   },
   {
    "duration": 0,
    "start_time": "2024-03-28T07:46:01.597Z"
   },
   {
    "duration": 0,
    "start_time": "2024-03-28T07:46:01.598Z"
   },
   {
    "duration": 0,
    "start_time": "2024-03-28T07:46:01.598Z"
   },
   {
    "duration": 0,
    "start_time": "2024-03-28T07:46:01.599Z"
   },
   {
    "duration": 0,
    "start_time": "2024-03-28T07:46:01.604Z"
   },
   {
    "duration": 0,
    "start_time": "2024-03-28T07:46:01.605Z"
   },
   {
    "duration": 0,
    "start_time": "2024-03-28T07:46:01.607Z"
   },
   {
    "duration": 0,
    "start_time": "2024-03-28T07:46:01.608Z"
   },
   {
    "duration": 0,
    "start_time": "2024-03-28T07:46:01.609Z"
   },
   {
    "duration": 0,
    "start_time": "2024-03-28T07:46:01.610Z"
   },
   {
    "duration": 0,
    "start_time": "2024-03-28T07:46:01.611Z"
   },
   {
    "duration": 0,
    "start_time": "2024-03-28T07:46:01.612Z"
   },
   {
    "duration": 0,
    "start_time": "2024-03-28T07:46:01.613Z"
   },
   {
    "duration": 0,
    "start_time": "2024-03-28T07:46:01.614Z"
   },
   {
    "duration": 0,
    "start_time": "2024-03-28T07:46:01.616Z"
   },
   {
    "duration": 0,
    "start_time": "2024-03-28T07:46:01.673Z"
   },
   {
    "duration": 0,
    "start_time": "2024-03-28T07:46:01.674Z"
   },
   {
    "duration": 0,
    "start_time": "2024-03-28T07:46:01.675Z"
   },
   {
    "duration": 0,
    "start_time": "2024-03-28T07:46:01.677Z"
   },
   {
    "duration": 0,
    "start_time": "2024-03-28T07:46:01.678Z"
   },
   {
    "duration": 0,
    "start_time": "2024-03-28T07:46:01.679Z"
   },
   {
    "duration": 0,
    "start_time": "2024-03-28T07:46:01.680Z"
   },
   {
    "duration": 0,
    "start_time": "2024-03-28T07:46:01.681Z"
   },
   {
    "duration": 0,
    "start_time": "2024-03-28T07:46:01.682Z"
   },
   {
    "duration": 0,
    "start_time": "2024-03-28T07:46:01.683Z"
   },
   {
    "duration": 0,
    "start_time": "2024-03-28T07:46:01.685Z"
   },
   {
    "duration": 0,
    "start_time": "2024-03-28T07:46:01.686Z"
   },
   {
    "duration": 0,
    "start_time": "2024-03-28T07:46:01.687Z"
   },
   {
    "duration": 0,
    "start_time": "2024-03-28T07:46:01.688Z"
   },
   {
    "duration": 0,
    "start_time": "2024-03-28T07:46:01.690Z"
   },
   {
    "duration": 0,
    "start_time": "2024-03-28T07:46:01.691Z"
   },
   {
    "duration": 1209,
    "start_time": "2024-03-28T07:46:51.215Z"
   },
   {
    "duration": 142,
    "start_time": "2024-03-28T07:46:52.426Z"
   },
   {
    "duration": 14,
    "start_time": "2024-03-28T07:46:52.570Z"
   },
   {
    "duration": 25,
    "start_time": "2024-03-28T07:46:52.586Z"
   },
   {
    "duration": 12,
    "start_time": "2024-03-28T07:46:52.613Z"
   },
   {
    "duration": 49,
    "start_time": "2024-03-28T07:46:52.627Z"
   },
   {
    "duration": 45,
    "start_time": "2024-03-28T07:46:52.678Z"
   },
   {
    "duration": 26,
    "start_time": "2024-03-28T07:46:52.725Z"
   },
   {
    "duration": 23,
    "start_time": "2024-03-28T07:46:52.752Z"
   },
   {
    "duration": 9,
    "start_time": "2024-03-28T07:46:52.777Z"
   },
   {
    "duration": 6,
    "start_time": "2024-03-28T07:46:52.787Z"
   },
   {
    "duration": 6,
    "start_time": "2024-03-28T07:46:52.795Z"
   },
   {
    "duration": 45,
    "start_time": "2024-03-28T07:46:52.802Z"
   },
   {
    "duration": 8,
    "start_time": "2024-03-28T07:46:52.849Z"
   },
   {
    "duration": 7,
    "start_time": "2024-03-28T07:46:52.859Z"
   },
   {
    "duration": 15,
    "start_time": "2024-03-28T07:46:52.868Z"
   },
   {
    "duration": 30,
    "start_time": "2024-03-28T07:46:52.885Z"
   },
   {
    "duration": 13,
    "start_time": "2024-03-28T07:46:52.917Z"
   },
   {
    "duration": 16,
    "start_time": "2024-03-28T07:46:52.932Z"
   },
   {
    "duration": 6,
    "start_time": "2024-03-28T07:46:52.950Z"
   },
   {
    "duration": 209,
    "start_time": "2024-03-28T07:46:52.958Z"
   },
   {
    "duration": 5,
    "start_time": "2024-03-28T07:46:53.173Z"
   },
   {
    "duration": 121,
    "start_time": "2024-03-28T07:46:53.180Z"
   },
   {
    "duration": 6,
    "start_time": "2024-03-28T07:46:53.303Z"
   },
   {
    "duration": 321,
    "start_time": "2024-03-28T07:46:53.311Z"
   },
   {
    "duration": 10,
    "start_time": "2024-03-28T07:46:53.634Z"
   },
   {
    "duration": 10,
    "start_time": "2024-03-28T07:46:53.645Z"
   },
   {
    "duration": 225,
    "start_time": "2024-03-28T07:46:53.676Z"
   },
   {
    "duration": 218,
    "start_time": "2024-03-28T07:46:53.902Z"
   },
   {
    "duration": 15,
    "start_time": "2024-03-28T07:46:54.122Z"
   },
   {
    "duration": 8,
    "start_time": "2024-03-28T07:46:54.139Z"
   },
   {
    "duration": 25,
    "start_time": "2024-03-28T07:46:54.148Z"
   },
   {
    "duration": 201,
    "start_time": "2024-03-28T07:46:54.175Z"
   },
   {
    "duration": 266,
    "start_time": "2024-03-28T07:46:54.378Z"
   },
   {
    "duration": 5,
    "start_time": "2024-03-28T07:46:54.646Z"
   },
   {
    "duration": 34,
    "start_time": "2024-03-28T07:46:54.652Z"
   },
   {
    "duration": 190,
    "start_time": "2024-03-28T07:46:54.688Z"
   },
   {
    "duration": 8,
    "start_time": "2024-03-28T07:46:54.880Z"
   },
   {
    "duration": 21,
    "start_time": "2024-03-28T07:46:54.890Z"
   },
   {
    "duration": 15,
    "start_time": "2024-03-28T07:46:54.913Z"
   },
   {
    "duration": 21,
    "start_time": "2024-03-28T07:46:54.930Z"
   },
   {
    "duration": 5,
    "start_time": "2024-03-28T07:46:54.953Z"
   },
   {
    "duration": 9,
    "start_time": "2024-03-28T07:46:54.973Z"
   },
   {
    "duration": 210,
    "start_time": "2024-03-28T07:46:54.983Z"
   },
   {
    "duration": 8,
    "start_time": "2024-03-28T07:46:55.195Z"
   },
   {
    "duration": 214,
    "start_time": "2024-03-28T07:46:55.204Z"
   },
   {
    "duration": 8,
    "start_time": "2024-03-28T07:46:55.420Z"
   },
   {
    "duration": 205,
    "start_time": "2024-03-28T07:46:55.430Z"
   },
   {
    "duration": 8,
    "start_time": "2024-03-28T07:46:55.637Z"
   },
   {
    "duration": 211,
    "start_time": "2024-03-28T07:46:55.646Z"
   },
   {
    "duration": 45,
    "start_time": "2024-03-28T07:46:55.858Z"
   },
   {
    "duration": 4,
    "start_time": "2024-03-28T07:46:55.905Z"
   },
   {
    "duration": 34,
    "start_time": "2024-03-28T07:46:55.911Z"
   },
   {
    "duration": 30,
    "start_time": "2024-03-28T07:46:55.946Z"
   },
   {
    "duration": 198,
    "start_time": "2024-03-28T07:46:55.978Z"
   },
   {
    "duration": 5,
    "start_time": "2024-03-28T07:46:56.177Z"
   },
   {
    "duration": 15,
    "start_time": "2024-03-28T07:46:56.184Z"
   },
   {
    "duration": 9,
    "start_time": "2024-03-28T07:46:56.201Z"
   },
   {
    "duration": 223,
    "start_time": "2024-03-28T07:46:56.211Z"
   },
   {
    "duration": 10,
    "start_time": "2024-03-28T07:46:56.436Z"
   },
   {
    "duration": 10,
    "start_time": "2024-03-28T07:46:56.447Z"
   },
   {
    "duration": 299,
    "start_time": "2024-03-28T07:46:56.474Z"
   },
   {
    "duration": 9,
    "start_time": "2024-03-28T07:46:56.774Z"
   },
   {
    "duration": 11,
    "start_time": "2024-03-28T07:46:56.784Z"
   },
   {
    "duration": 13,
    "start_time": "2024-03-28T07:46:56.797Z"
   },
   {
    "duration": 7,
    "start_time": "2024-03-28T07:54:03.460Z"
   },
   {
    "duration": 19,
    "start_time": "2024-03-28T07:55:19.380Z"
   },
   {
    "duration": 1220,
    "start_time": "2024-03-28T07:58:22.246Z"
   },
   {
    "duration": 71,
    "start_time": "2024-03-28T07:58:23.468Z"
   },
   {
    "duration": 14,
    "start_time": "2024-03-28T07:58:23.541Z"
   },
   {
    "duration": 40,
    "start_time": "2024-03-28T07:58:23.558Z"
   },
   {
    "duration": 47,
    "start_time": "2024-03-28T07:58:23.600Z"
   },
   {
    "duration": 11,
    "start_time": "2024-03-28T07:58:23.649Z"
   },
   {
    "duration": 25,
    "start_time": "2024-03-28T07:58:23.662Z"
   },
   {
    "duration": 14,
    "start_time": "2024-03-28T07:58:23.689Z"
   },
   {
    "duration": 33,
    "start_time": "2024-03-28T07:58:23.704Z"
   },
   {
    "duration": 14,
    "start_time": "2024-03-28T07:58:23.740Z"
   },
   {
    "duration": 26,
    "start_time": "2024-03-28T07:58:23.756Z"
   },
   {
    "duration": 23,
    "start_time": "2024-03-28T07:58:23.784Z"
   },
   {
    "duration": 6,
    "start_time": "2024-03-28T07:58:23.810Z"
   },
   {
    "duration": 6,
    "start_time": "2024-03-28T07:58:23.818Z"
   },
   {
    "duration": 11,
    "start_time": "2024-03-28T07:58:23.825Z"
   },
   {
    "duration": 17,
    "start_time": "2024-03-28T07:58:23.838Z"
   },
   {
    "duration": 18,
    "start_time": "2024-03-28T07:58:23.857Z"
   },
   {
    "duration": 10,
    "start_time": "2024-03-28T07:58:23.877Z"
   },
   {
    "duration": 17,
    "start_time": "2024-03-28T07:58:23.888Z"
   },
   {
    "duration": 11,
    "start_time": "2024-03-28T07:58:23.906Z"
   },
   {
    "duration": 216,
    "start_time": "2024-03-28T07:58:23.918Z"
   },
   {
    "duration": 5,
    "start_time": "2024-03-28T07:58:24.136Z"
   },
   {
    "duration": 120,
    "start_time": "2024-03-28T07:58:24.143Z"
   },
   {
    "duration": 11,
    "start_time": "2024-03-28T07:58:24.264Z"
   },
   {
    "duration": 285,
    "start_time": "2024-03-28T07:58:24.276Z"
   },
   {
    "duration": 10,
    "start_time": "2024-03-28T07:58:24.563Z"
   },
   {
    "duration": 31,
    "start_time": "2024-03-28T07:58:24.575Z"
   },
   {
    "duration": 187,
    "start_time": "2024-03-28T07:58:24.610Z"
   },
   {
    "duration": 215,
    "start_time": "2024-03-28T07:58:24.798Z"
   },
   {
    "duration": 16,
    "start_time": "2024-03-28T07:58:25.016Z"
   },
   {
    "duration": 23,
    "start_time": "2024-03-28T07:58:25.034Z"
   },
   {
    "duration": 42,
    "start_time": "2024-03-28T07:58:25.059Z"
   },
   {
    "duration": 229,
    "start_time": "2024-03-28T07:58:25.103Z"
   },
   {
    "duration": 273,
    "start_time": "2024-03-28T07:58:25.334Z"
   },
   {
    "duration": 5,
    "start_time": "2024-03-28T07:58:25.609Z"
   },
   {
    "duration": 27,
    "start_time": "2024-03-28T07:58:25.616Z"
   },
   {
    "duration": 203,
    "start_time": "2024-03-28T07:58:25.645Z"
   },
   {
    "duration": 9,
    "start_time": "2024-03-28T07:58:25.849Z"
   },
   {
    "duration": 36,
    "start_time": "2024-03-28T07:58:25.860Z"
   },
   {
    "duration": 16,
    "start_time": "2024-03-28T07:58:25.897Z"
   },
   {
    "duration": 22,
    "start_time": "2024-03-28T07:58:25.915Z"
   },
   {
    "duration": 13,
    "start_time": "2024-03-28T07:58:25.939Z"
   },
   {
    "duration": 18,
    "start_time": "2024-03-28T07:58:25.954Z"
   },
   {
    "duration": 198,
    "start_time": "2024-03-28T07:58:25.974Z"
   },
   {
    "duration": 8,
    "start_time": "2024-03-28T07:58:26.174Z"
   },
   {
    "duration": 223,
    "start_time": "2024-03-28T07:58:26.184Z"
   },
   {
    "duration": 9,
    "start_time": "2024-03-28T07:58:26.409Z"
   },
   {
    "duration": 230,
    "start_time": "2024-03-28T07:58:26.420Z"
   },
   {
    "duration": 8,
    "start_time": "2024-03-28T07:58:26.652Z"
   },
   {
    "duration": 204,
    "start_time": "2024-03-28T07:58:26.661Z"
   },
   {
    "duration": 41,
    "start_time": "2024-03-28T07:58:26.872Z"
   },
   {
    "duration": 64,
    "start_time": "2024-03-28T07:58:26.914Z"
   },
   {
    "duration": 31,
    "start_time": "2024-03-28T07:58:26.980Z"
   },
   {
    "duration": 10,
    "start_time": "2024-03-28T07:58:27.013Z"
   },
   {
    "duration": 199,
    "start_time": "2024-03-28T07:58:27.025Z"
   },
   {
    "duration": 4,
    "start_time": "2024-03-28T07:58:27.226Z"
   },
   {
    "duration": 28,
    "start_time": "2024-03-28T07:58:27.232Z"
   },
   {
    "duration": 42,
    "start_time": "2024-03-28T07:58:27.261Z"
   },
   {
    "duration": 199,
    "start_time": "2024-03-28T07:58:27.304Z"
   },
   {
    "duration": 9,
    "start_time": "2024-03-28T07:58:27.505Z"
   },
   {
    "duration": 17,
    "start_time": "2024-03-28T07:58:27.516Z"
   },
   {
    "duration": 296,
    "start_time": "2024-03-28T07:58:27.535Z"
   },
   {
    "duration": 10,
    "start_time": "2024-03-28T07:58:27.834Z"
   },
   {
    "duration": 27,
    "start_time": "2024-03-28T07:58:27.846Z"
   },
   {
    "duration": 21,
    "start_time": "2024-03-28T07:58:27.875Z"
   },
   {
    "duration": 52,
    "start_time": "2024-03-29T07:32:22.405Z"
   },
   {
    "duration": 1333,
    "start_time": "2024-03-29T07:32:30.025Z"
   },
   {
    "duration": 208,
    "start_time": "2024-03-29T07:32:31.360Z"
   },
   {
    "duration": 14,
    "start_time": "2024-03-29T07:32:31.569Z"
   },
   {
    "duration": 38,
    "start_time": "2024-03-29T07:32:31.585Z"
   },
   {
    "duration": 59,
    "start_time": "2024-03-29T07:32:31.625Z"
   },
   {
    "duration": 69,
    "start_time": "2024-03-29T07:32:31.686Z"
   },
   {
    "duration": 15,
    "start_time": "2024-03-29T07:32:31.756Z"
   },
   {
    "duration": 16,
    "start_time": "2024-03-29T07:32:31.773Z"
   },
   {
    "duration": 13,
    "start_time": "2024-03-29T07:32:31.790Z"
   },
   {
    "duration": 53,
    "start_time": "2024-03-29T07:32:31.805Z"
   },
   {
    "duration": 119,
    "start_time": "2024-03-29T07:32:31.860Z"
   },
   {
    "duration": 46,
    "start_time": "2024-03-29T07:32:31.981Z"
   },
   {
    "duration": 47,
    "start_time": "2024-03-29T07:32:32.029Z"
   },
   {
    "duration": 79,
    "start_time": "2024-03-29T07:32:32.079Z"
   },
   {
    "duration": 69,
    "start_time": "2024-03-29T07:32:32.160Z"
   },
   {
    "duration": 45,
    "start_time": "2024-03-29T07:32:32.231Z"
   },
   {
    "duration": 5,
    "start_time": "2024-03-29T07:32:32.277Z"
   },
   {
    "duration": 67,
    "start_time": "2024-03-29T07:32:32.284Z"
   },
   {
    "duration": 30,
    "start_time": "2024-03-29T07:32:32.353Z"
   },
   {
    "duration": 30,
    "start_time": "2024-03-29T07:32:32.385Z"
   },
   {
    "duration": 252,
    "start_time": "2024-03-29T07:32:32.416Z"
   },
   {
    "duration": 0,
    "start_time": "2024-03-29T07:32:32.670Z"
   },
   {
    "duration": 0,
    "start_time": "2024-03-29T07:32:32.671Z"
   },
   {
    "duration": 0,
    "start_time": "2024-03-29T07:32:32.672Z"
   },
   {
    "duration": 0,
    "start_time": "2024-03-29T07:32:32.673Z"
   },
   {
    "duration": 0,
    "start_time": "2024-03-29T07:32:32.674Z"
   },
   {
    "duration": 0,
    "start_time": "2024-03-29T07:32:32.674Z"
   },
   {
    "duration": 0,
    "start_time": "2024-03-29T07:32:32.676Z"
   },
   {
    "duration": 0,
    "start_time": "2024-03-29T07:32:32.677Z"
   },
   {
    "duration": 0,
    "start_time": "2024-03-29T07:32:32.678Z"
   },
   {
    "duration": 0,
    "start_time": "2024-03-29T07:32:32.679Z"
   },
   {
    "duration": 0,
    "start_time": "2024-03-29T07:32:32.680Z"
   },
   {
    "duration": 0,
    "start_time": "2024-03-29T07:32:32.681Z"
   },
   {
    "duration": 0,
    "start_time": "2024-03-29T07:32:32.682Z"
   },
   {
    "duration": 0,
    "start_time": "2024-03-29T07:32:32.683Z"
   },
   {
    "duration": 0,
    "start_time": "2024-03-29T07:32:32.685Z"
   },
   {
    "duration": 0,
    "start_time": "2024-03-29T07:32:32.686Z"
   },
   {
    "duration": 0,
    "start_time": "2024-03-29T07:32:32.687Z"
   },
   {
    "duration": 0,
    "start_time": "2024-03-29T07:32:32.688Z"
   },
   {
    "duration": 0,
    "start_time": "2024-03-29T07:32:32.689Z"
   },
   {
    "duration": 0,
    "start_time": "2024-03-29T07:32:32.690Z"
   },
   {
    "duration": 0,
    "start_time": "2024-03-29T07:32:32.691Z"
   },
   {
    "duration": 0,
    "start_time": "2024-03-29T07:32:32.692Z"
   },
   {
    "duration": 0,
    "start_time": "2024-03-29T07:32:32.693Z"
   },
   {
    "duration": 0,
    "start_time": "2024-03-29T07:32:32.694Z"
   },
   {
    "duration": 0,
    "start_time": "2024-03-29T07:32:32.695Z"
   },
   {
    "duration": 0,
    "start_time": "2024-03-29T07:32:32.696Z"
   },
   {
    "duration": 0,
    "start_time": "2024-03-29T07:32:32.698Z"
   },
   {
    "duration": 0,
    "start_time": "2024-03-29T07:32:32.699Z"
   },
   {
    "duration": 0,
    "start_time": "2024-03-29T07:32:32.700Z"
   },
   {
    "duration": 0,
    "start_time": "2024-03-29T07:32:32.701Z"
   },
   {
    "duration": 0,
    "start_time": "2024-03-29T07:32:32.702Z"
   },
   {
    "duration": 0,
    "start_time": "2024-03-29T07:32:32.703Z"
   },
   {
    "duration": 0,
    "start_time": "2024-03-29T07:32:32.759Z"
   },
   {
    "duration": 0,
    "start_time": "2024-03-29T07:32:32.760Z"
   },
   {
    "duration": 0,
    "start_time": "2024-03-29T07:32:32.761Z"
   },
   {
    "duration": 0,
    "start_time": "2024-03-29T07:32:32.763Z"
   },
   {
    "duration": 0,
    "start_time": "2024-03-29T07:32:32.764Z"
   },
   {
    "duration": 0,
    "start_time": "2024-03-29T07:32:32.765Z"
   },
   {
    "duration": 0,
    "start_time": "2024-03-29T07:32:32.767Z"
   },
   {
    "duration": 0,
    "start_time": "2024-03-29T07:32:32.768Z"
   },
   {
    "duration": 0,
    "start_time": "2024-03-29T07:32:32.769Z"
   },
   {
    "duration": 0,
    "start_time": "2024-03-29T07:32:32.770Z"
   },
   {
    "duration": 0,
    "start_time": "2024-03-29T07:32:32.771Z"
   },
   {
    "duration": 0,
    "start_time": "2024-03-29T07:32:32.773Z"
   },
   {
    "duration": 136,
    "start_time": "2024-03-29T07:33:08.926Z"
   },
   {
    "duration": 134,
    "start_time": "2024-03-29T07:33:57.587Z"
   },
   {
    "duration": 115,
    "start_time": "2024-03-29T07:34:08.512Z"
   },
   {
    "duration": 150,
    "start_time": "2024-03-29T07:34:27.863Z"
   },
   {
    "duration": 122,
    "start_time": "2024-03-29T07:34:42.250Z"
   },
   {
    "duration": 147,
    "start_time": "2024-03-29T07:35:54.476Z"
   },
   {
    "duration": 188,
    "start_time": "2024-03-29T07:37:15.775Z"
   },
   {
    "duration": 190,
    "start_time": "2024-03-29T07:37:26.783Z"
   },
   {
    "duration": 265,
    "start_time": "2024-03-29T07:37:30.362Z"
   },
   {
    "duration": 188,
    "start_time": "2024-03-29T07:37:38.875Z"
   },
   {
    "duration": 10,
    "start_time": "2024-03-29T07:38:23.782Z"
   },
   {
    "duration": 186,
    "start_time": "2024-03-29T07:38:36.937Z"
   },
   {
    "duration": 3,
    "start_time": "2024-03-29T07:38:52.801Z"
   },
   {
    "duration": 74,
    "start_time": "2024-03-29T07:38:52.806Z"
   },
   {
    "duration": 10,
    "start_time": "2024-03-29T07:38:52.881Z"
   },
   {
    "duration": 9,
    "start_time": "2024-03-29T07:38:52.893Z"
   },
   {
    "duration": 20,
    "start_time": "2024-03-29T07:38:52.904Z"
   },
   {
    "duration": 13,
    "start_time": "2024-03-29T07:38:52.925Z"
   },
   {
    "duration": 18,
    "start_time": "2024-03-29T07:38:52.939Z"
   },
   {
    "duration": 6,
    "start_time": "2024-03-29T07:38:52.959Z"
   },
   {
    "duration": 10,
    "start_time": "2024-03-29T07:38:52.967Z"
   },
   {
    "duration": 17,
    "start_time": "2024-03-29T07:38:52.979Z"
   },
   {
    "duration": 9,
    "start_time": "2024-03-29T07:38:52.997Z"
   },
   {
    "duration": 20,
    "start_time": "2024-03-29T07:38:53.008Z"
   },
   {
    "duration": 6,
    "start_time": "2024-03-29T07:38:53.030Z"
   },
   {
    "duration": 6,
    "start_time": "2024-03-29T07:38:53.038Z"
   },
   {
    "duration": 14,
    "start_time": "2024-03-29T07:38:53.045Z"
   },
   {
    "duration": 11,
    "start_time": "2024-03-29T07:38:53.061Z"
   },
   {
    "duration": 5,
    "start_time": "2024-03-29T07:38:53.074Z"
   },
   {
    "duration": 6,
    "start_time": "2024-03-29T07:38:53.080Z"
   },
   {
    "duration": 12,
    "start_time": "2024-03-29T07:38:53.088Z"
   },
   {
    "duration": 5,
    "start_time": "2024-03-29T07:38:53.102Z"
   },
   {
    "duration": 219,
    "start_time": "2024-03-29T07:38:53.110Z"
   },
   {
    "duration": 6,
    "start_time": "2024-03-29T07:38:53.331Z"
   },
   {
    "duration": 111,
    "start_time": "2024-03-29T07:38:53.339Z"
   },
   {
    "duration": 7,
    "start_time": "2024-03-29T07:38:53.452Z"
   },
   {
    "duration": 276,
    "start_time": "2024-03-29T07:38:53.461Z"
   },
   {
    "duration": 9,
    "start_time": "2024-03-29T07:38:53.738Z"
   },
   {
    "duration": 16,
    "start_time": "2024-03-29T07:38:53.749Z"
   },
   {
    "duration": 187,
    "start_time": "2024-03-29T07:38:53.766Z"
   },
   {
    "duration": 183,
    "start_time": "2024-03-29T07:38:53.958Z"
   },
   {
    "duration": 22,
    "start_time": "2024-03-29T07:38:54.143Z"
   },
   {
    "duration": 8,
    "start_time": "2024-03-29T07:38:54.167Z"
   },
   {
    "duration": 6,
    "start_time": "2024-03-29T07:38:54.176Z"
   },
   {
    "duration": 194,
    "start_time": "2024-03-29T07:38:54.183Z"
   },
   {
    "duration": 266,
    "start_time": "2024-03-29T07:38:54.379Z"
   },
   {
    "duration": 4,
    "start_time": "2024-03-29T07:38:54.647Z"
   },
   {
    "duration": 11,
    "start_time": "2024-03-29T07:38:54.659Z"
   },
   {
    "duration": 196,
    "start_time": "2024-03-29T07:38:54.672Z"
   },
   {
    "duration": 9,
    "start_time": "2024-03-29T07:38:54.869Z"
   },
   {
    "duration": 21,
    "start_time": "2024-03-29T07:38:54.880Z"
   },
   {
    "duration": 15,
    "start_time": "2024-03-29T07:38:54.903Z"
   },
   {
    "duration": 18,
    "start_time": "2024-03-29T07:38:54.922Z"
   },
   {
    "duration": 21,
    "start_time": "2024-03-29T07:38:54.941Z"
   },
   {
    "duration": 12,
    "start_time": "2024-03-29T07:38:54.963Z"
   },
   {
    "duration": 191,
    "start_time": "2024-03-29T07:38:54.977Z"
   },
   {
    "duration": 9,
    "start_time": "2024-03-29T07:38:55.169Z"
   },
   {
    "duration": 195,
    "start_time": "2024-03-29T07:38:55.180Z"
   },
   {
    "duration": 7,
    "start_time": "2024-03-29T07:38:55.377Z"
   },
   {
    "duration": 194,
    "start_time": "2024-03-29T07:38:55.386Z"
   },
   {
    "duration": 8,
    "start_time": "2024-03-29T07:38:55.581Z"
   },
   {
    "duration": 185,
    "start_time": "2024-03-29T07:38:55.590Z"
   },
   {
    "duration": 38,
    "start_time": "2024-03-29T07:38:55.777Z"
   },
   {
    "duration": 4,
    "start_time": "2024-03-29T07:38:55.817Z"
   },
   {
    "duration": 19,
    "start_time": "2024-03-29T07:38:55.823Z"
   },
   {
    "duration": 8,
    "start_time": "2024-03-29T07:38:55.858Z"
   },
   {
    "duration": 181,
    "start_time": "2024-03-29T07:38:55.868Z"
   },
   {
    "duration": 5,
    "start_time": "2024-03-29T07:38:56.050Z"
   },
   {
    "duration": 12,
    "start_time": "2024-03-29T07:38:56.059Z"
   },
   {
    "duration": 8,
    "start_time": "2024-03-29T07:38:56.072Z"
   },
   {
    "duration": 204,
    "start_time": "2024-03-29T07:38:56.081Z"
   },
   {
    "duration": 8,
    "start_time": "2024-03-29T07:38:56.286Z"
   },
   {
    "duration": 12,
    "start_time": "2024-03-29T07:38:56.295Z"
   },
   {
    "duration": 297,
    "start_time": "2024-03-29T07:38:56.309Z"
   },
   {
    "duration": 9,
    "start_time": "2024-03-29T07:38:56.608Z"
   },
   {
    "duration": 10,
    "start_time": "2024-03-29T07:38:56.618Z"
   },
   {
    "duration": 30,
    "start_time": "2024-03-29T07:38:56.629Z"
   },
   {
    "duration": 270,
    "start_time": "2024-03-29T07:43:54.542Z"
   },
   {
    "duration": 221,
    "start_time": "2024-03-29T07:47:00.731Z"
   },
   {
    "duration": 196,
    "start_time": "2024-03-29T07:47:41.699Z"
   },
   {
    "duration": 186,
    "start_time": "2024-03-29T07:47:58.424Z"
   },
   {
    "duration": 190,
    "start_time": "2024-03-29T07:48:29.712Z"
   },
   {
    "duration": 199,
    "start_time": "2024-03-29T07:48:32.236Z"
   },
   {
    "duration": 195,
    "start_time": "2024-03-29T07:48:42.486Z"
   },
   {
    "duration": 1085,
    "start_time": "2024-03-29T07:48:53.989Z"
   },
   {
    "duration": 70,
    "start_time": "2024-03-29T07:48:55.076Z"
   },
   {
    "duration": 14,
    "start_time": "2024-03-29T07:48:55.147Z"
   },
   {
    "duration": 12,
    "start_time": "2024-03-29T07:48:55.163Z"
   },
   {
    "duration": 8,
    "start_time": "2024-03-29T07:48:55.178Z"
   },
   {
    "duration": 12,
    "start_time": "2024-03-29T07:48:55.188Z"
   },
   {
    "duration": 19,
    "start_time": "2024-03-29T07:48:55.202Z"
   },
   {
    "duration": 38,
    "start_time": "2024-03-29T07:48:55.223Z"
   },
   {
    "duration": 11,
    "start_time": "2024-03-29T07:48:55.263Z"
   },
   {
    "duration": 8,
    "start_time": "2024-03-29T07:48:55.276Z"
   },
   {
    "duration": 5,
    "start_time": "2024-03-29T07:48:55.286Z"
   },
   {
    "duration": 6,
    "start_time": "2024-03-29T07:48:55.293Z"
   },
   {
    "duration": 6,
    "start_time": "2024-03-29T07:48:55.301Z"
   },
   {
    "duration": 49,
    "start_time": "2024-03-29T07:48:55.310Z"
   },
   {
    "duration": 13,
    "start_time": "2024-03-29T07:48:55.361Z"
   },
   {
    "duration": 14,
    "start_time": "2024-03-29T07:48:55.376Z"
   },
   {
    "duration": 7,
    "start_time": "2024-03-29T07:48:55.392Z"
   },
   {
    "duration": 11,
    "start_time": "2024-03-29T07:48:55.401Z"
   },
   {
    "duration": 46,
    "start_time": "2024-03-29T07:48:55.414Z"
   },
   {
    "duration": 6,
    "start_time": "2024-03-29T07:48:55.461Z"
   },
   {
    "duration": 212,
    "start_time": "2024-03-29T07:48:55.469Z"
   },
   {
    "duration": 5,
    "start_time": "2024-03-29T07:48:55.683Z"
   },
   {
    "duration": 97,
    "start_time": "2024-03-29T07:48:55.689Z"
   },
   {
    "duration": 5,
    "start_time": "2024-03-29T07:48:55.787Z"
   },
   {
    "duration": 261,
    "start_time": "2024-03-29T07:48:55.793Z"
   },
   {
    "duration": 8,
    "start_time": "2024-03-29T07:48:56.059Z"
   },
   {
    "duration": 7,
    "start_time": "2024-03-29T07:48:56.068Z"
   },
   {
    "duration": 206,
    "start_time": "2024-03-29T07:48:56.077Z"
   },
   {
    "duration": 215,
    "start_time": "2024-03-29T07:48:56.284Z"
   },
   {
    "duration": 20,
    "start_time": "2024-03-29T07:48:56.501Z"
   },
   {
    "duration": 3,
    "start_time": "2024-03-29T07:48:56.523Z"
   },
   {
    "duration": 13,
    "start_time": "2024-03-29T07:48:56.527Z"
   },
   {
    "duration": 232,
    "start_time": "2024-03-29T07:48:56.542Z"
   },
   {
    "duration": 283,
    "start_time": "2024-03-29T07:48:56.775Z"
   },
   {
    "duration": 5,
    "start_time": "2024-03-29T07:48:57.060Z"
   },
   {
    "duration": 16,
    "start_time": "2024-03-29T07:48:57.067Z"
   },
   {
    "duration": 209,
    "start_time": "2024-03-29T07:48:57.084Z"
   },
   {
    "duration": 8,
    "start_time": "2024-03-29T07:48:57.295Z"
   },
   {
    "duration": 15,
    "start_time": "2024-03-29T07:48:57.305Z"
   },
   {
    "duration": 15,
    "start_time": "2024-03-29T07:48:57.321Z"
   },
   {
    "duration": 7,
    "start_time": "2024-03-29T07:48:57.360Z"
   },
   {
    "duration": 8,
    "start_time": "2024-03-29T07:48:57.368Z"
   },
   {
    "duration": 8,
    "start_time": "2024-03-29T07:48:57.378Z"
   },
   {
    "duration": 202,
    "start_time": "2024-03-29T07:48:57.387Z"
   },
   {
    "duration": 8,
    "start_time": "2024-03-29T07:48:57.590Z"
   },
   {
    "duration": 198,
    "start_time": "2024-03-29T07:48:57.599Z"
   },
   {
    "duration": 8,
    "start_time": "2024-03-29T07:48:57.798Z"
   },
   {
    "duration": 205,
    "start_time": "2024-03-29T07:48:57.808Z"
   },
   {
    "duration": 11,
    "start_time": "2024-03-29T07:48:58.014Z"
   },
   {
    "duration": 207,
    "start_time": "2024-03-29T07:48:58.027Z"
   },
   {
    "duration": 46,
    "start_time": "2024-03-29T07:48:58.236Z"
   },
   {
    "duration": 6,
    "start_time": "2024-03-29T07:48:58.283Z"
   },
   {
    "duration": 16,
    "start_time": "2024-03-29T07:48:58.290Z"
   },
   {
    "duration": 30,
    "start_time": "2024-03-29T07:48:58.307Z"
   },
   {
    "duration": 179,
    "start_time": "2024-03-29T07:48:58.339Z"
   },
   {
    "duration": 5,
    "start_time": "2024-03-29T07:48:58.520Z"
   },
   {
    "duration": 42,
    "start_time": "2024-03-29T07:48:58.526Z"
   },
   {
    "duration": 10,
    "start_time": "2024-03-29T07:48:58.570Z"
   },
   {
    "duration": 195,
    "start_time": "2024-03-29T07:48:58.582Z"
   },
   {
    "duration": 12,
    "start_time": "2024-03-29T07:48:58.778Z"
   },
   {
    "duration": 10,
    "start_time": "2024-03-29T07:48:58.792Z"
   },
   {
    "duration": 310,
    "start_time": "2024-03-29T07:48:58.804Z"
   },
   {
    "duration": 13,
    "start_time": "2024-03-29T07:48:59.116Z"
   },
   {
    "duration": 20,
    "start_time": "2024-03-29T07:48:59.131Z"
   },
   {
    "duration": 13,
    "start_time": "2024-03-29T07:48:59.153Z"
   },
   {
    "duration": 272,
    "start_time": "2024-03-29T07:50:18.333Z"
   },
   {
    "duration": 294,
    "start_time": "2024-03-29T07:50:26.733Z"
   },
   {
    "duration": 209,
    "start_time": "2024-03-29T07:50:54.245Z"
   },
   {
    "duration": 214,
    "start_time": "2024-03-29T07:51:11.183Z"
   },
   {
    "duration": 193,
    "start_time": "2024-03-29T07:52:43.171Z"
   },
   {
    "duration": 239,
    "start_time": "2024-03-29T07:53:02.070Z"
   },
   {
    "duration": 211,
    "start_time": "2024-03-29T07:53:12.558Z"
   },
   {
    "duration": 211,
    "start_time": "2024-03-29T07:53:24.196Z"
   },
   {
    "duration": 1587,
    "start_time": "2024-03-29T07:54:33.133Z"
   },
   {
    "duration": 0,
    "start_time": "2024-03-29T07:54:34.722Z"
   },
   {
    "duration": 16,
    "start_time": "2024-03-29T07:54:58.858Z"
   },
   {
    "duration": 18,
    "start_time": "2024-03-29T07:55:00.957Z"
   },
   {
    "duration": 15,
    "start_time": "2024-03-29T07:55:31.408Z"
   },
   {
    "duration": 16,
    "start_time": "2024-03-29T07:55:32.508Z"
   },
   {
    "duration": 16,
    "start_time": "2024-03-29T07:55:38.483Z"
   },
   {
    "duration": 16,
    "start_time": "2024-03-29T07:55:39.552Z"
   },
   {
    "duration": 40,
    "start_time": "2024-03-29T07:56:17.533Z"
   },
   {
    "duration": 5,
    "start_time": "2024-03-29T07:56:20.558Z"
   },
   {
    "duration": 16,
    "start_time": "2024-03-29T07:56:21.370Z"
   },
   {
    "duration": 10,
    "start_time": "2024-03-29T07:58:42.169Z"
   },
   {
    "duration": 9,
    "start_time": "2024-03-29T08:00:15.057Z"
   },
   {
    "duration": 9,
    "start_time": "2024-03-29T08:00:37.407Z"
   },
   {
    "duration": 8,
    "start_time": "2024-03-29T08:02:37.919Z"
   },
   {
    "duration": 7,
    "start_time": "2024-03-29T08:04:11.107Z"
   },
   {
    "duration": 8,
    "start_time": "2024-03-29T08:05:13.131Z"
   },
   {
    "duration": 10,
    "start_time": "2024-03-29T08:07:55.969Z"
   },
   {
    "duration": 1127,
    "start_time": "2024-03-29T08:20:56.267Z"
   },
   {
    "duration": 69,
    "start_time": "2024-03-29T08:20:57.396Z"
   },
   {
    "duration": 13,
    "start_time": "2024-03-29T08:20:57.467Z"
   },
   {
    "duration": 11,
    "start_time": "2024-03-29T08:20:57.481Z"
   },
   {
    "duration": 55,
    "start_time": "2024-03-29T08:20:57.494Z"
   },
   {
    "duration": 17,
    "start_time": "2024-03-29T08:20:57.550Z"
   },
   {
    "duration": 15,
    "start_time": "2024-03-29T08:20:57.569Z"
   },
   {
    "duration": 10,
    "start_time": "2024-03-29T08:20:57.585Z"
   },
   {
    "duration": 19,
    "start_time": "2024-03-29T08:20:57.597Z"
   },
   {
    "duration": 19,
    "start_time": "2024-03-29T08:20:57.618Z"
   },
   {
    "duration": 5,
    "start_time": "2024-03-29T08:20:57.639Z"
   },
   {
    "duration": 14,
    "start_time": "2024-03-29T08:20:57.646Z"
   },
   {
    "duration": 23,
    "start_time": "2024-03-29T08:20:57.662Z"
   },
   {
    "duration": 5,
    "start_time": "2024-03-29T08:20:57.688Z"
   },
   {
    "duration": 29,
    "start_time": "2024-03-29T08:20:57.695Z"
   },
   {
    "duration": 27,
    "start_time": "2024-03-29T08:20:57.725Z"
   },
   {
    "duration": 7,
    "start_time": "2024-03-29T08:20:57.753Z"
   },
   {
    "duration": 17,
    "start_time": "2024-03-29T08:20:57.762Z"
   },
   {
    "duration": 25,
    "start_time": "2024-03-29T08:20:57.781Z"
   },
   {
    "duration": 5,
    "start_time": "2024-03-29T08:20:57.808Z"
   },
   {
    "duration": 206,
    "start_time": "2024-03-29T08:20:57.815Z"
   },
   {
    "duration": 6,
    "start_time": "2024-03-29T08:20:58.022Z"
   },
   {
    "duration": 104,
    "start_time": "2024-03-29T08:20:58.030Z"
   },
   {
    "duration": 6,
    "start_time": "2024-03-29T08:20:58.136Z"
   },
   {
    "duration": 305,
    "start_time": "2024-03-29T08:20:58.144Z"
   },
   {
    "duration": 14,
    "start_time": "2024-03-29T08:20:58.451Z"
   },
   {
    "duration": 17,
    "start_time": "2024-03-29T08:20:58.467Z"
   },
   {
    "duration": 223,
    "start_time": "2024-03-29T08:20:58.486Z"
   },
   {
    "duration": 229,
    "start_time": "2024-03-29T08:20:58.711Z"
   },
   {
    "duration": 24,
    "start_time": "2024-03-29T08:20:58.942Z"
   },
   {
    "duration": 29,
    "start_time": "2024-03-29T08:20:58.968Z"
   },
   {
    "duration": 72,
    "start_time": "2024-03-29T08:20:58.998Z"
   },
   {
    "duration": 232,
    "start_time": "2024-03-29T08:20:59.071Z"
   },
   {
    "duration": 274,
    "start_time": "2024-03-29T08:20:59.304Z"
   },
   {
    "duration": 5,
    "start_time": "2024-03-29T08:20:59.580Z"
   },
   {
    "duration": 20,
    "start_time": "2024-03-29T08:20:59.586Z"
   },
   {
    "duration": 235,
    "start_time": "2024-03-29T08:20:59.608Z"
   },
   {
    "duration": 17,
    "start_time": "2024-03-29T08:20:59.845Z"
   },
   {
    "duration": 17,
    "start_time": "2024-03-29T08:20:59.863Z"
   },
   {
    "duration": 25,
    "start_time": "2024-03-29T08:20:59.881Z"
   },
   {
    "duration": 16,
    "start_time": "2024-03-29T08:20:59.910Z"
   },
   {
    "duration": 23,
    "start_time": "2024-03-29T08:20:59.928Z"
   },
   {
    "duration": 14,
    "start_time": "2024-03-29T08:20:59.952Z"
   },
   {
    "duration": 240,
    "start_time": "2024-03-29T08:20:59.968Z"
   },
   {
    "duration": 8,
    "start_time": "2024-03-29T08:21:00.209Z"
   },
   {
    "duration": 365,
    "start_time": "2024-03-29T08:21:00.219Z"
   },
   {
    "duration": 9,
    "start_time": "2024-03-29T08:21:00.585Z"
   },
   {
    "duration": 495,
    "start_time": "2024-03-29T08:21:00.596Z"
   },
   {
    "duration": 9,
    "start_time": "2024-03-29T08:21:01.093Z"
   },
   {
    "duration": 331,
    "start_time": "2024-03-29T08:21:01.103Z"
   },
   {
    "duration": 51,
    "start_time": "2024-03-29T08:21:01.437Z"
   },
   {
    "duration": 79,
    "start_time": "2024-03-29T08:21:01.490Z"
   },
   {
    "duration": 62,
    "start_time": "2024-03-29T08:21:01.572Z"
   },
   {
    "duration": 84,
    "start_time": "2024-03-29T08:21:01.636Z"
   },
   {
    "duration": 256,
    "start_time": "2024-03-29T08:21:01.721Z"
   },
   {
    "duration": 5,
    "start_time": "2024-03-29T08:21:01.978Z"
   },
   {
    "duration": 42,
    "start_time": "2024-03-29T08:21:01.984Z"
   },
   {
    "duration": 20,
    "start_time": "2024-03-29T08:21:02.028Z"
   },
   {
    "duration": 234,
    "start_time": "2024-03-29T08:21:02.049Z"
   },
   {
    "duration": 11,
    "start_time": "2024-03-29T08:21:02.284Z"
   },
   {
    "duration": 25,
    "start_time": "2024-03-29T08:21:02.297Z"
   },
   {
    "duration": 309,
    "start_time": "2024-03-29T08:21:02.324Z"
   },
   {
    "duration": 20,
    "start_time": "2024-03-29T08:21:02.634Z"
   },
   {
    "duration": 40,
    "start_time": "2024-03-29T08:21:02.659Z"
   },
   {
    "duration": 27,
    "start_time": "2024-03-29T08:21:02.701Z"
   },
   {
    "duration": 3,
    "start_time": "2024-03-29T08:21:48.219Z"
   },
   {
    "duration": 230,
    "start_time": "2024-03-29T08:22:21.356Z"
   },
   {
    "duration": 1116,
    "start_time": "2024-03-29T13:05:46.582Z"
   },
   {
    "duration": 67,
    "start_time": "2024-03-29T13:05:47.699Z"
   },
   {
    "duration": 18,
    "start_time": "2024-03-29T13:05:47.767Z"
   },
   {
    "duration": 12,
    "start_time": "2024-03-29T13:05:47.787Z"
   },
   {
    "duration": 8,
    "start_time": "2024-03-29T13:05:47.801Z"
   },
   {
    "duration": 15,
    "start_time": "2024-03-29T13:05:47.810Z"
   },
   {
    "duration": 22,
    "start_time": "2024-03-29T13:05:47.827Z"
   },
   {
    "duration": 20,
    "start_time": "2024-03-29T13:05:47.851Z"
   },
   {
    "duration": 10,
    "start_time": "2024-03-29T13:05:47.873Z"
   },
   {
    "duration": 7,
    "start_time": "2024-03-29T13:05:47.885Z"
   },
   {
    "duration": 4,
    "start_time": "2024-03-29T13:05:47.893Z"
   },
   {
    "duration": 7,
    "start_time": "2024-03-29T13:05:47.899Z"
   },
   {
    "duration": 7,
    "start_time": "2024-03-29T13:05:47.907Z"
   },
   {
    "duration": 5,
    "start_time": "2024-03-29T13:05:47.916Z"
   },
   {
    "duration": 44,
    "start_time": "2024-03-29T13:05:47.922Z"
   },
   {
    "duration": 13,
    "start_time": "2024-03-29T13:05:47.967Z"
   },
   {
    "duration": 9,
    "start_time": "2024-03-29T13:05:47.981Z"
   },
   {
    "duration": 10,
    "start_time": "2024-03-29T13:05:47.992Z"
   },
   {
    "duration": 17,
    "start_time": "2024-03-29T13:05:48.003Z"
   },
   {
    "duration": 7,
    "start_time": "2024-03-29T13:05:48.021Z"
   },
   {
    "duration": 197,
    "start_time": "2024-03-29T13:05:48.029Z"
   },
   {
    "duration": 5,
    "start_time": "2024-03-29T13:05:48.228Z"
   },
   {
    "duration": 91,
    "start_time": "2024-03-29T13:05:48.234Z"
   },
   {
    "duration": 5,
    "start_time": "2024-03-29T13:05:48.326Z"
   },
   {
    "duration": 262,
    "start_time": "2024-03-29T13:05:48.333Z"
   },
   {
    "duration": 9,
    "start_time": "2024-03-29T13:05:48.597Z"
   },
   {
    "duration": 10,
    "start_time": "2024-03-29T13:05:48.608Z"
   },
   {
    "duration": 206,
    "start_time": "2024-03-29T13:05:48.622Z"
   },
   {
    "duration": 252,
    "start_time": "2024-03-29T13:05:48.830Z"
   },
   {
    "duration": 2,
    "start_time": "2024-03-29T13:05:49.084Z"
   },
   {
    "duration": 5,
    "start_time": "2024-03-29T13:05:49.088Z"
   },
   {
    "duration": 6,
    "start_time": "2024-03-29T13:05:49.094Z"
   },
   {
    "duration": 204,
    "start_time": "2024-03-29T13:05:49.102Z"
   },
   {
    "duration": 267,
    "start_time": "2024-03-29T13:05:49.308Z"
   },
   {
    "duration": 4,
    "start_time": "2024-03-29T13:05:49.577Z"
   },
   {
    "duration": 17,
    "start_time": "2024-03-29T13:05:49.583Z"
   },
   {
    "duration": 219,
    "start_time": "2024-03-29T13:05:49.601Z"
   },
   {
    "duration": 7,
    "start_time": "2024-03-29T13:05:49.822Z"
   },
   {
    "duration": 23,
    "start_time": "2024-03-29T13:05:49.831Z"
   },
   {
    "duration": 20,
    "start_time": "2024-03-29T13:05:49.856Z"
   },
   {
    "duration": 18,
    "start_time": "2024-03-29T13:05:49.878Z"
   },
   {
    "duration": 10,
    "start_time": "2024-03-29T13:05:49.898Z"
   },
   {
    "duration": 9,
    "start_time": "2024-03-29T13:05:49.909Z"
   },
   {
    "duration": 181,
    "start_time": "2024-03-29T13:05:49.920Z"
   },
   {
    "duration": 7,
    "start_time": "2024-03-29T13:05:50.103Z"
   },
   {
    "duration": 207,
    "start_time": "2024-03-29T13:05:50.111Z"
   },
   {
    "duration": 8,
    "start_time": "2024-03-29T13:05:50.319Z"
   },
   {
    "duration": 200,
    "start_time": "2024-03-29T13:05:50.328Z"
   },
   {
    "duration": 8,
    "start_time": "2024-03-29T13:05:50.530Z"
   },
   {
    "duration": 222,
    "start_time": "2024-03-29T13:05:50.539Z"
   },
   {
    "duration": 41,
    "start_time": "2024-03-29T13:05:50.764Z"
   },
   {
    "duration": 5,
    "start_time": "2024-03-29T13:05:50.806Z"
   },
   {
    "duration": 17,
    "start_time": "2024-03-29T13:05:50.812Z"
   },
   {
    "duration": 8,
    "start_time": "2024-03-29T13:05:50.830Z"
   },
   {
    "duration": 193,
    "start_time": "2024-03-29T13:05:50.839Z"
   },
   {
    "duration": 4,
    "start_time": "2024-03-29T13:05:51.033Z"
   },
   {
    "duration": 27,
    "start_time": "2024-03-29T13:05:51.039Z"
   },
   {
    "duration": 9,
    "start_time": "2024-03-29T13:05:51.068Z"
   },
   {
    "duration": 179,
    "start_time": "2024-03-29T13:05:51.078Z"
   },
   {
    "duration": 9,
    "start_time": "2024-03-29T13:05:51.264Z"
   },
   {
    "duration": 12,
    "start_time": "2024-03-29T13:05:51.274Z"
   },
   {
    "duration": 246,
    "start_time": "2024-03-29T13:05:51.288Z"
   },
   {
    "duration": 9,
    "start_time": "2024-03-29T13:05:51.536Z"
   },
   {
    "duration": 37,
    "start_time": "2024-03-29T13:05:51.547Z"
   },
   {
    "duration": 12,
    "start_time": "2024-03-29T13:05:51.585Z"
   },
   {
    "duration": 6,
    "start_time": "2024-03-29T13:07:40.373Z"
   },
   {
    "duration": 18,
    "start_time": "2024-03-29T13:08:25.022Z"
   },
   {
    "duration": 4,
    "start_time": "2024-03-29T13:08:39.600Z"
   },
   {
    "duration": 5,
    "start_time": "2024-03-29T13:11:04.523Z"
   },
   {
    "duration": 8,
    "start_time": "2024-03-29T13:11:07.174Z"
   },
   {
    "duration": 5,
    "start_time": "2024-03-29T13:11:07.691Z"
   },
   {
    "duration": 8,
    "start_time": "2024-03-29T13:11:19.275Z"
   },
   {
    "duration": 4,
    "start_time": "2024-03-29T13:11:19.650Z"
   },
   {
    "duration": 50,
    "start_time": "2024-03-29T16:41:22.914Z"
   },
   {
    "duration": 1341,
    "start_time": "2024-03-29T16:41:29.036Z"
   },
   {
    "duration": 307,
    "start_time": "2024-03-29T16:41:30.381Z"
   },
   {
    "duration": 15,
    "start_time": "2024-03-29T16:41:30.690Z"
   },
   {
    "duration": 55,
    "start_time": "2024-03-29T16:41:30.707Z"
   },
   {
    "duration": 66,
    "start_time": "2024-03-29T16:41:30.763Z"
   },
   {
    "duration": 107,
    "start_time": "2024-03-29T16:41:30.831Z"
   },
   {
    "duration": 73,
    "start_time": "2024-03-29T16:41:30.940Z"
   },
   {
    "duration": 42,
    "start_time": "2024-03-29T16:41:31.015Z"
   },
   {
    "duration": 49,
    "start_time": "2024-03-29T16:41:31.061Z"
   },
   {
    "duration": 93,
    "start_time": "2024-03-29T16:41:31.113Z"
   },
   {
    "duration": 35,
    "start_time": "2024-03-29T16:41:31.208Z"
   },
   {
    "duration": 38,
    "start_time": "2024-03-29T16:41:31.245Z"
   },
   {
    "duration": 25,
    "start_time": "2024-03-29T16:41:31.285Z"
   },
   {
    "duration": 43,
    "start_time": "2024-03-29T16:41:31.311Z"
   },
   {
    "duration": 45,
    "start_time": "2024-03-29T16:41:31.355Z"
   },
   {
    "duration": 35,
    "start_time": "2024-03-29T16:41:31.402Z"
   },
   {
    "duration": 26,
    "start_time": "2024-03-29T16:41:31.439Z"
   },
   {
    "duration": 21,
    "start_time": "2024-03-29T16:41:31.466Z"
   },
   {
    "duration": 18,
    "start_time": "2024-03-29T16:41:31.489Z"
   },
   {
    "duration": 21,
    "start_time": "2024-03-29T16:41:31.508Z"
   },
   {
    "duration": 20,
    "start_time": "2024-03-29T16:41:31.531Z"
   },
   {
    "duration": 212,
    "start_time": "2024-03-29T16:41:31.553Z"
   },
   {
    "duration": 14,
    "start_time": "2024-03-29T16:41:31.766Z"
   },
   {
    "duration": 104,
    "start_time": "2024-03-29T16:41:31.782Z"
   },
   {
    "duration": 6,
    "start_time": "2024-03-29T16:41:31.888Z"
   },
   {
    "duration": 319,
    "start_time": "2024-03-29T16:41:31.895Z"
   },
   {
    "duration": 10,
    "start_time": "2024-03-29T16:41:32.216Z"
   },
   {
    "duration": 25,
    "start_time": "2024-03-29T16:41:32.230Z"
   },
   {
    "duration": 247,
    "start_time": "2024-03-29T16:41:32.256Z"
   },
   {
    "duration": 240,
    "start_time": "2024-03-29T16:41:32.505Z"
   },
   {
    "duration": 2,
    "start_time": "2024-03-29T16:41:32.747Z"
   },
   {
    "duration": 15,
    "start_time": "2024-03-29T16:41:32.751Z"
   },
   {
    "duration": 12,
    "start_time": "2024-03-29T16:41:32.768Z"
   },
   {
    "duration": 219,
    "start_time": "2024-03-29T16:41:32.782Z"
   },
   {
    "duration": 287,
    "start_time": "2024-03-29T16:41:33.003Z"
   },
   {
    "duration": 5,
    "start_time": "2024-03-29T16:41:33.291Z"
   },
   {
    "duration": 20,
    "start_time": "2024-03-29T16:41:33.298Z"
   },
   {
    "duration": 221,
    "start_time": "2024-03-29T16:41:33.320Z"
   },
   {
    "duration": 9,
    "start_time": "2024-03-29T16:41:33.543Z"
   },
   {
    "duration": 32,
    "start_time": "2024-03-29T16:41:33.554Z"
   },
   {
    "duration": 16,
    "start_time": "2024-03-29T16:41:33.588Z"
   },
   {
    "duration": 18,
    "start_time": "2024-03-29T16:41:33.606Z"
   },
   {
    "duration": 6,
    "start_time": "2024-03-29T16:41:33.626Z"
   },
   {
    "duration": 21,
    "start_time": "2024-03-29T16:41:33.633Z"
   },
   {
    "duration": 227,
    "start_time": "2024-03-29T16:41:33.656Z"
   },
   {
    "duration": 8,
    "start_time": "2024-03-29T16:41:33.885Z"
   },
   {
    "duration": 240,
    "start_time": "2024-03-29T16:41:33.895Z"
   },
   {
    "duration": 8,
    "start_time": "2024-03-29T16:41:34.136Z"
   },
   {
    "duration": 246,
    "start_time": "2024-03-29T16:41:34.146Z"
   },
   {
    "duration": 9,
    "start_time": "2024-03-29T16:41:34.393Z"
   },
   {
    "duration": 246,
    "start_time": "2024-03-29T16:41:34.403Z"
   },
   {
    "duration": 48,
    "start_time": "2024-03-29T16:41:34.651Z"
   },
   {
    "duration": 4,
    "start_time": "2024-03-29T16:41:34.701Z"
   },
   {
    "duration": 30,
    "start_time": "2024-03-29T16:41:34.707Z"
   },
   {
    "duration": 19,
    "start_time": "2024-03-29T16:41:34.738Z"
   },
   {
    "duration": 187,
    "start_time": "2024-03-29T16:41:34.759Z"
   },
   {
    "duration": 4,
    "start_time": "2024-03-29T16:41:34.947Z"
   },
   {
    "duration": 10,
    "start_time": "2024-03-29T16:41:34.953Z"
   },
   {
    "duration": 18,
    "start_time": "2024-03-29T16:41:34.964Z"
   },
   {
    "duration": 291,
    "start_time": "2024-03-29T16:41:34.984Z"
   },
   {
    "duration": 11,
    "start_time": "2024-03-29T16:41:35.276Z"
   },
   {
    "duration": 21,
    "start_time": "2024-03-29T16:41:35.289Z"
   },
   {
    "duration": 204,
    "start_time": "2024-03-29T16:41:35.312Z"
   },
   {
    "duration": 9,
    "start_time": "2024-03-29T16:41:35.518Z"
   },
   {
    "duration": 15,
    "start_time": "2024-03-29T16:41:35.528Z"
   },
   {
    "duration": 16,
    "start_time": "2024-03-29T16:41:35.545Z"
   },
   {
    "duration": 294,
    "start_time": "2024-03-29T16:42:43.250Z"
   },
   {
    "duration": 309,
    "start_time": "2024-03-29T16:42:53.036Z"
   },
   {
    "duration": 29,
    "start_time": "2024-03-29T16:44:02.315Z"
   },
   {
    "duration": 36,
    "start_time": "2024-03-29T16:44:24.761Z"
   },
   {
    "duration": 48,
    "start_time": "2024-03-29T16:45:20.004Z"
   },
   {
    "duration": 302,
    "start_time": "2024-03-29T16:51:28.976Z"
   },
   {
    "duration": 310,
    "start_time": "2024-03-29T16:52:02.351Z"
   },
   {
    "duration": 293,
    "start_time": "2024-03-29T16:52:25.972Z"
   },
   {
    "duration": 424,
    "start_time": "2024-03-29T16:52:59.484Z"
   },
   {
    "duration": 86,
    "start_time": "2024-03-29T16:53:43.871Z"
   },
   {
    "duration": 307,
    "start_time": "2024-03-29T16:54:09.284Z"
   },
   {
    "duration": 105,
    "start_time": "2024-03-29T16:55:37.858Z"
   },
   {
    "duration": 11,
    "start_time": "2024-03-29T16:55:48.307Z"
   },
   {
    "duration": 111,
    "start_time": "2024-03-29T16:55:59.546Z"
   },
   {
    "duration": 10,
    "start_time": "2024-03-29T16:56:03.182Z"
   },
   {
    "duration": 10,
    "start_time": "2024-03-29T16:56:06.158Z"
   },
   {
    "duration": 11,
    "start_time": "2024-03-29T16:56:12.196Z"
   },
   {
    "duration": 9,
    "start_time": "2024-03-29T16:56:41.021Z"
   },
   {
    "duration": 1216,
    "start_time": "2024-03-30T11:33:05.572Z"
   },
   {
    "duration": 217,
    "start_time": "2024-03-30T11:33:06.790Z"
   },
   {
    "duration": 16,
    "start_time": "2024-03-30T11:33:07.008Z"
   },
   {
    "duration": 10,
    "start_time": "2024-03-30T11:33:07.026Z"
   },
   {
    "duration": 11,
    "start_time": "2024-03-30T11:33:07.038Z"
   },
   {
    "duration": 9,
    "start_time": "2024-03-30T11:33:07.051Z"
   },
   {
    "duration": 15,
    "start_time": "2024-03-30T11:33:07.061Z"
   },
   {
    "duration": 5,
    "start_time": "2024-03-30T11:33:07.078Z"
   },
   {
    "duration": 14,
    "start_time": "2024-03-30T11:33:07.084Z"
   },
   {
    "duration": 7,
    "start_time": "2024-03-30T11:33:07.100Z"
   },
   {
    "duration": 9,
    "start_time": "2024-03-30T11:33:07.108Z"
   },
   {
    "duration": 9,
    "start_time": "2024-03-30T11:33:07.118Z"
   },
   {
    "duration": 6,
    "start_time": "2024-03-30T11:33:07.144Z"
   },
   {
    "duration": 6,
    "start_time": "2024-03-30T11:33:07.151Z"
   },
   {
    "duration": 5,
    "start_time": "2024-03-30T11:33:07.159Z"
   },
   {
    "duration": 8,
    "start_time": "2024-03-30T11:33:07.165Z"
   },
   {
    "duration": 13,
    "start_time": "2024-03-30T11:33:07.174Z"
   },
   {
    "duration": 5,
    "start_time": "2024-03-30T11:33:07.188Z"
   },
   {
    "duration": 9,
    "start_time": "2024-03-30T11:33:07.194Z"
   },
   {
    "duration": 47,
    "start_time": "2024-03-30T11:33:07.204Z"
   },
   {
    "duration": 6,
    "start_time": "2024-03-30T11:33:07.252Z"
   },
   {
    "duration": 203,
    "start_time": "2024-03-30T11:33:07.260Z"
   },
   {
    "duration": 6,
    "start_time": "2024-03-30T11:33:07.464Z"
   },
   {
    "duration": 94,
    "start_time": "2024-03-30T11:33:07.471Z"
   },
   {
    "duration": 5,
    "start_time": "2024-03-30T11:33:07.566Z"
   },
   {
    "duration": 298,
    "start_time": "2024-03-30T11:33:07.573Z"
   },
   {
    "duration": 8,
    "start_time": "2024-03-30T11:33:07.872Z"
   },
   {
    "duration": 9,
    "start_time": "2024-03-30T11:33:07.883Z"
   },
   {
    "duration": 191,
    "start_time": "2024-03-30T11:33:07.894Z"
   },
   {
    "duration": 197,
    "start_time": "2024-03-30T11:33:08.087Z"
   },
   {
    "duration": 2,
    "start_time": "2024-03-30T11:33:08.285Z"
   },
   {
    "duration": 3,
    "start_time": "2024-03-30T11:33:08.289Z"
   },
   {
    "duration": 3,
    "start_time": "2024-03-30T11:33:08.294Z"
   },
   {
    "duration": 198,
    "start_time": "2024-03-30T11:33:08.298Z"
   },
   {
    "duration": 255,
    "start_time": "2024-03-30T11:33:08.497Z"
   },
   {
    "duration": 4,
    "start_time": "2024-03-30T11:33:08.754Z"
   },
   {
    "duration": 15,
    "start_time": "2024-03-30T11:33:08.759Z"
   },
   {
    "duration": 188,
    "start_time": "2024-03-30T11:33:08.775Z"
   },
   {
    "duration": 8,
    "start_time": "2024-03-30T11:33:08.964Z"
   },
   {
    "duration": 15,
    "start_time": "2024-03-30T11:33:08.973Z"
   },
   {
    "duration": 59,
    "start_time": "2024-03-30T11:33:08.990Z"
   },
   {
    "duration": 6,
    "start_time": "2024-03-30T11:33:09.050Z"
   },
   {
    "duration": 5,
    "start_time": "2024-03-30T11:33:09.057Z"
   },
   {
    "duration": 8,
    "start_time": "2024-03-30T11:33:09.063Z"
   },
   {
    "duration": 199,
    "start_time": "2024-03-30T11:33:09.073Z"
   },
   {
    "duration": 7,
    "start_time": "2024-03-30T11:33:09.274Z"
   },
   {
    "duration": 202,
    "start_time": "2024-03-30T11:33:09.282Z"
   },
   {
    "duration": 9,
    "start_time": "2024-03-30T11:33:09.486Z"
   },
   {
    "duration": 235,
    "start_time": "2024-03-30T11:33:09.497Z"
   },
   {
    "duration": 13,
    "start_time": "2024-03-30T11:33:09.733Z"
   },
   {
    "duration": 210,
    "start_time": "2024-03-30T11:33:09.747Z"
   },
   {
    "duration": 35,
    "start_time": "2024-03-30T11:33:09.958Z"
   },
   {
    "duration": 4,
    "start_time": "2024-03-30T11:33:09.994Z"
   },
   {
    "duration": 19,
    "start_time": "2024-03-30T11:33:09.999Z"
   },
   {
    "duration": 8,
    "start_time": "2024-03-30T11:33:10.019Z"
   },
   {
    "duration": 177,
    "start_time": "2024-03-30T11:33:10.028Z"
   },
   {
    "duration": 3,
    "start_time": "2024-03-30T11:33:10.207Z"
   },
   {
    "duration": 12,
    "start_time": "2024-03-30T11:33:10.211Z"
   },
   {
    "duration": 6,
    "start_time": "2024-03-30T11:33:10.224Z"
   },
   {
    "duration": 248,
    "start_time": "2024-03-30T11:33:10.245Z"
   },
   {
    "duration": 8,
    "start_time": "2024-03-30T11:33:10.494Z"
   },
   {
    "duration": 7,
    "start_time": "2024-03-30T11:33:10.503Z"
   },
   {
    "duration": 169,
    "start_time": "2024-03-30T11:33:10.512Z"
   },
   {
    "duration": 7,
    "start_time": "2024-03-30T11:33:10.682Z"
   },
   {
    "duration": 7,
    "start_time": "2024-03-30T11:33:10.691Z"
   },
   {
    "duration": 13,
    "start_time": "2024-03-30T11:33:10.699Z"
   }
  ],
  "colab": {
   "collapsed_sections": [
    "YiSgUcujs_Qy",
    "R02LpKMntofX"
   ],
   "provenance": [],
   "toc_visible": true
  },
  "kernelspec": {
   "display_name": "Python 3",
   "language": "python",
   "name": "python3"
  },
  "language_info": {
   "codemirror_mode": {
    "name": "ipython",
    "version": 3
   },
   "file_extension": ".py",
   "mimetype": "text/x-python",
   "name": "python",
   "nbconvert_exporter": "python",
   "pygments_lexer": "ipython3",
   "version": "3.9.11"
  },
  "toc": {
   "base_numbering": 1,
   "nav_menu": {},
   "number_sections": true,
   "sideBar": true,
   "skip_h1_title": true,
   "title_cell": "Table of Contents",
   "title_sidebar": "Contents",
   "toc_cell": false,
   "toc_position": {},
   "toc_section_display": true,
   "toc_window_display": true
  }
 },
 "nbformat": 4,
 "nbformat_minor": 1
}
